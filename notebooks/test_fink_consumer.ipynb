{
 "cells": [
  {
   "cell_type": "code",
   "execution_count": 1,
   "id": "253e0087-c8ac-46f7-8868-e624a91e48b9",
   "metadata": {},
   "outputs": [
    {
     "name": "stderr",
     "output_type": "stream",
     "text": [
      "/Users/rwillia5/Library/Python/3.9/lib/python/site-packages/urllib3/__init__.py:35: NotOpenSSLWarning: urllib3 v2 only supports OpenSSL 1.1.1+, currently the 'ssl' module is compiled with 'LibreSSL 2.8.3'. See: https://github.com/urllib3/urllib3/issues/3020\n",
      "  warnings.warn(\n"
     ]
    }
   ],
   "source": [
    "#!pip3 install fink_client\n",
    "import fink_client\n",
    "from fink_client.consumer import AlertConsumer"
   ]
  },
  {
   "cell_type": "code",
   "execution_count": 2,
   "id": "48fdf262-1950-44f9-96ac-4eb12476430c",
   "metadata": {},
   "outputs": [],
   "source": [
    "import json\n",
    "not_wanted = ['cutoutDifference', \n",
    "              'cutoutTemplate', \n",
    "              'cutoutScience', \n",
    "              'candidate', \n",
    "              'prv_candidates']\n",
    "def fink_content(message):\n",
    "    \"\"\" This function removes the voluminous part of tha alert leaving the Fink added value\n",
    "    \"\"\"\n",
    "    wanted = {k: message[k] for k in message if k not in not_wanted}\n",
    "    return json.dumps(wanted, indent=2)"
   ]
  },
  {
   "cell_type": "markdown",
   "id": "cc90be29-a6a7-46a6-87a6-5222cb24a48c",
   "metadata": {},
   "source": [
    "## Fink topics\n",
    "See https://fink-broker.readthedocs.io/en/latest/broker/filters/"
   ]
  },
  {
   "cell_type": "code",
   "execution_count": 3,
   "id": "b4bdf027-0447-4e35-8233-18570553f9dd",
   "metadata": {},
   "outputs": [],
   "source": [
    "topics = [\n",
    "    'fink_sso_ztf_candidates_ztf',\n",
    "    'fink_early_sn_candidates_ztf',\n",
    "    'fink_sn_candidates_ztf',\n",
    "    'fink_kn_candidates_ztf',\n",
    "    'fink_early_kn_candidates_ztf',\n",
    "    'fink_rate_based_kn_candidates_ztf',\n",
    "]"
   ]
  },
  {
   "cell_type": "code",
   "execution_count": 4,
   "id": "a12c9616-7abb-48c0-bedf-344ed4a9e943",
   "metadata": {},
   "outputs": [],
   "source": [
    "import settings\n",
    "fink_config = {\n",
    "    'username':          settings.FINK_USERNAME ,\n",
    "    'bootstrap.servers': settings.FINK_SERVERS,\n",
    "    'group.id':          settings.FINK_GROUP_ID\n",
    "}"
   ]
  },
  {
   "cell_type": "code",
   "execution_count": 5,
   "id": "064e81ac-e730-4d32-a605-fe4576b25737",
   "metadata": {},
   "outputs": [
    {
     "name": "stdout",
     "output_type": "stream",
     "text": [
      "fink_sn_candidates_ztf\n",
      "ZTF24aapzirw\n",
      "{\n",
      "  \"schemavsn\": \"4.02\",\n",
      "  \"publisher\": \"Fink\",\n",
      "  \"objectId\": \"ZTF24aapzirw\",\n",
      "  \"candid\": 2789267450215015014,\n",
      "  \"brokerIngestTimestamp\": \"2024-08-21 07:17:26.546509\",\n",
      "  \"brokerStartProcessTimestamp\": \"2024-08-21 07:18:05.26264\",\n",
      "  \"fink_broker_version\": \"3.1\",\n",
      "  \"fink_science_version\": \"5.14.0\",\n",
      "  \"cdsxmatch\": \"Unknown\",\n",
      "  \"DR3Name\": \"Gaia DR3 2199808959690554496\",\n",
      "  \"Plx\": -0.00279999990016222,\n",
      "  \"e_Plx\": 0.10360000282526016,\n",
      "  \"vsx\": \"nan\",\n",
      "  \"spicy_id\": -1,\n",
      "  \"spicy_class\": \"Unknown\",\n",
      "  \"gcvs\": \"Unknown\",\n",
      "  \"x3hsp\": \"Unknown\",\n",
      "  \"x4lac\": \"Unknown\",\n",
      "  \"mangrove\": {\n",
      "    \"HyperLEDA_name\": \"None\",\n",
      "    \"2MASS_name\": \"None\",\n",
      "    \"lum_dist\": \"None\",\n",
      "    \"ang_dist\": \"None\"\n",
      "  },\n",
      "  \"roid\": 0,\n",
      "  \"rf_snia_vs_nonia\": 0.0,\n",
      "  \"snn_snia_vs_nonia\": 0.47199246287345886,\n",
      "  \"snn_sn_vs_all\": 0.6980131268501282,\n",
      "  \"mulens\": 0.0,\n",
      "  \"nalerthist\": 12,\n",
      "  \"rf_kn_vs_nonkn\": 0.0,\n",
      "  \"t2\": {\n",
      "    \"M-dwarf\": 0.0,\n",
      "    \"KN\": 0.0,\n",
      "    \"AGN\": 0.0,\n",
      "    \"SLSN-I\": 0.0,\n",
      "    \"RRL\": 0.0,\n",
      "    \"Mira\": 0.0,\n",
      "    \"SNIax\": 0.0,\n",
      "    \"TDE\": 0.0,\n",
      "    \"SNIa\": 0.0,\n",
      "    \"SNIbc\": 0.0,\n",
      "    \"SNIa-91bg\": 0.0,\n",
      "    \"mu-Lens-Single\": 0.0,\n",
      "    \"EB\": 0.0,\n",
      "    \"SNII\": 0.0\n",
      "  },\n",
      "  \"anomaly_score\": -0.011784255504608154,\n",
      "  \"lc_features_g\": {\n",
      "    \"mean\": 19.33214918003237,\n",
      "    \"weighted_mean\": 19.33214918003237,\n",
      "    \"standard_deviation\": NaN,\n",
      "    \"median\": 19.33214918003237,\n",
      "    \"amplitude\": 0.0,\n",
      "    \"beyond_1_std\": NaN,\n",
      "    \"cusum\": NaN,\n",
      "    \"inter_percentile_range_10\": 0.0,\n",
      "    \"kurtosis\": NaN,\n",
      "    \"linear_trend\": NaN,\n",
      "    \"linear_trend_sigma\": NaN,\n",
      "    \"linear_trend_noise\": NaN,\n",
      "    \"linear_fit_slope\": NaN,\n",
      "    \"linear_fit_slope_sigma\": NaN,\n",
      "    \"linear_fit_reduced_chi2\": NaN,\n",
      "    \"magnitude_percentage_ratio_40_5\": NaN,\n",
      "    \"magnitude_percentage_ratio_20_10\": NaN,\n",
      "    \"maximum_slope\": NaN,\n",
      "    \"median_absolute_deviation\": 0.0,\n",
      "    \"median_buffer_range_percentage_10\": 0.0,\n",
      "    \"percent_amplitude\": 0.0,\n",
      "    \"mean_variance\": NaN,\n",
      "    \"anderson_darling_normal\": NaN,\n",
      "    \"chi2\": NaN,\n",
      "    \"skew\": NaN,\n",
      "    \"stetson_K\": NaN\n",
      "  },\n",
      "  \"lc_features_r\": {\n",
      "    \"mean\": 17.86866186746029,\n",
      "    \"weighted_mean\": 17.873757755101217,\n",
      "    \"standard_deviation\": 0.03515313141523484,\n",
      "    \"median\": 17.864138733808165,\n",
      "    \"amplitude\": 0.05651774256971542,\n",
      "    \"beyond_1_std\": 0.36363636363636365,\n",
      "    \"cusum\": 0.3340463271080506,\n",
      "    \"inter_percentile_range_10\": 0.09912411708676316,\n",
      "    \"kurtosis\": -0.3365336775463805,\n",
      "    \"linear_trend\": -0.0026642669150711276,\n",
      "    \"linear_trend_sigma\": 0.0007998349361568791,\n",
      "    \"linear_trend_noise\": 0.02479775953023,\n",
      "    \"linear_fit_slope\": -0.0023424737940994493,\n",
      "    \"linear_fit_slope_sigma\": 0.001348459176353798,\n",
      "    \"linear_fit_reduced_chi2\": 0.5327929563802337,\n",
      "    \"magnitude_percentage_ratio_40_5\": 0.16800928037730564,\n",
      "    \"magnitude_percentage_ratio_20_10\": 0.5739584358346829,\n",
      "    \"maximum_slope\": 0.04433545742535685,\n",
      "    \"median_absolute_deviation\": 0.026595054667058804,\n",
      "    \"median_buffer_range_percentage_10\": 0.2727272727272727,\n",
      "    \"percent_amplitude\": 0.057746953435366066,\n",
      "    \"mean_variance\": 0.0019673063196327203,\n",
      "    \"anderson_darling_normal\": 0.30377102332453454,\n",
      "    \"chi2\": 0.7812821220008692,\n",
      "    \"skew\": -0.41517592268105347,\n",
      "    \"stetson_K\": 0.8373377907227673\n",
      "  },\n",
      "  \"jd_first_real_det\": 2460514.8279282,\n",
      "  \"jdstarthist_dt\": 51.92622679984197,\n",
      "  \"mag_rate\": -0.011881281178134008,\n",
      "  \"sigma_rate\": 0.057568877661432934,\n",
      "  \"lower_rate\": -0.10631599924741197,\n",
      "  \"upper_rate\": 0.0810509800620658,\n",
      "  \"delta_time\": 3.9494675998575985,\n",
      "  \"from_upper\": false,\n",
      "  \"brokerEndProcessTimestamp\": \"2024-08-21 07:18:22.70465\"\n",
      "}\n"
     ]
    },
    {
     "name": "stderr",
     "output_type": "stream",
     "text": [
      "%4|1725274574.380|MAXPOLL|rdkafka#consumer-1| [thrd:main]: Application maximum poll interval (300000ms) exceeded by 426ms (adjust max.poll.interval.ms for long-running message processing): leaving group\n"
     ]
    }
   ],
   "source": [
    "import time\n",
    "nalert = 0\n",
    "maxtimeout = 5\n",
    "consumer = AlertConsumer(topics, fink_config)\n",
    "while 1:\n",
    "    (topic, alert, version) = consumer.poll(maxtimeout)\n",
    "    if topic is None:\n",
    "        print('got none')\n",
    "        break\n",
    "\n",
    "    print(topic)\n",
    "    print(alert['objectId'])\n",
    "    print(fink_content(alert))\n",
    "    break\n",
    "    nalert += 1\n",
    "if nalert > 0:\n",
    "    print('\\n-- %d from Fink at %s' % (nalert, datetime.now()))\n"
   ]
  },
  {
   "cell_type": "code",
   "execution_count": null,
   "id": "30cab57a-f04c-4d62-a212-e8747253539e",
   "metadata": {},
   "outputs": [],
   "source": []
  }
 ],
 "metadata": {
  "kernelspec": {
   "display_name": "Python 3 (ipykernel)",
   "language": "python",
   "name": "python3"
  },
  "language_info": {
   "codemirror_mode": {
    "name": "ipython",
    "version": 3
   },
   "file_extension": ".py",
   "mimetype": "text/x-python",
   "name": "python",
   "nbconvert_exporter": "python",
   "pygments_lexer": "ipython3",
   "version": "3.9.6"
  }
 },
 "nbformat": 4,
 "nbformat_minor": 5
}
