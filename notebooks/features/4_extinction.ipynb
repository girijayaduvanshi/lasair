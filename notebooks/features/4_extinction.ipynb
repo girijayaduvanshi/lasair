{
 "cells": [
  {
   "cell_type": "code",
   "execution_count": 1,
   "id": "94ac142a-a97b-46f9-b606-90dce0df49c7",
   "metadata": {},
   "outputs": [],
   "source": [
    "import math\n",
    "def mag2flux(mag):\n",
    "    # flux in nanoJ\n",
    "    flux =  math.pow(10, (31.4 - mag)/2.5)\n",
    "    return flux\n",
    "def flux2mag(flux):\n",
    "    # flux in nanoJ\n",
    "    mag = 31.4 - 2.5*math.log10(flux)\n",
    "    return mag"
   ]
  },
  {
   "cell_type": "code",
   "execution_count": 2,
   "id": "ebe909a5-d511-4a94-9f51-f5169a305858",
   "metadata": {},
   "outputs": [
    {
     "name": "stderr",
     "output_type": "stream",
     "text": [
      "/Users/rwillia5/Library/Python/3.9/lib/python/site-packages/urllib3/__init__.py:35: NotOpenSSLWarning: urllib3 v2 only supports OpenSSL 1.1.1+, currently the 'ssl' module is compiled with 'LibreSSL 2.8.3'. See: https://github.com/urllib3/urllib3/issues/3020\n",
      "  warnings.warn(\n"
     ]
    }
   ],
   "source": [
    "import sys\n",
    "sys.path.append('/Library/Frameworks/Python.framework/Versions/3.12/lib/python3.12/site-packages/')\n",
    "from dustmaps.sfd import SFDQuery\n",
    "from astropy.coordinates import SkyCoord"
   ]
  },
  {
   "cell_type": "code",
   "execution_count": 3,
   "id": "29dc5511-5660-4769-b134-4810af34583d",
   "metadata": {},
   "outputs": [],
   "source": [
    "# The LSST bands\n",
    "EXTCOEF   = {'u':4.145, 'g':3.237, 'r':2.273, 'i':1.684, 'z':1.323, 'y':1.088}"
   ]
  },
  {
   "cell_type": "code",
   "execution_count": 11,
   "id": "a657565e-dea1-425c-b633-951dbbd50b84",
   "metadata": {},
   "outputs": [
    {
     "name": "stdout",
     "output_type": "stream",
     "text": [
      "E(B-V) 0.92\n"
     ]
    }
   ],
   "source": [
    "ra   = 270\n",
    "decl = -30\n",
    "\n",
    "sfd = SFDQuery()\n",
    "c = SkyCoord(ra, decl, unit=\"deg\", frame='icrs')\n",
    "ebv = float(sfd(c))\n",
    "print('E(B-V) %.2f' % ebv)"
   ]
  },
  {
   "cell_type": "code",
   "execution_count": 5,
   "id": "24660394-1c81-458d-bc5d-c6878c89c1f8",
   "metadata": {},
   "outputs": [],
   "source": [
    "def dustmag(mag, band, ebv):\n",
    "    return mag - ebv*EXTCOEF[band]"
   ]
  },
  {
   "cell_type": "code",
   "execution_count": 9,
   "id": "02d17391-3dda-4875-bca6-b5ec76f91ca3",
   "metadata": {},
   "outputs": [
    {
     "name": "stdout",
     "output_type": "stream",
     "text": [
      "g-r       0.37\n",
      "g-r corr -0.52\n"
     ]
    }
   ],
   "source": [
    "fluxg = 100000.\n",
    "fluxr = 140000.\n",
    "gmag = flux2mag(fluxg)\n",
    "rmag = flux2mag(fluxr)\n",
    "print('g-r       %.2f' % (gmag-rmag))\n",
    "\n",
    "gcorr = gmag - ebv*EXTCOEF['g']\n",
    "rcorr = rmag - ebv*EXTCOEF['r']\n",
    "print('g-r corr %.2f' % (gcorr-rcorr))"
   ]
  },
  {
   "cell_type": "code",
   "execution_count": null,
   "id": "34b51cc7-fafe-401a-bec9-2db4cc29ddd2",
   "metadata": {},
   "outputs": [],
   "source": []
  }
 ],
 "metadata": {
  "kernelspec": {
   "display_name": "Python 3 (ipykernel)",
   "language": "python",
   "name": "python3"
  },
  "language_info": {
   "codemirror_mode": {
    "name": "ipython",
    "version": 3
   },
   "file_extension": ".py",
   "mimetype": "text/x-python",
   "name": "python",
   "nbconvert_exporter": "python",
   "pygments_lexer": "ipython3",
   "version": "3.9.6"
  }
 },
 "nbformat": 4,
 "nbformat_minor": 5
}
