{
 "cells": [
  {
   "cell_type": "markdown",
   "id": "be9efb82-ee93-4bec-a6a2-b966b8b54d71",
   "metadata": {},
   "source": [
    "## Extinction Corrected Effective Temperature\n",
    "The LSST cadence includes a lot of \"revisits\", meaning the same object imaged \n",
    "in different bandpasses about 30 minutes apart. See https://survey-strategy.lsst.io/baseline/wfd.html\n",
    "This is an opportunity to get a colour measurement of the object.\n",
    "The pair of bandpasses are not just g+r but can be several combinations, see `REVISITS` below,\n",
    "where the numbers index the LSST bands, so (0,2) means u+r bands.\n",
    "\n",
    "Because the pair of bands vary, it is difficult to understand the meaning \n",
    "-- how is a u-r colour different from a g-r colour? Therefore Lasair would like to compute an\n",
    "effective temperature from the two fluxes, to serve as a universal measure. If you want blue, filter out\n",
    "the low temperatures, rather than having different criteria for different pairs of bandpasses.\n",
    "To make this temperature even more useful, we make extinction correction first.\n",
    "\n",
    "The executive summary:\n",
    "- If g-r is 0.99, with no extinction, then the temperature is 3,620K.\n",
    "- If g-r is 0.99 and very dusty, then the temperature is 7,740 K."
   ]
  },
  {
   "cell_type": "code",
   "execution_count": 1,
   "id": "7f1170bb-4450-4b2b-80b6-3fb8b212123b",
   "metadata": {},
   "outputs": [],
   "source": [
    "# The LSST bands, wavelength in microns\n",
    "WL    = [0.380,     0.500,     0.620,     0.740,     0.880,     1.000, ]\n",
    "BANDS = ['u',       'g',       'r'  ,     'i'  ,     'z'  ,     'y'    ]"
   ]
  },
  {
   "cell_type": "code",
   "execution_count": 2,
   "id": "20ef7ad7-72da-4713-b5e1-2435081f99de",
   "metadata": {},
   "outputs": [],
   "source": [
    "# the revisit strategy\n",
    "# u+g, u+r, g+r, r+i,  i+z,  z+y\n",
    "# from https://survey-strategy.lsst.io/baseline/wfd.html\n",
    "REVISITS = [(0,1), (0,2), (1,2), (2,3), (3,4), (4,5)]"
   ]
  },
  {
   "cell_type": "markdown",
   "id": "5bba3752-6aa9-4fd5-a955-3baed975ca47",
   "metadata": {},
   "source": [
    "These coefficients are for the extinction correction. \n",
    "For the g-filter, for example, an E(B-V) value of 0.5 \n",
    "would increase the g magnitude number by 0.5*3.237 = 1.618 mags,\n",
    "equivalently decrease the flux by a factor of 10^(1.618/2.5) = 4.43."
   ]
  },
  {
   "cell_type": "code",
   "execution_count": 3,
   "id": "f654dc9e-a6d7-4220-a032-02252056c5ec",
   "metadata": {},
   "outputs": [],
   "source": [
    "# Multiplier for EBV for magnitude correction\n",
    "# Table 6: \"F99 Reddening in Different Bandpasses\" of Schlafly & Finkbeiner (2011) using RV = 3.1\n",
    "EXTCOEF   = [4.145,    3.237,    2.273,    1.684,    1.323,    1.088]"
   ]
  },
  {
   "cell_type": "markdown",
   "id": "40e0fd3e-ec0e-4055-a563-eb0a2ecbd396",
   "metadata": {},
   "source": [
    "You need to install the `dustmaps` package"
   ]
  },
  {
   "cell_type": "code",
   "execution_count": 4,
   "id": "7d4c8fb3-5833-46c1-b71b-4bd0b25e0abb",
   "metadata": {},
   "outputs": [
    {
     "name": "stderr",
     "output_type": "stream",
     "text": [
      "/Users/rwillia5/Library/Python/3.9/lib/python/site-packages/urllib3/__init__.py:35: NotOpenSSLWarning: urllib3 v2 only supports OpenSSL 1.1.1+, currently the 'ssl' module is compiled with 'LibreSSL 2.8.3'. See: https://github.com/urllib3/urllib3/issues/3020\n",
      "  warnings.warn(\n"
     ]
    }
   ],
   "source": [
    "import sys, math\n",
    "sys.path.append('/Library/Frameworks/Python.framework/Versions/3.12/lib/python3.12/site-packages/')\n",
    "from dustmaps.sfd import SFDQuery\n",
    "from astropy.coordinates import SkyCoord"
   ]
  },
  {
   "cell_type": "markdown",
   "id": "e176e622-e862-47b5-ad02-78b6fb023778",
   "metadata": {},
   "source": [
    "### Flux and magnitude\n",
    "LSST is all flux, but people like colour as magnitude differences. Here are the converters."
   ]
  },
  {
   "cell_type": "code",
   "execution_count": 5,
   "id": "ea03fd1f-d09a-49bd-9b4a-b5077080181a",
   "metadata": {},
   "outputs": [],
   "source": [
    "def mag2flux(mag):\n",
    "    # flux in nanoJ\n",
    "    flux =  math.pow(10, (31.4 - mag)/2.5)\n",
    "    return flux\n",
    "def flux2mag(flux):\n",
    "    # flux in nanoJ\n",
    "    mag = 31.4 - 2.5*math.log10(flux)\n",
    "    return mag"
   ]
  },
  {
   "cell_type": "markdown",
   "id": "c14bfbb8-bc05-45d1-89cd-649d0704be22",
   "metadata": {},
   "source": [
    "### Blackbody spectrum\n",
    "This formula is \"per Hertz\" to match up with the definition of Jansky.\n",
    "The number 'hck' is planck * speed of light / boltzmann, with temperature in kilokelvin and wavelength in microns.\n",
    "There is also the derivative with respect to T so that we can do a Newton solver.\n",
    "The commented out code shows that the derivative formula is numerically correct."
   ]
  },
  {
   "cell_type": "code",
   "execution_count": 6,
   "id": "18627ece-1da4-4195-b5b2-37ab6d457390",
   "metadata": {},
   "outputs": [],
   "source": [
    "def blackbody(wl, T):\n",
    "    hck = 14.387\n",
    "    q = math.exp(hck/(wl*T))\n",
    "    return math.pow(wl, -3.0) /(q - 1)\n",
    "\n",
    "def dblackbody(wl, T):\n",
    "    hck = 14.387\n",
    "    q = math.exp(hck/(wl*T))\n",
    "    return math.pow(wl, -3.0) * (hck/(wl*T*T)) * q/((q-1)*(q-1))\n",
    "    \n",
    "# show that the derivative formula is right\n",
    "#T = 8\n",
    "#wl = 0.7\n",
    "#dT = 0.0001\n",
    "#d1 = (blackbody(wl, T+dT) - blackbody(wl, T))/dT\n",
    "#d2 = dblackbody(wl, T)\n",
    "#print(d1, d2)"
   ]
  },
  {
   "cell_type": "markdown",
   "id": "62ae45af-d653-47fa-beae-644d35bbe48a",
   "metadata": {},
   "source": [
    "### Newton solver\n",
    "Given a flux ratio `fluxrat` and two wavelengths `wl1` and `wl2`, we want to solve for the temperature `T`:\n",
    "```\n",
    "blackbody(wl1, T)/blackbody(wl2, T) = fluxrat\n",
    "\n",
    "--> blackbody(wl1, T) - fluxrat* blackbody(wl2, T) = 0\n",
    "```\n",
    "However the flux ratio is first modified because of extinction, as the different \n",
    "wavelengths are extincted differently. See `EXTCOEF` above. First we make a magnitude change, \n",
    "then convert that to a multiplier on the flux ratio."
   ]
  },
  {
   "cell_type": "code",
   "execution_count": 7,
   "id": "2730dd42-6587-461a-ac2e-d9feec1b3b30",
   "metadata": {},
   "outputs": [],
   "source": [
    "def solve_for_temperature(fluxrat, i1, i2, ebv=0):\n",
    "    \n",
    "    # modify fluxrat for extinction\n",
    "    mag_corr = ebv*(EXTCOEF[i1] - EXTCOEF[i2])\n",
    "    fluxrat_corr = fluxrat*math.pow(10, mag_corr/2.5)\n",
    "    \n",
    "    T = 12  # guess 12,000 kelvin\n",
    "    wl1 = WL[i1]\n",
    "    wl2 = WL[i2]\n",
    "    for i in range(50):\n",
    "        try:\n",
    "            fr  =  blackbody(wl1, T) - fluxrat_corr* blackbody(wl2, T)\n",
    "            dfr = dblackbody(wl1, T) - fluxrat_corr*dblackbody(wl2, T)\n",
    "        except:\n",
    "            return None\n",
    "        dT = fr/dfr\n",
    "        T = T - dT\n",
    "        if abs(dT) < 0.001: return T # convergence\n",
    "            \n",
    "        if T < 0: return None  # not interested in negative temperatures\n",
    "    return None"
   ]
  },
  {
   "cell_type": "markdown",
   "id": "0af6518b-8abc-4752-bea7-17c310674a91",
   "metadata": {},
   "source": [
    "### Everything below is presentation"
   ]
  },
  {
   "cell_type": "code",
   "execution_count": 8,
   "id": "0bd37c55-823e-4681-9969-dd5a676ff1d2",
   "metadata": {},
   "outputs": [],
   "source": [
    "def printline(fluxrat, i1, i2, ebv):\n",
    "    magdiff = -2.5*math.log10(fluxrat)\n",
    "    print('%5.2f   %5.2f |' % (fluxrat, magdiff), end='')\n",
    "    for (i1,i2) in REVISITS:\n",
    "        s = solve_for_temperature(fluxrat, i1, i2, ebv)\n",
    "        if s:\n",
    "            print('%8.2f' % s, end='')\n",
    "        else:\n",
    "            print('     -- ', end='')\n",
    "    print()"
   ]
  },
  {
   "cell_type": "code",
   "execution_count": 9,
   "id": "ed9299bd-dde9-483a-a440-43789a93c51e",
   "metadata": {},
   "outputs": [],
   "source": [
    "def make_table(ebv):\n",
    "    print('RA,Dec = %.1f,%.1f, E(B-V) = %.3f' % (ra, decl, ebv))\n",
    "    print('Temperature in kK for given flux ratio in given bands')\n",
    "    print('Flux rat| m-m |', end='')\n",
    "    for (i1,i2) in REVISITS:\n",
    "        print('%s-%s     ' % (BANDS[i1], BANDS[i2]), end='')\n",
    "    print()\n",
    "\n",
    "    for i in range(10):\n",
    "        fluxrat = 0.02*i + 0.01\n",
    "        printline(fluxrat, i1, i2, ebv)\n",
    "    for i in range(20):\n",
    "        fluxrat = 0.1*i + 0.2\n",
    "        printline(fluxrat, i1, i2, ebv)   "
   ]
  },
  {
   "cell_type": "markdown",
   "id": "df878719-30dc-4af5-a1be-7ece811ae06e",
   "metadata": {},
   "source": [
    "### Clear and dusty\n",
    "First we make a run with a clear sky, far from milky way, E(B-V)=0.027.\n",
    "The we make a run with a dusty sky, near the galactic centre, E(B-V)=0.919."
   ]
  },
  {
   "cell_type": "code",
   "execution_count": 10,
   "id": "9bf83254-59f8-48b7-b14b-3232e7af8e61",
   "metadata": {},
   "outputs": [
    {
     "name": "stdout",
     "output_type": "stream",
     "text": [
      "RA,Dec = 180.0,50.0, E(B-V) = 0.027\n",
      "Temperature in kK for given flux ratio in given bands\n",
      "Flux rat| m-m |u-g     u-r     g-r     r-i     i-z     z-y     \n",
      " 0.01    5.00 |    1.68    2.43    1.07    0.73    0.60    0.39\n",
      " 0.03    3.81 |    2.11    2.97    1.35    0.94    0.77    0.51\n",
      " 0.05    3.25 |    2.39    3.32    1.54    1.07    0.88    0.58\n",
      " 0.07    2.89 |    2.63    3.59    1.70    1.18    0.98    0.65\n",
      " 0.09    2.61 |    2.83    3.83    1.84    1.29    1.06    0.70\n",
      " 0.11    2.40 |    3.02    4.04    1.97    1.38    1.14    0.76\n",
      " 0.13    2.22 |    3.20    4.24    2.09    1.47    1.21    0.81\n",
      " 0.15    2.06 |    3.37    4.42    2.21    1.56    1.28    0.86\n",
      " 0.17    1.92 |    3.53    4.60    2.33    1.64    1.35    0.91\n",
      " 0.19    1.80 |    3.69    4.76    2.44    1.73    1.42    0.96\n",
      " 0.20    1.75 |    3.77    4.85    2.50    1.77    1.46    0.99\n",
      " 0.30    1.31 |    4.54    5.61    3.05    2.19    1.80    1.24\n",
      " 0.40    0.99 |    5.30    6.33    3.62    2.63    2.17    1.52\n",
      " 0.50    0.75 |    6.11    7.04    4.25    3.11    2.57    1.83\n",
      " 0.60    0.55 |    6.99    7.76    4.94    3.68    3.04    2.21\n",
      " 0.70    0.39 |    7.98    8.50    5.76    4.34    3.59    2.68\n",
      " 0.80    0.24 |    9.12    9.29    6.74    5.17    4.28    3.30\n",
      " 0.90    0.11 |   10.48   10.14    7.97    6.26    5.19    4.17\n",
      " 1.00   -0.00 |   12.15   11.06    9.61    7.80    6.46    5.54\n",
      " 1.10   -0.10 |   14.29   12.08   11.96   10.21    8.47    8.22\n",
      " 1.20   -0.20 |   17.21   13.21   15.70   14.76   12.29   16.71\n",
      " 1.30   -0.28 |     --    14.49     --      --    23.15     -- \n",
      " 1.40   -0.37 |     --    15.96     --      --      --      -- \n",
      " 1.50   -0.44 |     --    17.69     --      --      --      -- \n",
      " 1.60   -0.51 |     --      --      --      --      --      -- \n",
      " 1.70   -0.58 |     --      --      --      --      --      -- \n",
      " 1.80   -0.64 |     --      --      --      --      --      -- \n",
      " 1.90   -0.70 |     --      --      --      --      --      -- \n",
      " 2.00   -0.75 |     --     0.15     --      --      --      -- \n",
      " 2.10   -0.81 |     --      --      --      --      --      -- \n",
      "================\n",
      "RA,Dec = 270.0,-30.0, E(B-V) = 0.919\n",
      "Temperature in kK for given flux ratio in given bands\n",
      "Flux rat| m-m |u-g     u-r     g-r     r-i     i-z     z-y     \n",
      " 0.01    5.00 |    1.95    3.26    1.26    0.81    0.64    0.41\n",
      " 0.03    3.81 |    2.55    4.33    1.67    1.06    0.83    0.53\n",
      " 0.05    3.25 |    2.98    5.11    1.97    1.24    0.96    0.62\n",
      " 0.07    2.89 |    3.35    5.80    2.24    1.40    1.08    0.69\n",
      " 0.09    2.61 |    3.69    6.46    2.49    1.54    1.18    0.76\n",
      " 0.11    2.40 |    4.02    7.12    2.73    1.68    1.28    0.82\n",
      " 0.13    2.22 |    4.34    7.79    2.98    1.82    1.37    0.88\n",
      " 0.15    2.06 |    4.66    8.49    3.23    1.95    1.46    0.94\n",
      " 0.17    1.92 |    4.98    9.22    3.48    2.09    1.56    1.00\n",
      " 0.19    1.80 |    5.31   10.00    3.74    2.22    1.65    1.06\n",
      " 0.20    1.75 |    5.47   10.42    3.87    2.29    1.70    1.09\n",
      " 0.30    1.31 |    7.30   15.91    5.44    3.05    2.18    1.41\n",
      " 0.40    0.99 |    9.68     --     7.74    3.99    2.74    1.78\n",
      " 0.50    0.75 |   13.24     --    12.07    5.28    3.43    2.24\n",
      " 0.60    0.55 |     --      --      --     7.33    4.34    2.83\n",
      " 0.70    0.39 |     --      --      --    11.47    5.66    3.68\n",
      " 0.80    0.24 |     --      --      --      --     7.89    5.05\n",
      " 0.90    0.11 |     --      --      --      --    12.92    7.90\n",
      " 1.00   -0.00 |     --      --      --      --      --    19.50\n",
      " 1.10   -0.10 |     --      --      --      --      --      -- \n",
      " 1.20   -0.20 |     --      --      --      --      --      -- \n",
      " 1.30   -0.28 |     --      --      --      --      --      -- \n",
      " 1.40   -0.37 |     --      --      --      --      --      -- \n",
      " 1.50   -0.44 |     --      --      --      --      --      -- \n",
      " 1.60   -0.51 |     --      --      --      --      --      -- \n",
      " 1.70   -0.58 |     --      --      --      --      --      -- \n",
      " 1.80   -0.64 |     --      --      --      --      --      -- \n",
      " 1.90   -0.70 |     --      --      --      --      --      -- \n",
      " 2.00   -0.75 |     --      --      --      --      --      -- \n",
      " 2.10   -0.81 |     --      --      --      --      --      -- \n"
     ]
    }
   ],
   "source": [
    "sfd = SFDQuery()\n",
    "\n",
    "# clear view\n",
    "ra   = 180\n",
    "decl =  50\n",
    "c = SkyCoord(ra, decl, unit=\"deg\", frame='icrs')\n",
    "ebv = float(sfd(c))\n",
    "make_table(ebv)\n",
    "\n",
    "print('================')\n",
    "\n",
    "# dusty\n",
    "ra   = 270\n",
    "decl = -30\n",
    "c = SkyCoord(ra, decl, unit=\"deg\", frame='icrs')\n",
    "ebv = float(sfd(c))\n",
    "make_table(ebv)"
   ]
  }
 ],
 "metadata": {
  "kernelspec": {
   "display_name": "Python 3 (ipykernel)",
   "language": "python",
   "name": "python3"
  },
  "language_info": {
   "codemirror_mode": {
    "name": "ipython",
    "version": 3
   },
   "file_extension": ".py",
   "mimetype": "text/x-python",
   "name": "python",
   "nbconvert_exporter": "python",
   "pygments_lexer": "ipython3",
   "version": "3.9.6"
  }
 },
 "nbformat": 4,
 "nbformat_minor": 5
}
