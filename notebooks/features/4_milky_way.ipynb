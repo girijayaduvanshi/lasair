{
 "cells": [
  {
   "cell_type": "code",
   "execution_count": 53,
   "id": "9584dde9-50ca-4193-9aef-6c84fbc18527",
   "metadata": {},
   "outputs": [],
   "source": [
    "import math"
   ]
  },
  {
   "cell_type": "markdown",
   "id": "cf5208a8-518e-4cfa-9b88-2b02ce564d3e",
   "metadata": {},
   "source": [
    "## Extinction and galactic latitude for given point"
   ]
  },
  {
   "cell_type": "code",
   "execution_count": 54,
   "id": "94ac142a-a97b-46f9-b606-90dce0df49c7",
   "metadata": {},
   "outputs": [],
   "source": [
    "# Standard transform between magnitudes and nanoJanskies\n",
    "def mag2flux(mag):\n",
    "    # flux in nanoJ\n",
    "    flux =  math.pow(10, (31.4 - mag)/2.5)\n",
    "    return flux\n",
    "def flux2mag(flux):\n",
    "    # flux in nanoJ\n",
    "    mag = 31.4 - 2.5*math.log10(flux)\n",
    "    return mag"
   ]
  },
  {
   "cell_type": "code",
   "execution_count": 55,
   "id": "ebe909a5-d511-4a94-9f51-f5169a305858",
   "metadata": {},
   "outputs": [],
   "source": [
    "import sys\n",
    "sys.path.append('/Library/Frameworks/Python.framework/Versions/3.12/lib/python3.12/site-packages/')\n",
    "from dustmaps.sfd import SFDQuery\n",
    "from astropy.coordinates import SkyCoord"
   ]
  },
  {
   "cell_type": "markdown",
   "id": "d9c43d59-5ea0-413a-91a8-ab19842d4dd6",
   "metadata": {},
   "source": [
    "### Choose an arbirary point in the sky"
   ]
  },
  {
   "cell_type": "code",
   "execution_count": 56,
   "id": "63ea5c6b-71f2-4a41-b6c5-371a3cf5836a",
   "metadata": {},
   "outputs": [],
   "source": [
    "ra   = 270\n",
    "decl = -30"
   ]
  },
  {
   "cell_type": "markdown",
   "id": "4b171855-488a-4665-a374-bae58b8a7e43",
   "metadata": {},
   "source": [
    "### Calculate galactic latitude"
   ]
  },
  {
   "cell_type": "code",
   "execution_count": 57,
   "id": "5b87e308-d235-4df1-a1df-2e9db858585f",
   "metadata": {},
   "outputs": [
    {
     "name": "stdout",
     "output_type": "stream",
     "text": [
      "Galactic latitude is -3.236\n"
     ]
    }
   ],
   "source": [
    "# https://en.wikipedia.org/wiki/Galactic_coordinate_system\n",
    "alphaNGP = 192.85948\n",
    "deltaNGP =  27.1283\n",
    "sdngp = math.sin(math.radians(deltaNGP))\n",
    "cdngp = math.cos(math.radians(deltaNGP))\n",
    "sde = math.sin(math.radians(decl))\n",
    "cde = math.cos(math.radians(decl))\n",
    "cra = math.cos(math.radians(ra - alphaNGP))\n",
    "glat = math.degrees(math.asin(sdngp*sde + cdngp*cde*cra))\n",
    "print('Galactic latitude is %.3f' % glat)"
   ]
  },
  {
   "cell_type": "markdown",
   "id": "a0f5fe36-8141-4d1a-b35a-9056a58535a3",
   "metadata": {},
   "source": [
    "### Calculate extinction\n",
    "Need `pip install dustmaps`, which implements [Schlegel, Finkbeiner, and Davis](https://iopscience.iop.org/article/10.1086/305772)"
   ]
  },
  {
   "cell_type": "code",
   "execution_count": 58,
   "id": "a657565e-dea1-425c-b633-951dbbd50b84",
   "metadata": {},
   "outputs": [
    {
     "name": "stdout",
     "output_type": "stream",
     "text": [
      "E(B-V) 0.92\n"
     ]
    }
   ],
   "source": [
    "sfd = SFDQuery()\n",
    "c = SkyCoord(ra, decl, unit=\"deg\", frame='icrs')\n",
    "ebv = float(sfd(c))\n",
    "print('E(B-V) %.2f' % ebv)"
   ]
  },
  {
   "cell_type": "markdown",
   "id": "56d78c29-08b5-4074-ad7f-3e5dad084f45",
   "metadata": {},
   "source": [
    "### Corrected colour for extinction\n",
    "These colour corrections are from Table 6 of \n",
    "[Schlafly and Finkbeiner](https://iopscience.iop.org/article/10.1088/0004-637X/737/2/103) with RV=3.1"
   ]
  },
  {
   "cell_type": "code",
   "execution_count": 59,
   "id": "29dc5511-5660-4769-b134-4810af34583d",
   "metadata": {},
   "outputs": [],
   "source": [
    "# The LSST bands\n",
    "EXTCOEF   = {'u':4.145, 'g':3.237, 'r':2.273, 'i':1.684, 'z':1.323, 'y':1.088}"
   ]
  },
  {
   "cell_type": "code",
   "execution_count": 60,
   "id": "24660394-1c81-458d-bc5d-c6878c89c1f8",
   "metadata": {},
   "outputs": [],
   "source": [
    "# Modify magnituder for extinction\n",
    "def dustmag(mag, band, ebv):\n",
    "    return mag - ebv*EXTCOEF[band]"
   ]
  },
  {
   "cell_type": "code",
   "execution_count": 61,
   "id": "02d17391-3dda-4875-bca6-b5ec76f91ca3",
   "metadata": {},
   "outputs": [
    {
     "name": "stdout",
     "output_type": "stream",
     "text": [
      "g-r       0.365\n",
      "g-r corr -0.520\n"
     ]
    }
   ],
   "source": [
    "# Suppose we have a flux ratio of 1.4, meaning magnitude difference 0.365\n",
    "fluxg = 100000.\n",
    "fluxr = 140000.\n",
    "gmag = flux2mag(fluxg)\n",
    "rmag = flux2mag(fluxr)\n",
    "print('g-r       %.3f' % (gmag-rmag))\n",
    "\n",
    "gcorr = gmag - ebv*EXTCOEF['g']\n",
    "rcorr = rmag - ebv*EXTCOEF['r']\n",
    "print('g-r corr %.3f' % (gcorr-rcorr))"
   ]
  },
  {
   "cell_type": "code",
   "execution_count": null,
   "id": "34b51cc7-fafe-401a-bec9-2db4cc29ddd2",
   "metadata": {},
   "outputs": [],
   "source": []
  }
 ],
 "metadata": {
  "kernelspec": {
   "display_name": "Python 3 (ipykernel)",
   "language": "python",
   "name": "python3"
  },
  "language_info": {
   "codemirror_mode": {
    "name": "ipython",
    "version": 3
   },
   "file_extension": ".py",
   "mimetype": "text/x-python",
   "name": "python",
   "nbconvert_exporter": "python",
   "pygments_lexer": "ipython3",
   "version": "3.9.6"
  }
 },
 "nbformat": 4,
 "nbformat_minor": 5
}
