{
 "cells": [
  {
   "cell_type": "code",
   "execution_count": 1,
   "id": "e67a790a-c11e-4927-a7c8-7661078624e1",
   "metadata": {},
   "outputs": [
    {
     "name": "stderr",
     "output_type": "stream",
     "text": [
      "/Users/rwillia5/Library/Python/3.9/lib/python/site-packages/urllib3/__init__.py:35: NotOpenSSLWarning: urllib3 v2 only supports OpenSSL 1.1.1+, currently the 'ssl' module is compiled with 'LibreSSL 2.8.3'. See: https://github.com/urllib3/urllib3/issues/3020\n",
      "  warnings.warn(\n"
     ]
    }
   ],
   "source": [
    "import json, sys, settings, random\n",
    "import lasair"
   ]
  },
  {
   "cell_type": "code",
   "execution_count": 2,
   "id": "8cd547f9-854d-473e-a3b4-2d5b6d7bcbe3",
   "metadata": {},
   "outputs": [],
   "source": [
    "# the lasair client will be used for pulling all the info about the object\n",
    "# and for annotating it\n",
    "L = lasair.lasair_client(settings.API_TOKEN)"
   ]
  },
  {
   "cell_type": "code",
   "execution_count": 3,
   "id": "a5838845-113f-49a0-8b4c-91c5331f5449",
   "metadata": {},
   "outputs": [],
   "source": [
    "selected = 'objects.objectId, sherlock_classifications.classification as class'\n",
    "tables = 'objects,sherlock_classifications'\n",
    "conditions = 'ncandgp>20 AND objects.jdmax > %.1f' % (settings.MJD - settings.NEW_TIME)\n",
    "results = L.query(selected, tables, conditions, limit=settings.MAX_ALERT)"
   ]
  },
  {
   "cell_type": "code",
   "execution_count": 4,
   "id": "0f7c5095-e820-4ff1-9081-65f661600d9c",
   "metadata": {},
   "outputs": [],
   "source": [
    "from scipy.stats import ttest_ind"
   ]
  },
  {
   "cell_type": "code",
   "execution_count": 5,
   "id": "d611340b-f5af-403a-96d8-606992e734ad",
   "metadata": {},
   "outputs": [],
   "source": [
    "def change_of_mean(alert, old_time, new_time):\n",
    "    sources  = [c for c in alert['candidates'] if 'candid' in c]\n",
    "    sources.sort(key = lambda c: c['mjd'])\n",
    " \n",
    "    tlast = sources[-1]['mjd']\n",
    "    magsold = []\n",
    "    magsnew = []\n",
    "    for c in sources:\n",
    "        if c['mjd'] > tlast - new_time - old_time:\n",
    "#            print(c['mjd'], c['magpsf'])\n",
    "            if c['mjd'] > tlast - new_time:\n",
    "                magsnew.append(c['magpsf'])\n",
    "            else:\n",
    "                magsold.append(c['magpsf'])\n",
    "#    print(objectId, len(sources), len(magsold), len(magsnew))\n",
    "    if len(magsnew) < 3 or len(magsold) < 3:\n",
    "        return None\n",
    "    magsoldmean = sum(magsold)/len(magsold)\n",
    "    magsnewmean = sum(magsnew)/len(magsnew)\n",
    "\n",
    "    s = ttest_ind(magsold, magsnew)\n",
    "    return (s.pvalue, len(magsold), len(magsnew), magsnewmean-magsoldmean)"
   ]
  },
  {
   "cell_type": "code",
   "execution_count": 6,
   "id": "5eceba81-c020-47bf-be3f-62bfac31f430",
   "metadata": {},
   "outputs": [
    {
     "name": "stdout",
     "output_type": "stream",
     "text": [
      "https://lasair-ztf.lsst.ac.uk/objects/ZTF17aaagnlf  VS    0.008 (17 12 -1.6)\n",
      "https://lasair-ztf.lsst.ac.uk/objects/ZTF17aaaikoz  CV    0.047 (20 15 0.5)\n",
      "https://lasair-ztf.lsst.ac.uk/objects/ZTF17aaarsle  VS    0.046 (20 16 -0.8)\n",
      "https://lasair-ztf.lsst.ac.uk/objects/ZTF18aalphqo  VS    0.000 (10 19 0.8)\n",
      "https://lasair-ztf.lsst.ac.uk/objects/ZTF18aatpicc  VS    0.003 (11 47 0.4)\n"
     ]
    }
   ],
   "source": [
    "for row in results:\n",
    "    objectId = row['objectId']\n",
    "    alert = L.objects([objectId])[0]\n",
    "    ret = change_of_mean(alert, settings.OLD_TIME, settings.NEW_TIME)\n",
    "    if ret: \n",
    "        (pvalue, n_old, n_new, new_minus_old) = ret\n",
    "        if pvalue < 0.05:\n",
    "            print('https://lasair-ztf.lsst.ac.uk/objects/%s %3s %8.3f (%d %d %.1f)' % \\\n",
    "                  (objectId, row['class'], pvalue, n_old, n_new, new_minus_old))"
   ]
  }
 ],
 "metadata": {
  "kernelspec": {
   "display_name": "Python 3 (ipykernel)",
   "language": "python",
   "name": "python3"
  },
  "language_info": {
   "codemirror_mode": {
    "name": "ipython",
    "version": 3
   },
   "file_extension": ".py",
   "mimetype": "text/x-python",
   "name": "python",
   "nbconvert_exporter": "python",
   "pygments_lexer": "ipython3",
   "version": "3.9.6"
  }
 },
 "nbformat": 4,
 "nbformat_minor": 5
}
