{
 "cells": [
  {
   "cell_type": "markdown",
   "metadata": {
    "id": "fdk7f17q0By_"
   },
   "source": [
    "# Cone Search\n",
    "### Ken Smith\n",
    "Simple cone search.  Given RA, Dec, radius and type of parameter we want do a cone search.  \n",
    "\n",
    "Demonstrates usage of:\n",
    "* /cone/\n",
    "\n",
    "### Python (3 only) requirements - pip install\n",
    "lasair"
   ]
  },
  {
   "cell_type": "code",
   "execution_count": 18,
   "metadata": {
    "colab": {
     "base_uri": "https://localhost:8080/"
    },
    "id": "HDy9GRPR0WtB",
    "outputId": "899aed8b-ecd2-47bb-d85e-c2cdc0d27c46"
   },
   "outputs": [
    {
     "name": "stdout",
     "output_type": "stream",
     "text": [
      "Requirement already satisfied: lasair in /Library/Frameworks/Python.framework/Versions/3.12/lib/python3.12/site-packages (0.0.6)\n",
      "Requirement already satisfied: requests in /Library/Frameworks/Python.framework/Versions/3.12/lib/python3.12/site-packages (from lasair) (2.32.3)\n",
      "Requirement already satisfied: charset-normalizer<4,>=2 in /Library/Frameworks/Python.framework/Versions/3.12/lib/python3.12/site-packages (from requests->lasair) (3.3.2)\n",
      "Requirement already satisfied: idna<4,>=2.5 in /Library/Frameworks/Python.framework/Versions/3.12/lib/python3.12/site-packages (from requests->lasair) (3.7)\n",
      "Requirement already satisfied: urllib3<3,>=1.21.1 in /Library/Frameworks/Python.framework/Versions/3.12/lib/python3.12/site-packages (from requests->lasair) (2.2.2)\n",
      "Requirement already satisfied: certifi>=2017.4.17 in /Library/Frameworks/Python.framework/Versions/3.12/lib/python3.12/site-packages (from requests->lasair) (2024.7.4)\n"
     ]
    }
   ],
   "source": [
    "import sys\n",
    "sys.path.append('../../../lasair/lasair_api')\n",
    "!pip install lasair"
   ]
  },
  {
   "cell_type": "markdown",
   "metadata": {
    "id": "NwiguYXx0BzE"
   },
   "source": [
    "### Grab my Lasair API token\n",
    "Get your Lasair token before you start. You can log into [Lasair](https://lasair.lsst.ac.uk) and click \"My Profile\"\n",
    "at top right. Or use the command-line below.\n",
    "```bash\n",
    "curl --data \"username=myusername&password=***********\" https://lasair-ztf.lsst.ac.uk/api/auth-token/\n",
    "```\n",
    "Make a file called settings.py with a line like: `API_TOKEN = '0123456789abcdefxxxxxxxxxxxxxxxxxxxxxxxx'`"
   ]
  },
  {
   "cell_type": "code",
   "execution_count": 19,
   "metadata": {
    "id": "5NKYQWoJ0BzF"
   },
   "outputs": [],
   "source": [
    "import settings\n",
    "from astropy.time import Time\n",
    "import matplotlib.pyplot as plt\n",
    "from lasair import LasairError, lasair_client as lasair"
   ]
  },
  {
   "cell_type": "markdown",
   "metadata": {
    "id": "v5k9mNnr0BzF"
   },
   "source": [
    "### Do the cone search\n",
    "Get all, nearest or just count. Note that objects are returned in ascending order of separation."
   ]
  },
  {
   "cell_type": "code",
   "execution_count": 20,
   "metadata": {},
   "outputs": [],
   "source": [
    "L = lasair(settings.API_TOKEN)\n",
    "ra=132.209445\n",
    "dec=29.870510\n",
    "radii = [100.0, 10, 0]"
   ]
  },
  {
   "cell_type": "markdown",
   "metadata": {},
   "source": [
    "## Count"
   ]
  },
  {
   "cell_type": "code",
   "execution_count": 21,
   "metadata": {},
   "outputs": [
    {
     "name": "stdout",
     "output_type": "stream",
     "text": [
      "Found 7 at radius 100.000000\n",
      "Found 2 at radius 10.000000\n",
      "Found 0 at radius 0.000000\n"
     ]
    }
   ],
   "source": [
    "for radius in radii:\n",
    "    result = L.cone(ra, dec, radius, requestType='count')\n",
    "    print('Found %d at radius %f' % (result['count'], radius))"
   ]
  },
  {
   "cell_type": "markdown",
   "metadata": {},
   "source": [
    "## Nearest"
   ]
  },
  {
   "cell_type": "code",
   "execution_count": 22,
   "metadata": {},
   "outputs": [
    {
     "name": "stdout",
     "output_type": "stream",
     "text": [
      "Found ZTF21aapyiku at separation 0.04 with radius 100.000000\n",
      "Found ZTF21aapyiku at separation 0.04 with radius 10.000000\n",
      "No object found at radius 0.000000\n"
     ]
    }
   ],
   "source": [
    "for radius in radii:\n",
    "    result = L.cone(ra, dec, radius, requestType='nearest')\n",
    "    if 'object' in result:\n",
    "        print('Found %s at separation %.2f with radius %f' % (result['object'], result['separation'], radius))\n",
    "    else:\n",
    "        print('No object found at radius %f' % radius)"
   ]
  },
  {
   "cell_type": "markdown",
   "metadata": {},
   "source": [
    "## All"
   ]
  },
  {
   "cell_type": "markdown",
   "metadata": {
    "colab": {
     "base_uri": "https://localhost:8080/"
    },
    "id": "FSfK_V450BzG",
    "outputId": "dc089d83-ec46-4aa9-e8cd-18a9e5025281"
   },
   "source": [
    "for radius in radii:\n",
    "    print('At radius %f' % radius)\n",
    "    result = L.cone(ra, dec, radius, requestType='all')\n",
    "    for obj in result:\n",
    "        print(obj['object'], \"%.2f\" % obj['separation'])"
   ]
  }
 ],
 "metadata": {
  "colab": {
   "provenance": []
  },
  "kernelspec": {
   "display_name": "Python 3 (ipykernel)",
   "language": "python",
   "name": "python3"
  },
  "language_info": {
   "codemirror_mode": {
    "name": "ipython",
    "version": 3
   },
   "file_extension": ".py",
   "mimetype": "text/x-python",
   "name": "python",
   "nbconvert_exporter": "python",
   "pygments_lexer": "ipython3",
   "version": "3.9.6"
  }
 },
 "nbformat": 4,
 "nbformat_minor": 4
}
