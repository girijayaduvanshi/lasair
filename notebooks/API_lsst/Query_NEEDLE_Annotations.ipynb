{
 "cells": [
  {
   "cell_type": "markdown",
   "metadata": {
    "id": "s_NNxxs--tUJ"
   },
   "source": [
    "# Query the NEEDLE annotations\n",
    "\n",
    "Demonstrates usage of:\n",
    "* /query/\n",
    "\n",
    "### Python (3 only) requirements - pip install\n",
    "lasair"
   ]
  },
  {
   "cell_type": "code",
   "execution_count": 9,
   "metadata": {
    "colab": {
     "base_uri": "https://localhost:8080/"
    },
    "id": "aHndouWzAIgl",
    "outputId": "9e7acd7b-1e5c-47da-b8af-1bdc59af2ab6"
   },
   "outputs": [],
   "source": [
    "import sys\n",
    "sys.path.append('../../../lasair/lasair_api')\n",
    "#!pip install lasair"
   ]
  },
  {
   "cell_type": "code",
   "execution_count": 10,
   "metadata": {},
   "outputs": [],
   "source": [
    "endpoint = \"https://lasair-lsst.lsst.ac.uk/api\""
   ]
  },
  {
   "cell_type": "markdown",
   "metadata": {
    "id": "IzIWTox2-tUO"
   },
   "source": [
    "### Grab my Lasair API token\n",
    "Get your Lasair token before you start. You can log into [Lasair](https://lasair.lsst.ac.uk) and click \"My Profile\"\n",
    "at top right. Or use the command-line below.\n",
    "```bash\n",
    "curl --data \"username=myusername&password=***********\" https://lasair-ztf.lsst.ac.uk/api/auth-token/\n",
    "```\n",
    "Make a file called settings.py with a line like: `API_TOKEN = '0123456789abcdefxxxxxxxxxxxxxxxxxxxxxxxx'`"
   ]
  },
  {
   "cell_type": "code",
   "execution_count": 11,
   "metadata": {
    "id": "F6CBTs5x-tUP"
   },
   "outputs": [],
   "source": [
    "import settings\n",
    "from astropy.time import Time\n",
    "import matplotlib.pyplot as plt\n",
    "from lasair import LasairError, lasair_client as lasair\n",
    "import requests"
   ]
  },
  {
   "cell_type": "code",
   "execution_count": 12,
   "metadata": {},
   "outputs": [],
   "source": [
    "L = lasair(settings.API_TOKEN, endpoint=endpoint)"
   ]
  },
  {
   "cell_type": "code",
   "execution_count": 13,
   "metadata": {
    "id": "5E4pWOod-tUQ"
   },
   "outputs": [],
   "source": [
    "### Make a query using the JSON_EXTRACT function of SQL"
   ]
  },
  {
   "cell_type": "code",
   "execution_count": 22,
   "metadata": {
    "id": "hPb5V104-tUQ"
   },
   "outputs": [],
   "source": [
    "selected = \"\"\"\n",
    "objects.diaObjectId, NEEDLE_LSST.classification,\n",
    "JSON_EXTRACT(NEEDLE_LSST.classdict, '$.SN') as snprob\n",
    "\"\"\"\n",
    "\n",
    "# Join objects and sherlock_classifications\n",
    "tables = 'objects,annotator:NEEDLE_LSST'\n",
    "\n",
    "conditions = \"\"\"\n",
    "JSON_EXTRACT(NEEDLE_LSST.classdict, '$.SN') > 0.7\n",
    "\"\"\"\n",
    "\n",
    "results = L.query(selected, tables, conditions, limit = 10)"
   ]
  },
  {
   "cell_type": "code",
   "execution_count": 23,
   "metadata": {
    "colab": {
     "base_uri": "https://localhost:8080/"
    },
    "id": "5IMbU9A5-tUQ",
    "outputId": "75e05126-c35a-48eb-9903-b4a5c407ff22"
   },
   "outputs": [
    {
     "name": "stdout",
     "output_type": "stream",
     "text": [
      "3068394069802616802 SN 0.9\n",
      "3068394069802616809 SN 0.9\n",
      "3068394069802616481 SN 0.9\n",
      "3068394049401521215 SN 0.9\n",
      "3068394050475263167 SN 0.9\n",
      "3068394060138939555 SN 0.9\n",
      "3068394075179714052 SN 0.9\n",
      "3068394059065198138 SN 0.9\n",
      "3068394047254037913 SN 0.9\n",
      "3068394050475263159 SN 0.9\n"
     ]
    }
   ],
   "source": [
    "for row in results:\n",
    "    print(row['diaObjectId'],\n",
    "          \"%s\" % row['classification'],\n",
    "          \"%s\" % str(row['snprob']))"
   ]
  },
  {
   "cell_type": "code",
   "execution_count": null,
   "metadata": {},
   "outputs": [],
   "source": []
  }
 ],
 "metadata": {
  "colab": {
   "provenance": []
  },
  "kernelspec": {
   "display_name": "Python 3 (ipykernel)",
   "language": "python",
   "name": "python3"
  },
  "language_info": {
   "codemirror_mode": {
    "name": "ipython",
    "version": 3
   },
   "file_extension": ".py",
   "mimetype": "text/x-python",
   "name": "python",
   "nbconvert_exporter": "python",
   "pygments_lexer": "ipython3",
   "version": "3.9.6"
  }
 },
 "nbformat": 4,
 "nbformat_minor": 4
}
