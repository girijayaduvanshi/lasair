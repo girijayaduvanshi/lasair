{
 "cells": [
  {
   "cell_type": "code",
   "execution_count": 1,
   "id": "0dbf9ccf",
   "metadata": {},
   "outputs": [],
   "source": [
    "from ipywidgets import HBox, VBox, Checkbox, Button, Label, Text, Layout\n",
    "from IPython.display import display, HTML"
   ]
  },
  {
   "cell_type": "code",
   "execution_count": 2,
   "id": "93217f6a",
   "metadata": {},
   "outputs": [],
   "source": [
    "checkboxes = {}\n",
    "vetoFile = ''\n",
    "faveFile = ''\n",
    "vetoList = {}\n",
    "faveList = {}"
   ]
  },
  {
   "cell_type": "code",
   "execution_count": 3,
   "id": "ece91cf8",
   "metadata": {},
   "outputs": [],
   "source": [
    "def parseFile(file):\n",
    "    ret = {}\n",
    "    try:\n",
    "        f = open(file).readlines()\n",
    "    except:\n",
    "        return {}\n",
    "    for line in f:\n",
    "        tokList = line.split('|')\n",
    "        cleanTokList = [t.strip() for t in tokList]\n",
    "        if len(cleanTokList) > 1:\n",
    "            ret[cleanTokList[0]] = cleanTokList[1]\n",
    "        else:\n",
    "            ret[cleanTokList[0]] = ''\n",
    "    return ret"
   ]
  },
  {
   "cell_type": "code",
   "execution_count": 4,
   "id": "5ab2a30f",
   "metadata": {},
   "outputs": [],
   "source": [
    "def readFiles(passVetoFile, passFaveFile, verbose=True):\n",
    "    global vetoList, faveList\n",
    "    vetoFile = passVetoFile\n",
    "    faveFile = passFaveFile\n",
    "    vetoList = parseFile(vetoFile)\n",
    "    faveList = parseFile(faveFile)\n",
    "    if verbose:\n",
    "        print ('Veto List is', vetoList)\n",
    "        print ('Fave List is', faveList)"
   ]
  },
  {
   "cell_type": "code",
   "execution_count": 5,
   "id": "ad4b5527",
   "metadata": {},
   "outputs": [],
   "source": [
    "def showCheckboxes(objectId):\n",
    "    global vetoList, faveList\n",
    "    faveText = None\n",
    "    if objectId in faveList:\n",
    "        faveText = faveList[objectId]\n",
    "        fvalue = True\n",
    "        display(HTML('<font color=\"red\"><h2>Favourite</h2></font>'))\n",
    "    else:\n",
    "        fvalue = False\n",
    "        \n",
    "    v = Checkbox(\n",
    "        value = False,\n",
    "        description = 'veto',\n",
    "        #layout=Layout(width='15%'),\n",
    "    )\n",
    "    f = Checkbox(\n",
    "        value = fvalue,\n",
    "        description = 'fave',\n",
    "        #layout=Layout(width='15%'),\n",
    "    )\n",
    "    r = Text(\n",
    "        value=faveText,\n",
    "        #layout=Layout(width='40%'),\n",
    "    )\n",
    "    checkboxes[objectId] = (v,f, r)\n",
    "\n",
    "    display(HTML('Choose veto/fave, add comment, then click \"save choices\" below'))\n",
    "    display(HBox([v, f, r]))"
   ]
  },
  {
   "cell_type": "code",
   "execution_count": 6,
   "id": "184605fb",
   "metadata": {},
   "outputs": [],
   "source": [
    "def on_button_clicked(b):\n",
    "    global vetoFile, faveFile\n",
    "    vfile = open(vetoFile, 'a')\n",
    "    ffile = open(faveFile, 'a')\n",
    "    for k,vfr in checkboxes.items():\n",
    "        (v,f,r) = vfr\n",
    "        #print(k, v, f, r)\n",
    "        if v.value:\n",
    "            print('%s in vetolist' % k)\n",
    "            vfile.write(k + '|' + r.value + '\\n')\n",
    "        if f.value:\n",
    "            print('%s in favelist' % k)\n",
    "            ffile.write(k + '|' + r.value + '\\n')\n",
    "    vfile.close()\n",
    "    ffile.close()\n",
    "    print('Choices saved')"
   ]
  },
  {
   "cell_type": "code",
   "execution_count": 7,
   "id": "e9242f98",
   "metadata": {},
   "outputs": [],
   "source": [
    "def showAttributes(table, filter_row, showAttrs):\n",
    "    table.get_xaxis()     .set_visible(False)\n",
    "    table.get_yaxis()     .set_visible(False)\n",
    "    table.spines['top']   .set_visible(False)\n",
    "    table.spines['right'] .set_visible(False)\n",
    "    table.spines['bottom'].set_visible(False)\n",
    "    table.spines['left']  .set_visible(False)\n",
    "    sl = []\n",
    "    for key in showAttr:\n",
    "        try:\n",
    "            s = '%s = %s' % (key, filter_row[key])\n",
    "        except:\n",
    "            s = '%s not found in filter output' % key\n",
    "        sl.append(s)\n",
    "    table.text(0.0, 0.5, '\\n'.join(sl), \n",
    "        fontsize=10, horizontalalignment='left', verticalalignment='center')\n",
    "    "
   ]
  }
 ],
 "metadata": {
  "kernelspec": {
   "display_name": "Python 3 (ipykernel)",
   "language": "python",
   "name": "python3"
  },
  "language_info": {
   "codemirror_mode": {
    "name": "ipython",
    "version": 3
   },
   "file_extension": ".py",
   "mimetype": "text/x-python",
   "name": "python",
   "nbconvert_exporter": "python",
   "pygments_lexer": "ipython3",
   "version": "3.11.6"
  }
 },
 "nbformat": 4,
 "nbformat_minor": 5
}
