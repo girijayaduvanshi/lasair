{
 "cells": [
  {
   "cell_type": "code",
   "execution_count": 1049,
   "id": "0dbf9ccf",
   "metadata": {},
   "outputs": [],
   "source": [
    "from ipywidgets import HBox, VBox, Checkbox, Button, Label, Text, Layout, Output\n",
    "from ipywidgets import HTML as HTMLwidget\n",
    "from IPython.display import display, HTML"
   ]
  },
  {
   "cell_type": "code",
   "execution_count": 1050,
   "id": "93217f6a",
   "metadata": {},
   "outputs": [],
   "source": [
    "checkboxes = {}\n",
    "vetoFile = ''\n",
    "faveFile = ''\n",
    "vetoList = {}\n",
    "faveList = {}"
   ]
  },
  {
   "cell_type": "code",
   "execution_count": 1051,
   "id": "ece91cf8",
   "metadata": {},
   "outputs": [],
   "source": [
    "def parseFile(file):\n",
    "    # makes a dictionary from a veto or fave list\n",
    "    ret = {}\n",
    "    try:\n",
    "        f = open(file).readlines()\n",
    "    except:\n",
    "        return {}\n",
    "    for line in f:\n",
    "        tokList = line.split('|')\n",
    "        cleanTokList = [t.strip() for t in tokList]\n",
    "        if len(cleanTokList) > 1:\n",
    "            ret[cleanTokList[0]] = cleanTokList[1]\n",
    "        else:\n",
    "            ret[cleanTokList[0]] = ''\n",
    "    return ret"
   ]
  },
  {
   "cell_type": "code",
   "execution_count": 1052,
   "id": "5ab2a30f",
   "metadata": {},
   "outputs": [],
   "source": [
    "def readFiles(passVetoFile, passFaveFile, verbose=False):\n",
    "    global vetoList, faveList\n",
    "    vetoFile = passVetoFile\n",
    "    faveFile = passFaveFile\n",
    "    vetoList = parseFile(vetoFile)\n",
    "    faveList = parseFile(faveFile)\n",
    "    if verbose:\n",
    "        print ('Veto List is', vetoList)\n",
    "        print ('Fave List is', faveList)"
   ]
  },
  {
   "cell_type": "code",
   "execution_count": 1053,
   "id": "184605fb",
   "metadata": {},
   "outputs": [],
   "source": [
    "def writeFiles(verbose=True):\n",
    "    global vetoFile, faveFile\n",
    "    \n",
    "    vfile = open(vetoFile, 'w')\n",
    "    # past vetos that we read from the file\n",
    "    for k,v in vetoList.items():\n",
    "        vfile.write(k + '|' + v + '\\n')\n",
    "        \n",
    "    ffile = open(faveFile, 'w')\n",
    "    # past faves that we read from the file\n",
    "    for k,v in faveList.items():\n",
    "        ffile.write(k + '|' + v + '\\n')\n",
    "        \n",
    "    for k,vfr in checkboxes.items():\n",
    "        (v,f,r) = vfr\n",
    "        #print(k, v, f, r)\n",
    "        if v.value:\n",
    "            if verbose:\n",
    "                print('%s in vetolist' % k)\n",
    "            vfile.write(k + '|' + r.value + '\\n')\n",
    "        if f and f.value:\n",
    "            if verbose:\n",
    "                print('%s in favelist' % k)\n",
    "            ffile.write(k + '|' + r.value + '\\n')\n",
    "    vfile.close()\n",
    "    ffile.close()\n",
    "    print('Choices saved')"
   ]
  },
  {
   "cell_type": "code",
   "execution_count": 1054,
   "id": "c3327ace-1ec3-47a3-b65f-460bd8e2db62",
   "metadata": {},
   "outputs": [],
   "source": [
    "view = Output(layout={'border': '1px solid black'})\n",
    "\n",
    "@view.capture(clear_output=True)\n",
    "def changed(b):\n",
    "    (box, objectId) = b.owner.description.split()\n",
    "    on = b.old\n",
    "    (v, f, r) = checkboxes[objectId]\n",
    "    if v.value and f.value:\n",
    "        if box == 'veto' and v.value: f.value = False\n",
    "        if box == 'fave' and f.value: v.value = False\n",
    "    if on and r:\n",
    "        print('ON %s %s comment %s' % (box, objectId, r.value))\n",
    "    else:\n",
    "        print('OFF %s %s' % (box, objectId))\n",
    "    writeFiles()"
   ]
  },
  {
   "cell_type": "code",
   "execution_count": 1055,
   "id": "ad4b5527",
   "metadata": {},
   "outputs": [],
   "source": [
    "def showCheckboxes(objectId, bottomHTML):\n",
    "    global vetoList, faveList\n",
    "    faveText = None\n",
    "    vetoText = None\n",
    "    if objectId in faveList:\n",
    "        fvalue = True\n",
    "        bottomHTML += '<font color=\"red\"><b> -- Favourite: %s</b></font>' % faveList[objectId]\n",
    "    else:\n",
    "        fvalue = False\n",
    "\n",
    "    #display(HTML(text))\n",
    "        \n",
    "    if objectId in vetoList:\n",
    "        vetoText = vetoList[objectId]\n",
    "        vvalue = True\n",
    "    else:\n",
    "        vvalue = False\n",
    "        \n",
    "    v = Checkbox(\n",
    "        value = vvalue,\n",
    "        description = 'veto ' + objectId,\n",
    "        #layout=Layout(width='15%'),\n",
    "    )\n",
    "    v.observe(changed)\n",
    "\n",
    "    if vvalue:\n",
    "        checkboxes[objectId] = (v, None, None)\n",
    "        display(HBox([HTMLwidget(text), v]))\n",
    "        #display(v)\n",
    "    else:\n",
    "        f = Checkbox(\n",
    "            value = fvalue,\n",
    "            description = 'fave '  + objectId,\n",
    "            #layout=Layout(width='15%'),\n",
    "        )\n",
    "        f.observe(changed)\n",
    "    \n",
    "        r = Text(\n",
    "            value=faveText,\n",
    "            #layout=Layout(width='40%'),\n",
    "        )\n",
    "        checkboxes[objectId] = (v,f, r)\n",
    "        display(HTML(bottomHTML))\n",
    "        display(HBox([Label(value='Add comment, THEN click veto/fave'), v, f, r]))"
   ]
  },
  {
   "cell_type": "code",
   "execution_count": 1056,
   "id": "3db3d819-b2b9-4ab3-9812-ae289270f10d",
   "metadata": {},
   "outputs": [
    {
     "name": "stdout",
     "output_type": "stream",
     "text": [
      "-----------------------\n"
     ]
    },
    {
     "data": {
      "text/html": [
       "<font size=5>Object0</font>"
      ],
      "text/plain": [
       "<IPython.core.display.HTML object>"
      ]
     },
     "metadata": {},
     "output_type": "display_data"
    },
    {
     "data": {
      "application/vnd.jupyter.widget-view+json": {
       "model_id": "9e385e4bdea64f2ca1ae3c4a23082fce",
       "version_major": 2,
       "version_minor": 0
      },
      "text/plain": [
       "HBox(children=(Label(value='Add comment, THEN click veto/fave'), Checkbox(value=False, description='veto Objec…"
      ]
     },
     "metadata": {},
     "output_type": "display_data"
    },
    {
     "name": "stdout",
     "output_type": "stream",
     "text": [
      "-----------------------\n"
     ]
    },
    {
     "data": {
      "text/html": [
       "<font size=5>Object1</font><font color=\"red\"><b> -- Favourite: hello</b></font>"
      ],
      "text/plain": [
       "<IPython.core.display.HTML object>"
      ]
     },
     "metadata": {},
     "output_type": "display_data"
    },
    {
     "data": {
      "application/vnd.jupyter.widget-view+json": {
       "model_id": "925191cc424d4ed799ee6643f106232a",
       "version_major": 2,
       "version_minor": 0
      },
      "text/plain": [
       "HBox(children=(Label(value='Add comment, THEN click veto/fave'), Checkbox(value=False, description='veto Objec…"
      ]
     },
     "metadata": {},
     "output_type": "display_data"
    },
    {
     "name": "stdout",
     "output_type": "stream",
     "text": [
      "-----------------------\n"
     ]
    },
    {
     "data": {
      "text/html": [
       "<font size=5>Object2</font>"
      ],
      "text/plain": [
       "<IPython.core.display.HTML object>"
      ]
     },
     "metadata": {},
     "output_type": "display_data"
    },
    {
     "data": {
      "application/vnd.jupyter.widget-view+json": {
       "model_id": "8b722c112adc41e0a59f87755c09cc3f",
       "version_major": 2,
       "version_minor": 0
      },
      "text/plain": [
       "HBox(children=(Label(value='Add comment, THEN click veto/fave'), Checkbox(value=False, description='veto Objec…"
      ]
     },
     "metadata": {},
     "output_type": "display_data"
    },
    {
     "name": "stdout",
     "output_type": "stream",
     "text": [
      "-----------------------\n"
     ]
    },
    {
     "data": {
      "text/html": [
       "<font size=5>Object3</font>"
      ],
      "text/plain": [
       "<IPython.core.display.HTML object>"
      ]
     },
     "metadata": {},
     "output_type": "display_data"
    },
    {
     "data": {
      "application/vnd.jupyter.widget-view+json": {
       "model_id": "14fb4fc3f4a946cbb466651b628d4164",
       "version_major": 2,
       "version_minor": 0
      },
      "text/plain": [
       "HBox(children=(Label(value='Add comment, THEN click veto/fave'), Checkbox(value=False, description='veto Objec…"
      ]
     },
     "metadata": {},
     "output_type": "display_data"
    },
    {
     "name": "stdout",
     "output_type": "stream",
     "text": [
      "-----------------------\n"
     ]
    },
    {
     "data": {
      "text/html": [
       "<font size=5>Object4</font>"
      ],
      "text/plain": [
       "<IPython.core.display.HTML object>"
      ]
     },
     "metadata": {},
     "output_type": "display_data"
    },
    {
     "data": {
      "application/vnd.jupyter.widget-view+json": {
       "model_id": "b7f285f5a54b48dfbf938f9d50c5e8d9",
       "version_major": 2,
       "version_minor": 0
      },
      "text/plain": [
       "HBox(children=(Label(value='Add comment, THEN click veto/fave'), Checkbox(value=False, description='veto Objec…"
      ]
     },
     "metadata": {},
     "output_type": "display_data"
    }
   ],
   "source": [
    "#vetoFile      = 'vetoTest.txt'\n",
    "#faveFile      = 'faveTest.txt'\n",
    "\n",
    "#readFiles(vetoFile, faveFile)\n",
    "\n",
    "#for i in range(5):\n",
    "#    objectId = 'Object%d' % i\n",
    "#    print('-----------------------')\n",
    "#    if objectId in vetoList:\n",
    "#        text = '%s vetoed:%s' % (objectId, vetoList[objectId])\n",
    "#    else:\n",
    "#        text = '<font size=5>%s</font>' % objectId\n",
    "#        \n",
    "#    showCheckboxes(objectId, text)"
   ]
  },
  {
   "cell_type": "code",
   "execution_count": 1057,
   "id": "46cc2d11-3be3-48d9-a883-73a90eacafaa",
   "metadata": {},
   "outputs": [
    {
     "data": {
      "application/vnd.jupyter.widget-view+json": {
       "model_id": "8aa178c11616473bb8a99a6b7cab6197",
       "version_major": 2,
       "version_minor": 0
      },
      "text/plain": [
       "Output(layout=Layout(border_bottom='1px solid black', border_left='1px solid black', border_right='1px solid b…"
      ]
     },
     "execution_count": 1057,
     "metadata": {},
     "output_type": "execute_result"
    }
   ],
   "source": [
    "view"
   ]
  }
 ],
 "metadata": {
  "kernelspec": {
   "display_name": "Python 3 (ipykernel)",
   "language": "python",
   "name": "python3"
  },
  "language_info": {
   "codemirror_mode": {
    "name": "ipython",
    "version": 3
   },
   "file_extension": ".py",
   "mimetype": "text/x-python",
   "name": "python",
   "nbconvert_exporter": "python",
   "pygments_lexer": "ipython3",
   "version": "3.11.6"
  }
 },
 "nbformat": 4,
 "nbformat_minor": 5
}
