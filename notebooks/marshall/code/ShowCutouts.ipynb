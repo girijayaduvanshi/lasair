{
 "cells": [
  {
   "cell_type": "code",
   "execution_count": 3,
   "metadata": {
    "id": "F6CBTs5x-tUP"
   },
   "outputs": [],
   "source": [
    "import astropy.io.fits as fits\n",
    "from astropy.utils.data import download_file\n",
    "import matplotlib.pyplot as plt\n",
    "import numpy as np"
   ]
  },
  {
   "cell_type": "code",
   "execution_count": 4,
   "metadata": {},
   "outputs": [],
   "source": [
    "def show_fits(ax_tem, url_tem, ax_sci, url_sci):\n",
    "    try:\n",
    "        image_file = download_file(url_tem, cache=True )\n",
    "        hdu_list = fits.open(image_file, ignore_missing_simple=True)\n",
    "        tem_image_data = hdu_list[0].data\n",
    "        image_file = download_file(url_sci, cache=True )\n",
    "        hdu_list = fits.open(image_file, ignore_missing_simple=True)\n",
    "        sci_image_data = hdu_list[0].data\n",
    "    except:\n",
    "        return\n",
    "\n",
    "    minid = min(np.min(tem_image_data), np.min(sci_image_data))\n",
    "    maxid = max(np.max(tem_image_data), np.max(sci_image_data))\n",
    "    \n",
    "    tem_image_data = (tem_image_data - minid + 1)/(maxid-minid)\n",
    "    tem_image_data = np.log(tem_image_data)\n",
    "    ax_tem.imshow(tem_image_data, cmap='gray')\n",
    "    ax_tem.get_xaxis().set_visible(False)\n",
    "    ax_tem.get_yaxis().set_visible(False)\n",
    "    ax_tem.set_title('Template')\n",
    "    \n",
    "    sci_image_data = (sci_image_data - minid + 1)/(maxid-minid)\n",
    "    sci_image_data = np.log(sci_image_data)\n",
    "    ax_sci.imshow(sci_image_data, cmap='gray')\n",
    "    ax_sci.get_xaxis().set_visible(False)\n",
    "    ax_sci.get_yaxis().set_visible(False)\n",
    "    ax_sci.set_title('Science')"
   ]
  }
 ],
 "metadata": {
  "colab": {
   "provenance": []
  },
  "kernelspec": {
   "display_name": "Python 3 (ipykernel)",
   "language": "python",
   "name": "python3"
  },
  "language_info": {
   "codemirror_mode": {
    "name": "ipython",
    "version": 3
   },
   "file_extension": ".py",
   "mimetype": "text/x-python",
   "name": "python",
   "nbconvert_exporter": "python",
   "pygments_lexer": "ipython3",
   "version": "3.9.6"
  }
 },
 "nbformat": 4,
 "nbformat_minor": 4
}
