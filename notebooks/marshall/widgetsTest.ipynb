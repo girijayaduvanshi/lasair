{
 "cells": [
  {
   "cell_type": "code",
   "execution_count": 3,
   "id": "6e6ed789",
   "metadata": {},
   "outputs": [],
   "source": [
    "%run Widgets.ipynb"
   ]
  },
  {
   "cell_type": "code",
   "execution_count": 4,
   "id": "4b0cb382",
   "metadata": {},
   "outputs": [
    {
     "name": "stdout",
     "output_type": "stream",
     "text": [
      "Veto List is {'Object1': '', 'Object2': '', 'Object0': '', 'Object3': ''}\n",
      "Fave List is {'Object2': '', 'Object3': ''}\n",
      "-----------------------\n",
      "ObjectId\n",
      "vetoed: \n",
      "-----------------------\n",
      "ObjectId\n",
      "vetoed: \n",
      "-----------------------\n",
      "ObjectId\n",
      "vetoed: \n",
      "-----------------------\n",
      "ObjectId\n",
      "vetoed: \n",
      "-----------------------\n",
      "ObjectId\n",
      "making checkboxes\n"
     ]
    },
    {
     "data": {
      "text/html": [
       "Choose veto/fave, add comment, then click \"save choices\" below"
      ],
      "text/plain": [
       "<IPython.core.display.HTML object>"
      ]
     },
     "metadata": {},
     "output_type": "display_data"
    },
    {
     "data": {
      "application/vnd.jupyter.widget-view+json": {
       "model_id": "69ca551889a443e8a4a574a86d3e0e85",
       "version_major": 2,
       "version_minor": 0
      },
      "text/plain": [
       "HBox(children=(Checkbox(value=False, description='veto'), Checkbox(value=False, description='fave'), Text(valu…"
      ]
     },
     "metadata": {},
     "output_type": "display_data"
    },
    {
     "data": {
      "application/vnd.jupyter.widget-view+json": {
       "model_id": "2b23cb13eec44790af436992e1d65ff6",
       "version_major": 2,
       "version_minor": 0
      },
      "text/plain": [
       "Button(description='Save veto/fave choices', style=ButtonStyle())"
      ]
     },
     "metadata": {},
     "output_type": "display_data"
    }
   ],
   "source": [
    "vetoFile      = 'vetoTest.txt'\n",
    "faveFile      = 'faveTest.txt'\n",
    "\n",
    "readFiles(vetoFile, faveFile)\n",
    "\n",
    "for i in range(5):\n",
    "    objectId = 'Object%d' % i\n",
    "    print('-----------------------')\n",
    "    print('ObjectId')\n",
    "    \n",
    "    if objectId in vetoList:\n",
    "        print('vetoed:', vetoList[objectId])\n",
    "        continue\n",
    "        \n",
    "    showCheckboxes(objectId)\n",
    "\n",
    "    \n",
    "button = Button(description = \"Save veto/fave choices\")\n",
    "display(button)\n",
    "button.on_click(on_button_clicked)"
   ]
  },
  {
   "cell_type": "code",
   "execution_count": null,
   "id": "41e79176",
   "metadata": {},
   "outputs": [],
   "source": []
  }
 ],
 "metadata": {
  "kernelspec": {
   "display_name": "Python 3 (ipykernel)",
   "language": "python",
   "name": "python3"
  },
  "language_info": {
   "codemirror_mode": {
    "name": "ipython",
    "version": 3
   },
   "file_extension": ".py",
   "mimetype": "text/x-python",
   "name": "python",
   "nbconvert_exporter": "python",
   "pygments_lexer": "ipython3",
   "version": "3.11.6"
  }
 },
 "nbformat": 4,
 "nbformat_minor": 5
}
