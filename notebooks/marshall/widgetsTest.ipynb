{
 "cells": [
  {
   "cell_type": "code",
   "execution_count": 1,
   "id": "6e6ed789",
   "metadata": {},
   "outputs": [],
   "source": [
    "%run Widgets.ipynb"
   ]
  },
  {
   "cell_type": "code",
   "execution_count": 2,
   "id": "4b0cb382",
   "metadata": {},
   "outputs": [
    {
     "name": "stdout",
     "output_type": "stream",
     "text": [
      "Veto List is {'Object2': 'horrible'}\n",
      "Fave List is {'Object3': 'love it', 'Object4': 'love it'}\n",
      "-----------------------\n",
      "ObjectId\n"
     ]
    },
    {
     "data": {
      "text/html": [
       "Choose veto/fave, add comment, then click \"save choices\" below"
      ],
      "text/plain": [
       "<IPython.core.display.HTML object>"
      ]
     },
     "metadata": {},
     "output_type": "display_data"
    },
    {
     "data": {
      "application/vnd.jupyter.widget-view+json": {
       "model_id": "d0d0bd09efe74c00acfe0fb336026563",
       "version_major": 2,
       "version_minor": 0
      },
      "text/plain": [
       "HBox(children=(Checkbox(value=False, description='veto'), Checkbox(value=False, description='fave'), Text(valu…"
      ]
     },
     "metadata": {},
     "output_type": "display_data"
    },
    {
     "name": "stdout",
     "output_type": "stream",
     "text": [
      "-----------------------\n",
      "ObjectId\n"
     ]
    },
    {
     "data": {
      "text/html": [
       "Choose veto/fave, add comment, then click \"save choices\" below"
      ],
      "text/plain": [
       "<IPython.core.display.HTML object>"
      ]
     },
     "metadata": {},
     "output_type": "display_data"
    },
    {
     "data": {
      "application/vnd.jupyter.widget-view+json": {
       "model_id": "024781570e7b44e1b570f93d5ace044b",
       "version_major": 2,
       "version_minor": 0
      },
      "text/plain": [
       "HBox(children=(Checkbox(value=False, description='veto'), Checkbox(value=False, description='fave'), Text(valu…"
      ]
     },
     "metadata": {},
     "output_type": "display_data"
    },
    {
     "name": "stdout",
     "output_type": "stream",
     "text": [
      "-----------------------\n",
      "ObjectId\n",
      "vetoed: horrible\n",
      "-----------------------\n",
      "ObjectId\n"
     ]
    },
    {
     "data": {
      "text/html": [
       "<font color=\"red\"><h2>Favourite</h2></font>"
      ],
      "text/plain": [
       "<IPython.core.display.HTML object>"
      ]
     },
     "metadata": {},
     "output_type": "display_data"
    },
    {
     "data": {
      "text/html": [
       "Choose veto/fave, add comment, then click \"save choices\" below"
      ],
      "text/plain": [
       "<IPython.core.display.HTML object>"
      ]
     },
     "metadata": {},
     "output_type": "display_data"
    },
    {
     "data": {
      "application/vnd.jupyter.widget-view+json": {
       "model_id": "e963461749b9445dae0507f1b34246be",
       "version_major": 2,
       "version_minor": 0
      },
      "text/plain": [
       "HBox(children=(Checkbox(value=False, description='veto'), Checkbox(value=True, description='fave'), Text(value…"
      ]
     },
     "metadata": {},
     "output_type": "display_data"
    },
    {
     "name": "stdout",
     "output_type": "stream",
     "text": [
      "-----------------------\n",
      "ObjectId\n"
     ]
    },
    {
     "data": {
      "text/html": [
       "<font color=\"red\"><h2>Favourite</h2></font>"
      ],
      "text/plain": [
       "<IPython.core.display.HTML object>"
      ]
     },
     "metadata": {},
     "output_type": "display_data"
    },
    {
     "data": {
      "text/html": [
       "Choose veto/fave, add comment, then click \"save choices\" below"
      ],
      "text/plain": [
       "<IPython.core.display.HTML object>"
      ]
     },
     "metadata": {},
     "output_type": "display_data"
    },
    {
     "data": {
      "application/vnd.jupyter.widget-view+json": {
       "model_id": "6fb3101e35484152a43abd87864cdbdf",
       "version_major": 2,
       "version_minor": 0
      },
      "text/plain": [
       "HBox(children=(Checkbox(value=False, description='veto'), Checkbox(value=True, description='fave'), Text(value…"
      ]
     },
     "metadata": {},
     "output_type": "display_data"
    },
    {
     "data": {
      "application/vnd.jupyter.widget-view+json": {
       "model_id": "1dc3df0a54df415c8f57b230e107ae91",
       "version_major": 2,
       "version_minor": 0
      },
      "text/plain": [
       "Button(description='Save veto/fave choices', style=ButtonStyle())"
      ]
     },
     "metadata": {},
     "output_type": "display_data"
    }
   ],
   "source": [
    "vetoFile      = 'vetoTest.txt'\n",
    "faveFile      = 'faveTest.txt'\n",
    "\n",
    "readFiles(vetoFile, faveFile)\n",
    "\n",
    "for i in range(5):\n",
    "    objectId = 'Object%d' % i\n",
    "    print('-----------------------')\n",
    "    print('ObjectId')\n",
    "    \n",
    "    if objectId in vetoList:\n",
    "        print('vetoed:', vetoList[objectId])\n",
    "        continue\n",
    "        \n",
    "    showCheckboxes(objectId)\n",
    "\n",
    "    \n",
    "button = Button(description = \"Save veto/fave choices\")\n",
    "display(button)\n",
    "button.on_click(on_button_clicked)"
   ]
  },
  {
   "cell_type": "code",
   "execution_count": null,
   "id": "41e79176",
   "metadata": {},
   "outputs": [],
   "source": []
  }
 ],
 "metadata": {
  "kernelspec": {
   "display_name": "Python 3 (ipykernel)",
   "language": "python",
   "name": "python3"
  },
  "language_info": {
   "codemirror_mode": {
    "name": "ipython",
    "version": 3
   },
   "file_extension": ".py",
   "mimetype": "text/x-python",
   "name": "python",
   "nbconvert_exporter": "python",
   "pygments_lexer": "ipython3",
   "version": "3.11.2"
  }
 },
 "nbformat": 4,
 "nbformat_minor": 5
}
