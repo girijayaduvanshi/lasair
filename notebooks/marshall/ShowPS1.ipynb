{
 "cells": [
  {
   "cell_type": "code",
   "execution_count": 6,
   "id": "28fe2afb",
   "metadata": {},
   "outputs": [],
   "source": [
    "import numpy\n",
    "from astropy.table import Table\n",
    "import requests\n",
    "from PIL import Image\n",
    "from io import BytesIO\n",
    "import matplotlib.pyplot as plt"
   ]
  },
  {
   "cell_type": "code",
   "execution_count": 7,
   "id": "6cf132d4",
   "metadata": {},
   "outputs": [],
   "source": [
    "def getimages(ra,dec,filters=\"grizy\"):\n",
    "    \n",
    "    \"\"\"Query ps1filenames.py service to get a list of images\n",
    "    \n",
    "    ra, dec = position in degrees\n",
    "    size = image size in pixels (0.25 arcsec/pixel)\n",
    "    filters = string with filters to include\n",
    "    Returns a table with the results\n",
    "    \"\"\"\n",
    "    \n",
    "    service = \"https://ps1images.stsci.edu/cgi-bin/ps1filenames.py\"\n",
    "    url = f\"{service}?ra={ra}&dec={dec}&filters={filters}\"\n",
    "    table = Table.read(url, format='ascii')\n",
    "    return table"
   ]
  },
  {
   "cell_type": "code",
   "execution_count": 8,
   "id": "a089d7ab",
   "metadata": {},
   "outputs": [],
   "source": [
    "def geturl(ra, dec, size=240, output_size=None, filters=\"grizy\", format=\"jpg\", color=False):\n",
    "    \n",
    "    \"\"\"Get URL for images in the table\n",
    "    \n",
    "    ra, dec = position in degrees\n",
    "    size = extracted image size in pixels (0.25 arcsec/pixel)\n",
    "    output_size = output (display) image size in pixels (default = size).\n",
    "                  output_size has no effect for fits format images.\n",
    "    filters = string with filters to include\n",
    "    format = data format (options are \"jpg\", \"png\" or \"fits\")\n",
    "    color = if True, creates a color image (only for jpg or png format).\n",
    "            Default is return a list of URLs for single-filter grayscale images.\n",
    "    Returns a string with the URL\n",
    "    \"\"\"\n",
    "    \n",
    "    if color and format == \"fits\":\n",
    "        raise ValueError(\"color images are available only for jpg or png formats\")\n",
    "    if format not in (\"jpg\",\"png\",\"fits\"):\n",
    "        raise ValueError(\"format must be one of jpg, png, fits\")\n",
    "    table = getimages(ra,dec,filters=filters)\n",
    "    url = (f\"https://ps1images.stsci.edu/cgi-bin/fitscut.cgi?\"\n",
    "           f\"ra={ra}&dec={dec}&size={size}&format={format}\")\n",
    "    if output_size:\n",
    "        url = url + \"&output_size={}\".format(output_size)\n",
    "    # sort filters from red to blue\n",
    "    flist = [\"yzirg\".find(x) for x in table['filter']]\n",
    "    table = table[numpy.argsort(flist)]\n",
    "    if color:\n",
    "        if len(table) > 3:\n",
    "            # pick 3 filters\n",
    "            table = table[[0,len(table)//2,len(table)-1]]\n",
    "        for i, param in enumerate([\"red\",\"green\",\"blue\"]):\n",
    "            url = url + \"&{}={}\".format(param,table['filename'][i])\n",
    "    else:\n",
    "        urlbase = url + \"&red=\"\n",
    "        url = []\n",
    "        for filename in table['filename']:\n",
    "            url.append(urlbase+filename)\n",
    "    return url"
   ]
  },
  {
   "cell_type": "code",
   "execution_count": 9,
   "id": "c7dc4a0b",
   "metadata": {},
   "outputs": [],
   "source": [
    "def getcolorim(ra, dec, size=240, output_size=None, filters=\"grizy\", format=\"jpg\"):\n",
    "    \n",
    "    \"\"\"Get color image at a sky position\n",
    "    \n",
    "    ra, dec = position in degrees\n",
    "    size = extracted image size in pixels (0.25 arcsec/pixel)\n",
    "    output_size = output (display) image size in pixels (default = size).\n",
    "                  output_size has no effect for fits format images.\n",
    "    filters = string with filters to include\n",
    "    format = data format (options are \"jpg\", \"png\")\n",
    "    Returns the image\n",
    "    \"\"\"\n",
    "    \n",
    "    if format not in (\"jpg\",\"png\"):\n",
    "        raise ValueError(\"format must be jpg or png\")\n",
    "    url = geturl(ra,dec,size=size,filters=filters,output_size=output_size,format=format,color=True)\n",
    "    r = requests.get(url)\n",
    "    im = Image.open(BytesIO(r.content))\n",
    "    return im"
   ]
  },
  {
   "cell_type": "code",
   "execution_count": 10,
   "id": "0415c001",
   "metadata": {},
   "outputs": [],
   "source": [
    "def showPS1(ax, objectData):\n",
    "    cim = getcolorim(\n",
    "        objectData['ramean'], objectData['decmean'], \n",
    "        size=300, \n",
    "        filters=\"grz\")\n",
    "    ax.get_xaxis().set_visible(False)\n",
    "    ax.get_yaxis().set_visible(False)\n",
    "    ax.imshow(cim, origin=\"upper\")\n",
    "    ax.set_title('Pan-STARRS')"
   ]
  }
 ],
 "metadata": {
  "kernelspec": {
   "display_name": "Python 3 (ipykernel)",
   "language": "python",
   "name": "python3"
  },
  "language_info": {
   "codemirror_mode": {
    "name": "ipython",
    "version": 3
   },
   "file_extension": ".py",
   "mimetype": "text/x-python",
   "name": "python",
   "nbconvert_exporter": "python",
   "pygments_lexer": "ipython3",
   "version": "3.11.2"
  }
 },
 "nbformat": 4,
 "nbformat_minor": 5
}
