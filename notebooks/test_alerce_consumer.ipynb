{
 "cells": [
  {
   "cell_type": "code",
   "execution_count": 1,
   "id": "253e0087-c8ac-46f7-8868-e624a91e48b9",
   "metadata": {},
   "outputs": [],
   "source": [
    "from confluent_kafka import Consumer, KafkaError\n",
    "from fastavro import reader\n",
    "import io\n",
    "import json\n",
    "import random\n",
    "import settings"
   ]
  },
  {
   "cell_type": "code",
   "execution_count": 2,
   "id": "48fdf262-1950-44f9-96ac-4eb12476430c",
   "metadata": {},
   "outputs": [],
   "source": [
    "def make_stamp_annotation(record):\n",
    "    r = {}\n",
    "    classdict = {}\n",
    "    maxprob = 0\n",
    "    for k,v in record['probabilities'].items():\n",
    "        classdict[k] = float('%.3f'%v)\n",
    "        if v > maxprob:\n",
    "            r['classification'] = k\n",
    "            maxprob = v\n",
    "    r['objectId']       = record['objectId']\n",
    "    r['classdict']      = classdict\n",
    "    if r['classification'] in ['VS', 'AGN', 'asteroid', 'bogus']:\n",
    "        return None\n",
    "    else:\n",
    "        return r"
   ]
  },
  {
   "cell_type": "code",
   "execution_count": 3,
   "id": "b4bdf027-0447-4e35-8233-18570553f9dd",
   "metadata": {},
   "outputs": [],
   "source": [
    "def make_lc_annotation(record):\n",
    "    r = {}\n",
    "    r['objectId'] = record['oid']\n",
    "    lcc = record['lc_classification']\n",
    "    r['classification'] = lcc['class']\n",
    "    classdict = {}\n",
    "    for k,v in lcc['probabilities'].items():\n",
    "        if v > 0.02:\n",
    "            classdict[k] = float('%.3f'%v)\n",
    "    r['classdict'] = classdict\n",
    "    if r['classification'] in ['E', 'Periodic-Other']:\n",
    "        return None\n",
    "    else:\n",
    "        return r"
   ]
  },
  {
   "cell_type": "code",
   "execution_count": 4,
   "id": "d5d64a87-86db-46e7-9077-54acb4115e6a",
   "metadata": {},
   "outputs": [
    {
     "name": "stdout",
     "output_type": "stream",
     "text": [
      "b-2-public.publicproduction.o8ncxm.c18.kafka.us-east-1.amazonaws.com:9196,b-1-public.publicproduction.o8ncxm.c18.kafka.us-east-1.amazonaws.com:9196,b-3-public.publicproduction.o8ncxm.c18.kafka.us-east-1.amazonaws.com:9196\n",
      "lasair003\n",
      "ZTAyZjdlNjAwNmU4\n"
     ]
    }
   ],
   "source": [
    "print(settings.ALERCE_KAFKA)\n",
    "print(settings.ALERCE_GROUP_ID)\n",
    "print(settings.ALERCE_PASSWORD)"
   ]
  },
  {
   "cell_type": "code",
   "execution_count": null,
   "id": "a12c9616-7abb-48c0-bedf-344ed4a9e943",
   "metadata": {},
   "outputs": [
    {
     "name": "stderr",
     "output_type": "stream",
     "text": [
      "%4|1725873630.040|FAIL|rdkafka#consumer-1| [thrd:sasl_ssl://b-2-public.publicproduction.o8ncxm.c18.kafka.us-east]: sasl_ssl://b-2-public.publicproduction.o8ncxm.c18.kafka.us-east-1.amazonaws.com:9196/bootstrap: Connection setup timed out in state CONNECT (after 30129ms in state CONNECT)\n",
      "%4|1725873630.970|FAIL|rdkafka#consumer-1| [thrd:sasl_ssl://b-1-public.publicproduction.o8ncxm.c18.kafka.us-east]: sasl_ssl://b-1-public.publicproduction.o8ncxm.c18.kafka.us-east-1.amazonaws.com:9196/bootstrap: Connection setup timed out in state CONNECT (after 30055ms in state CONNECT)\n",
      "%4|1725873631.972|FAIL|rdkafka#consumer-1| [thrd:sasl_ssl://b-3-public.publicproduction.o8ncxm.c18.kafka.us-east]: sasl_ssl://b-3-public.publicproduction.o8ncxm.c18.kafka.us-east-1.amazonaws.com:9196/bootstrap: Connection setup timed out in state CONNECT (after 30051ms in state CONNECT)\n",
      "%4|1725873660.079|FAIL|rdkafka#consumer-1| [thrd:sasl_ssl://b-2-public.publicproduction.o8ncxm.c18.kafka.us-east]: sasl_ssl://b-2-public.publicproduction.o8ncxm.c18.kafka.us-east-1.amazonaws.com:9196/bootstrap: Connection setup timed out in state CONNECT (after 30036ms in state CONNECT, 1 identical error(s) suppressed)\n",
      "%4|1725873661.009|FAIL|rdkafka#consumer-1| [thrd:sasl_ssl://b-1-public.publicproduction.o8ncxm.c18.kafka.us-east]: sasl_ssl://b-1-public.publicproduction.o8ncxm.c18.kafka.us-east-1.amazonaws.com:9196/bootstrap: Connection setup timed out in state CONNECT (after 30037ms in state CONNECT, 1 identical error(s) suppressed)\n",
      "%4|1725873662.009|FAIL|rdkafka#consumer-1| [thrd:sasl_ssl://b-3-public.publicproduction.o8ncxm.c18.kafka.us-east]: sasl_ssl://b-3-public.publicproduction.o8ncxm.c18.kafka.us-east-1.amazonaws.com:9196/bootstrap: Connection setup timed out in state CONNECT (after 30035ms in state CONNECT, 1 identical error(s) suppressed)\n",
      "%4|1725873690.117|FAIL|rdkafka#consumer-1| [thrd:sasl_ssl://b-2-public.publicproduction.o8ncxm.c18.kafka.us-east]: sasl_ssl://b-2-public.publicproduction.o8ncxm.c18.kafka.us-east-1.amazonaws.com:9196/bootstrap: Connection setup timed out in state CONNECT (after 30038ms in state CONNECT, 1 identical error(s) suppressed)\n",
      "%4|1725873691.045|FAIL|rdkafka#consumer-1| [thrd:sasl_ssl://b-1-public.publicproduction.o8ncxm.c18.kafka.us-east]: sasl_ssl://b-1-public.publicproduction.o8ncxm.c18.kafka.us-east-1.amazonaws.com:9196/bootstrap: Connection setup timed out in state CONNECT (after 30035ms in state CONNECT, 1 identical error(s) suppressed)\n",
      "%4|1725873692.047|FAIL|rdkafka#consumer-1| [thrd:sasl_ssl://b-3-public.publicproduction.o8ncxm.c18.kafka.us-east]: sasl_ssl://b-3-public.publicproduction.o8ncxm.c18.kafka.us-east-1.amazonaws.com:9196/bootstrap: Connection setup timed out in state CONNECT (after 30036ms in state CONNECT, 1 identical error(s) suppressed)\n",
      "%4|1725873720.157|FAIL|rdkafka#consumer-1| [thrd:sasl_ssl://b-2-public.publicproduction.o8ncxm.c18.kafka.us-east]: sasl_ssl://b-2-public.publicproduction.o8ncxm.c18.kafka.us-east-1.amazonaws.com:9196/bootstrap: Connection setup timed out in state CONNECT (after 30039ms in state CONNECT, 1 identical error(s) suppressed)\n",
      "%4|1725873721.082|FAIL|rdkafka#consumer-1| [thrd:sasl_ssl://b-1-public.publicproduction.o8ncxm.c18.kafka.us-east]: sasl_ssl://b-1-public.publicproduction.o8ncxm.c18.kafka.us-east-1.amazonaws.com:9196/bootstrap: Connection setup timed out in state CONNECT (after 30035ms in state CONNECT, 1 identical error(s) suppressed)\n",
      "%4|1725873722.083|FAIL|rdkafka#consumer-1| [thrd:sasl_ssl://b-3-public.publicproduction.o8ncxm.c18.kafka.us-east]: sasl_ssl://b-3-public.publicproduction.o8ncxm.c18.kafka.us-east-1.amazonaws.com:9196/bootstrap: Connection setup timed out in state CONNECT (after 30035ms in state CONNECT, 1 identical error(s) suppressed)\n",
      "%4|1725873750.198|FAIL|rdkafka#consumer-1| [thrd:sasl_ssl://b-2-public.publicproduction.o8ncxm.c18.kafka.us-east]: sasl_ssl://b-2-public.publicproduction.o8ncxm.c18.kafka.us-east-1.amazonaws.com:9196/bootstrap: Connection setup timed out in state CONNECT (after 30040ms in state CONNECT, 1 identical error(s) suppressed)\n",
      "%4|1725873751.115|FAIL|rdkafka#consumer-1| [thrd:sasl_ssl://b-1-public.publicproduction.o8ncxm.c18.kafka.us-east]: sasl_ssl://b-1-public.publicproduction.o8ncxm.c18.kafka.us-east-1.amazonaws.com:9196/bootstrap: Connection setup timed out in state CONNECT (after 30032ms in state CONNECT, 1 identical error(s) suppressed)\n",
      "%4|1725873752.117|FAIL|rdkafka#consumer-1| [thrd:sasl_ssl://b-3-public.publicproduction.o8ncxm.c18.kafka.us-east]: sasl_ssl://b-3-public.publicproduction.o8ncxm.c18.kafka.us-east-1.amazonaws.com:9196/bootstrap: Connection setup timed out in state CONNECT (after 30032ms in state CONNECT, 1 identical error(s) suppressed)\n",
      "%4|1725873780.241|FAIL|rdkafka#consumer-1| [thrd:sasl_ssl://b-2-public.publicproduction.o8ncxm.c18.kafka.us-east]: sasl_ssl://b-2-public.publicproduction.o8ncxm.c18.kafka.us-east-1.amazonaws.com:9196/bootstrap: Connection setup timed out in state CONNECT (after 30041ms in state CONNECT, 1 identical error(s) suppressed)\n",
      "%4|1725873781.156|FAIL|rdkafka#consumer-1| [thrd:sasl_ssl://b-1-public.publicproduction.o8ncxm.c18.kafka.us-east]: sasl_ssl://b-1-public.publicproduction.o8ncxm.c18.kafka.us-east-1.amazonaws.com:9196/bootstrap: Connection setup timed out in state CONNECT (after 30040ms in state CONNECT, 1 identical error(s) suppressed)\n",
      "%4|1725873782.159|FAIL|rdkafka#consumer-1| [thrd:sasl_ssl://b-3-public.publicproduction.o8ncxm.c18.kafka.us-east]: sasl_ssl://b-3-public.publicproduction.o8ncxm.c18.kafka.us-east-1.amazonaws.com:9196/bootstrap: Connection setup timed out in state CONNECT (after 30041ms in state CONNECT, 1 identical error(s) suppressed)\n",
      "%4|1725873810.284|FAIL|rdkafka#consumer-1| [thrd:sasl_ssl://b-2-public.publicproduction.o8ncxm.c18.kafka.us-east]: sasl_ssl://b-2-public.publicproduction.o8ncxm.c18.kafka.us-east-1.amazonaws.com:9196/bootstrap: Connection setup timed out in state CONNECT (after 30042ms in state CONNECT, 1 identical error(s) suppressed)\n",
      "%4|1725873811.187|FAIL|rdkafka#consumer-1| [thrd:sasl_ssl://b-1-public.publicproduction.o8ncxm.c18.kafka.us-east]: sasl_ssl://b-1-public.publicproduction.o8ncxm.c18.kafka.us-east-1.amazonaws.com:9196/bootstrap: Connection setup timed out in state CONNECT (after 30030ms in state CONNECT, 1 identical error(s) suppressed)\n",
      "%4|1725873812.197|FAIL|rdkafka#consumer-1| [thrd:sasl_ssl://b-3-public.publicproduction.o8ncxm.c18.kafka.us-east]: sasl_ssl://b-3-public.publicproduction.o8ncxm.c18.kafka.us-east-1.amazonaws.com:9196/bootstrap: Connection setup timed out in state CONNECT (after 30037ms in state CONNECT, 1 identical error(s) suppressed)\n",
      "%4|1725873840.318|FAIL|rdkafka#consumer-1| [thrd:sasl_ssl://b-2-public.publicproduction.o8ncxm.c18.kafka.us-east]: sasl_ssl://b-2-public.publicproduction.o8ncxm.c18.kafka.us-east-1.amazonaws.com:9196/bootstrap: Connection setup timed out in state CONNECT (after 30033ms in state CONNECT, 1 identical error(s) suppressed)\n",
      "%4|1725873841.228|FAIL|rdkafka#consumer-1| [thrd:sasl_ssl://b-1-public.publicproduction.o8ncxm.c18.kafka.us-east]: sasl_ssl://b-1-public.publicproduction.o8ncxm.c18.kafka.us-east-1.amazonaws.com:9196/bootstrap: Connection setup timed out in state CONNECT (after 30041ms in state CONNECT, 1 identical error(s) suppressed)\n",
      "%4|1725873842.235|FAIL|rdkafka#consumer-1| [thrd:sasl_ssl://b-3-public.publicproduction.o8ncxm.c18.kafka.us-east]: sasl_ssl://b-3-public.publicproduction.o8ncxm.c18.kafka.us-east-1.amazonaws.com:9196/bootstrap: Connection setup timed out in state CONNECT (after 30036ms in state CONNECT, 1 identical error(s) suppressed)\n",
      "%4|1725873870.352|FAIL|rdkafka#consumer-1| [thrd:sasl_ssl://b-2-public.publicproduction.o8ncxm.c18.kafka.us-east]: sasl_ssl://b-2-public.publicproduction.o8ncxm.c18.kafka.us-east-1.amazonaws.com:9196/bootstrap: Connection setup timed out in state CONNECT (after 30032ms in state CONNECT, 1 identical error(s) suppressed)\n",
      "%4|1725873871.275|FAIL|rdkafka#consumer-1| [thrd:sasl_ssl://b-1-public.publicproduction.o8ncxm.c18.kafka.us-east]: sasl_ssl://b-1-public.publicproduction.o8ncxm.c18.kafka.us-east-1.amazonaws.com:9196/bootstrap: Connection setup timed out in state CONNECT (after 30046ms in state CONNECT, 1 identical error(s) suppressed)\n",
      "%4|1725873872.276|FAIL|rdkafka#consumer-1| [thrd:sasl_ssl://b-3-public.publicproduction.o8ncxm.c18.kafka.us-east]: sasl_ssl://b-3-public.publicproduction.o8ncxm.c18.kafka.us-east-1.amazonaws.com:9196/bootstrap: Connection setup timed out in state CONNECT (after 30040ms in state CONNECT, 1 identical error(s) suppressed)\n",
      "%4|1725873900.387|FAIL|rdkafka#consumer-1| [thrd:sasl_ssl://b-2-public.publicproduction.o8ncxm.c18.kafka.us-east]: sasl_ssl://b-2-public.publicproduction.o8ncxm.c18.kafka.us-east-1.amazonaws.com:9196/bootstrap: Connection setup timed out in state CONNECT (after 30034ms in state CONNECT, 1 identical error(s) suppressed)\n",
      "%4|1725873901.313|FAIL|rdkafka#consumer-1| [thrd:sasl_ssl://b-1-public.publicproduction.o8ncxm.c18.kafka.us-east]: sasl_ssl://b-1-public.publicproduction.o8ncxm.c18.kafka.us-east-1.amazonaws.com:9196/bootstrap: Connection setup timed out in state CONNECT (after 30036ms in state CONNECT, 1 identical error(s) suppressed)\n",
      "%4|1725873902.314|FAIL|rdkafka#consumer-1| [thrd:sasl_ssl://b-3-public.publicproduction.o8ncxm.c18.kafka.us-east]: sasl_ssl://b-3-public.publicproduction.o8ncxm.c18.kafka.us-east-1.amazonaws.com:9196/bootstrap: Connection setup timed out in state CONNECT (after 30036ms in state CONNECT, 1 identical error(s) suppressed)\n"
     ]
    }
   ],
   "source": [
    "conf = {\n",
    "    'bootstrap.servers': settings.ALERCE_KAFKA,\n",
    "    'group.id'         : settings.ALERCE_GROUP_ID,\n",
    "    'security.protocol': 'SASL_SSL',\n",
    "    'sasl.mechanism'   : 'SCRAM-SHA-512',\n",
    "    'sasl.username'    : 'lasair',\n",
    "    'sasl.password'    : settings.ALERCE_PASSWORD,\n",
    "    'auto.offset.reset': 'earliest',\n",
    "}\n",
    "streamReader = Consumer(conf)\n",
    "t = list(streamReader.list_topics().topics.keys())\n",
    "print('Topics are ', t)"
   ]
  },
  {
   "cell_type": "code",
   "execution_count": null,
   "id": "6ac3e7f6-04e5-4e9c-9ce6-5f7bc41b6885",
   "metadata": {},
   "outputs": [],
   "source": []
  },
  {
   "cell_type": "code",
   "execution_count": null,
   "id": "30cab57a-f04c-4d62-a212-e8747253539e",
   "metadata": {},
   "outputs": [],
   "source": []
  }
 ],
 "metadata": {
  "kernelspec": {
   "display_name": "Python 3 (ipykernel)",
   "language": "python",
   "name": "python3"
  },
  "language_info": {
   "codemirror_mode": {
    "name": "ipython",
    "version": 3
   },
   "file_extension": ".py",
   "mimetype": "text/x-python",
   "name": "python",
   "nbconvert_exporter": "python",
   "pygments_lexer": "ipython3",
   "version": "3.9.6"
  }
 },
 "nbformat": 4,
 "nbformat_minor": 5
}
