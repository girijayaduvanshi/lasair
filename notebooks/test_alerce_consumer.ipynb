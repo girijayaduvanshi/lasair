{
 "cells": [
  {
   "cell_type": "code",
   "execution_count": 1,
   "id": "253e0087-c8ac-46f7-8868-e624a91e48b9",
   "metadata": {},
   "outputs": [],
   "source": [
    "from confluent_kafka import Consumer, KafkaError\n",
    "from fastavro import reader\n",
    "import io\n",
    "import json\n",
    "import random\n",
    "import settings"
   ]
  },
  {
   "cell_type": "code",
   "execution_count": 2,
   "id": "48fdf262-1950-44f9-96ac-4eb12476430c",
   "metadata": {},
   "outputs": [],
   "source": [
    "def make_stamp_annotation(record):\n",
    "    r = {}\n",
    "    classdict = {}\n",
    "    maxprob = 0\n",
    "    for k,v in record['probabilities'].items():\n",
    "        classdict[k] = float('%.3f'%v)\n",
    "        if v > maxprob:\n",
    "            r['classification'] = k\n",
    "            maxprob = v\n",
    "    r['objectId']       = record['objectId']\n",
    "    r['classdict']      = classdict\n",
    "    if r['classification'] in ['VS', 'AGN', 'asteroid', 'bogus']:\n",
    "        return None\n",
    "    else:\n",
    "        return r"
   ]
  },
  {
   "cell_type": "code",
   "execution_count": 3,
   "id": "b4bdf027-0447-4e35-8233-18570553f9dd",
   "metadata": {},
   "outputs": [],
   "source": [
    "def make_lc_annotation(record):\n",
    "    r = {}\n",
    "    r['objectId'] = record['oid']\n",
    "    lcc = record['lc_classification']\n",
    "    r['classification'] = lcc['class']\n",
    "    classdict = {}\n",
    "    for k,v in lcc['probabilities'].items():\n",
    "        if v > 0.02:\n",
    "            classdict[k] = float('%.3f'%v)\n",
    "    r['classdict'] = classdict\n",
    "    if r['classification'] in ['E', 'Periodic-Other']:\n",
    "        return None\n",
    "    else:\n",
    "        return r"
   ]
  },
  {
   "cell_type": "code",
   "execution_count": 4,
   "id": "d5d64a87-86db-46e7-9077-54acb4115e6a",
   "metadata": {},
   "outputs": [],
   "source": [
    "#print(settings.ALERCE_KAFKA)\n",
    "#print(settings.ALERCE_GROUP_ID)\n",
    "#print(settings.ALERCE_PASSWORD)"
   ]
  },
  {
   "cell_type": "code",
   "execution_count": 5,
   "id": "a12c9616-7abb-48c0-bedf-344ed4a9e943",
   "metadata": {},
   "outputs": [
    {
     "name": "stdout",
     "output_type": "stream",
     "text": [
      "Topics are  ['lc_classifier_ztf_20240602', 'lc_classifier_ztf__ATAT_forced_phot_20240826', 'lc_classifier_ztf_20240613', 'stamp_classifier_20240522', 'lc_classifier_ztf__BHRF_forced_phot_20240826', 'lc_classifier_ztf_20240429', 'lc_classifier_ztf_20240903', 'lc_classifier_ztf_20240526', 'lc_classifier_ztf_20240807', 'lc_classifier_ztf_20240706', 'lc_classifier_ztf_20240530', 'lc_classifier_ztf_20240630', 'stamp_classifier_20240811', 'stamp_classifier_20240817', 'stamp_classifier_20240822', 'lc_classifier_ztf_20240418', 'lc_classifier_ztf_20240717', 'stamp_classifier_20240719', 'lc_classifier_ztf_20240519', 'stamp_classifier_20240907', 'lc_classifier_ztf__BHRF_forced_phot_20240908', 'stamp_classifier_20240806', 'lc_classifier_ztf__BHRF_forced_phot_20240901', 'lc_classifier_ztf_20240906', 'stamp_classifier_20240904', 'lc_classifier_ztf_20240822', 'stamp_classifier_20240508', 'stamp_classifier_20240830', 'lc_classifier_ztf_20240714', 'lc_classifier_ztf__BHRF_forced_phot_20240822', 'lc_classifier_ztf_20240422', 'lc_classifier_ztf_20240829', 'lc_classifier_ztf_20240725', 'lc_classifier_ztf_20240731', 'stamp_classifier_20240604', 'lc_classifier_ztf_20240624', 'lc_classifier_ztf__ATAT_forced_phot_20240905', 'stamp_classifier_20240612', 'lc_classifier_ztf_20240510', 'lc_classifier_ztf_20240612', 'lc_classifier_ztf__BHRF_forced_phot_20240830', 'lc_classifier_ztf_20240515', 'lc_classifier_ztf_20240826', 'lc_classifier_ztf_20240703', 'lc_classifier_ztf_20240720', 'lc_classifier_ztf_20240808', 'lc_classifier_ztf_20240504', 'stamp_classifier_20240828', 'lc_classifier_ztf__BHRF_forced_phot_20240829', 'stamp_classifier_20240809', 'stamp_classifier_20240705', 'lc_classifier_ztf_20240810', 'lc_classifier_ztf_20240601', 'stamp_classifier_20240714', 'stamp_classifier_20240725', 'stamp_classifier_20240708', 'stamp_classifier_20240804', 'stamp_classifier_20240727', 'stamp_classifier_20240716', 'lc_classifier_ztf_20240804', 'stamp_classifier_20240815', 'stamp_classifier_20240826', 'lc_classifier_ztf_20240508', 'lc_classifier_ztf_20240910', 'lc_classifier_ztf_20240909', 'stamp_classifier_20240906', 'stamp_classifier_20240501', 'lc_classifier_ztf_20240417', 'lc_classifier_ztf_20240718', 'lc_classifier_ztf_20240525', 'stamp_classifier_20240710', 'stamp_classifier_20240903', 'stamp_classifier_20240721', 'lc_classifier_ztf_20240603', 'lc_classifier_ztf_20240428', 'lc_classifier_ztf_20240625', 'lc_classifier_ztf_20240430', 'lc_classifier_ztf_20240805', 'lc_classifier_ztf__ATAT_forced_phot_20240904', 'lc_classifier_ztf_20240614', 'lc_classifier_ztf_20240823', 'lc_classifier_ztf_20240423', 'lc_classifier_ztf_20240509', 'lc_classifier_ztf__ATAT_forced_phot_20240908', 'lc_classifier_ztf_20240726', 'lc_classifier_ztf_20240730', 'lc_classifier_ztf__BHRF_forced_phot_20240825', 'lc_classifier_ztf_20240901', 'lc_classifier_ztf_20240629', 'lc_classifier_ztf__BHRF_forced_phot_20240904', 'lc_classifier_ztf__BHRF_forced_phot_20240905', 'lc_classifier_ztf_20240715', 'stamp_classifier_20240530', 'lc_classifier_ztf_20240827', 'lc_classifier_ztf_20240831', 'lc_classifier_ztf_20240729', 'lc_classifier_ztf_20240704', 'lc_classifier_ztf_20240628', 'stamp_classifier_20240717', 'lc_classifier_ztf__ATAT_forced_phot_20240829', 'lc_classifier_ztf_20240516', 'lc_classifier_ztf__BHRF_forced_phot_20240909', 'stamp_classifier_20240728', 'lc_classifier_ztf_20240622', 'stamp_classifier_20240507', 'lc_classifier_ztf_20240606', 'lc_classifier_ztf_20240513', 'lc_classifier_ztf_20240617', 'lc_classifier_ztf_20240531', 'lc_classifier_ztf_20240502', 'lc_classifier_ztf_20240611', 'lc_classifier_ztf__ATAT_forced_phot_20240825', 'lc_classifier_ztf_20240529', 'lc_classifier_ztf_20240902', 'lc_classifier_ztf_20240520', 'stamp_classifier_20240706', 'stamp_classifier_20240731', 'lc_classifier_ztf_20240830', 'lc_classifier_ztf_20240722', 'lc_classifier_ztf__ATAT_forced_phot_20240903', 'stamp_classifier_20240824', 'lc_classifier_ztf_20240416', 'lc_classifier_ztf_20240727', 'stamp_classifier_20240416', 'lc_classifier_ztf__BHRF_forced_phot_20240903', 'lc_classifier_ztf_20240619', 'stamp_classifier_20240720', 'stamp_classifier_20240902', 'lc_classifier_ztf_20240905', 'lc_classifier_ztf_20240723', 'lc_classifier_ztf_20240907', 'lc_classifier_ztf__BHRF_forced_phot_20240831', 'stamp_classifier_20240722', 'stamp_classifier_20240909', 'lc_classifier_ztf__ATAT_forced_phot_20240907', 'stamp_classifier_20240910', 'lc_classifier_ztf_20240719', 'stamp_classifier_20240711', 'stamp_classifier_20240808', 'stamp_classifier_20240829', 'lc_classifier_ztf_20240708', 'lc_classifier_ztf_20240610', 'lc_classifier_ztf_20240824', 'stamp_classifier_20240609', 'lc_classifier_ztf_20240528', 'stamp_classifier_20240531', 'stamp_classifier_20240802', 'lc_classifier_ztf_20240608', 'lc_classifier_ztf_20240521', 'lc_classifier_ztf_20240517', 'stamp_classifier_20240730', 'stamp_classifier_20240606', 'lc_classifier_ztf__BHRF_forced_phot_20240906', 'lc_classifier_ztf_20240626', 'lc_classifier_ztf_20240506', 'stamp_classifier_20240528', 'lc_classifier_ztf_20240711', 'lc_classifier_ztf__ATAT_forced_phot_20240830', 'stamp_classifier_20240622', 'stamp_classifier_20240818', 'stamp_classifier_20240430', 'stamp_classifier_20240502', 'stamp_classifier_20240718', 'stamp_classifier_20240611', 'lc_classifier_ztf_20240420', 'stamp_classifier_20240712', 'lc_classifier_ztf__BHRF_forced_phot_20240824', 'lc_classifier_ztf_20240802', 'stamp_classifier_20240423', 'lc_classifier_ztf__ATAT_forced_phot_20240824', 'lc_classifier_ztf_20240607', 'stamp_classifier_20240823', 'lc_classifier_ztf_20240501', 'lc_classifier_ztf_20240813', 'lc_classifier_ztf__BHRF_forced_phot_20240910', 'stamp_classifier_20240629', 'lc_classifier_ztf_20240618', 'lc_classifier_ztf_20240621', 'stamp_classifier_20240812', 'stamp_classifier_20240729', 'lc_classifier_ztf_20240712', 'lc_classifier_ztf_20240512', 'lc_classifier_ztf__ATAT_forced_phot_20240828', 'lc_classifier_ztf_20240409', 'lc_classifier_ztf__ATAT_forced_phot_20240822', 'lc_classifier_ztf__BHRF_forced_phot_20240827', 'lc_classifier_ztf__ATAT_forced_phot_20240827', 'lc_classifier_ztf_20240518', 'lc_classifier_ztf_20240806', 'stamp_classifier_20240816', 'stamp_classifier_20240810', 'lc_classifier_ztf_20240721', 'stamp_classifier_20240603', 'lc_classifier_ztf_20240716', 'lc_classifier_ztf_20240507', 'lc_classifier_ztf__ATAT_forced_phot_20240906', 'lc_classifier_ztf_20240604', 'lc_classifier_ztf_20240728', 'lc_classifier_ztf__ATAT_forced_phot_20240909', 'stamp_classifier_20240821', 'stamp_classifier_20240618', 'stamp_classifier_20240901', 'lc_classifier_ztf_20240705', 'lc_classifier_ztf_20240828', 'lc_classifier_ztf_20240609', 'stamp_classifier_20240908', 'lc_classifier_ztf__BHRF_forced_phot_20240823', 'lc_classifier_ztf_20240522', 'stamp_classifier_20240807', 'stamp_classifier_20240510', 'lc_classifier_ztf_20240527', 'stamp_classifier_20240805', 'lc_classifier_ztf__BHRF_forced_phot_20240902', 'lc_classifier_ztf__ATAT_forced_phot_20240831', 'lc_classifier_ztf__ATAT_forced_phot_20240902', 'lc_classifier_ztf_20240904', 'lc_classifier_ztf_20240709', 'lc_classifier_ztf_20240424', 'lc_classifier_ztf_20240724', 'stamp_classifier_20240408', 'stamp_classifier_20240723', 'stamp_classifier_20240831', 'stamp_classifier_20240905', 'stamp_classifier_20240630', 'stamp_classifier_20240715', 'lc_classifier_ztf_20240627', 'lc_classifier_ztf_20240710', 'stamp_classifier_20240610', 'stamp_classifier_20240704', 'lc_classifier_ztf_20240908', 'lc_classifier_ztf_20240503', 'lc_classifier_ztf__ATAT_forced_phot_20240901', 'lc_classifier_ztf_20240825', 'lc_classifier_ztf_20240511', 'stamp_classifier_20240621', 'stamp_classifier_20240813', 'stamp_classifier_20240713', 'lc_classifier_ztf__ATAT_forced_phot_20240823', 'lc_classifier_ztf__BHRF_forced_phot_20240828', 'lc_classifier_ztf_20240514', 'lc_classifier_ztf__ATAT_forced_phot_20240910', 'stamp_classifier_20240814', 'lc_classifier_ztf_20240803', 'lc_classifier_ztf_20240419', 'stamp_classifier_20240726', 'lc_classifier_ztf_20240713', 'stamp_classifier_20240709', 'stamp_classifier_20240724', 'stamp_classifier_20240803', 'lc_classifier_ztf_20240809', 'lc_classifier_ztf_20240814', 'lc_classifier_ztf_20240421', 'lc_classifier_ztf__BHRF_forced_phot_20240907', 'stamp_classifier_20240825', 'stamp_classifier_20240827']\n"
     ]
    }
   ],
   "source": [
    "conf = {\n",
    "    'bootstrap.servers': settings.ALERCE_KAFKA,\n",
    "    'group.id'         : settings.ALERCE_GROUP_ID,\n",
    "    'security.protocol': 'SASL_SSL',\n",
    "    'sasl.mechanism'   : 'SCRAM-SHA-512',\n",
    "    'sasl.username'    : 'lasair',\n",
    "    'sasl.password'    : settings.ALERCE_PASSWORD,\n",
    "    'auto.offset.reset': 'earliest',\n",
    "}\n",
    "streamReader = Consumer(conf)\n",
    "t = list(streamReader.list_topics().topics.keys())\n",
    "print('Topics are ', t)"
   ]
  },
  {
   "cell_type": "code",
   "execution_count": null,
   "id": "6ac3e7f6-04e5-4e9c-9ce6-5f7bc41b6885",
   "metadata": {},
   "outputs": [],
   "source": []
  },
  {
   "cell_type": "code",
   "execution_count": null,
   "id": "30cab57a-f04c-4d62-a212-e8747253539e",
   "metadata": {},
   "outputs": [],
   "source": []
  }
 ],
 "metadata": {
  "kernelspec": {
   "display_name": "Python 3 (ipykernel)",
   "language": "python",
   "name": "python3"
  },
  "language_info": {
   "codemirror_mode": {
    "name": "ipython",
    "version": 3
   },
   "file_extension": ".py",
   "mimetype": "text/x-python",
   "name": "python",
   "nbconvert_exporter": "python",
   "pygments_lexer": "ipython3",
   "version": "3.9.6"
  }
 },
 "nbformat": 4,
 "nbformat_minor": 5
}
