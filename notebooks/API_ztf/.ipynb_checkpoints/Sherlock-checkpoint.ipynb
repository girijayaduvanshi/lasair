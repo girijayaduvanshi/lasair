{
 "cells": [
  {
   "cell_type": "markdown",
   "metadata": {
    "id": "A8vDiNPzBIwG"
   },
   "source": [
    "# Sherlock (Context Classification)\n",
    "### Ken Smith\n",
    "The Sherlock service gives the context of a list of objects in the sky based on numerous large catalogues (e.g. Pan-STARRS1, Gaia DR2, etc.).  The service can also accept an arbitrary position in the sky.\n",
    "\n",
    "Demonstrates usage of:\n",
    "* /streams/```topic```/\n",
    "* /sherlock/objects/\n",
    "* /sherlock/position/\n",
    "\n",
    "\n",
    "### Python (3 only) requirements - pip install\n",
    "lasair"
   ]
  },
  {
   "cell_type": "code",
   "execution_count": 1,
   "metadata": {
    "colab": {
     "base_uri": "https://localhost:8080/"
    },
    "id": "aHndouWzAIgl",
    "outputId": "0f6ee378-72cc-4ba3-b47b-a7715393aace"
   },
   "outputs": [],
   "source": [
    "import sys\n",
    "sys.path.append('../../../lasair/lasair_api')\n",
    "#!pip install lasair"
   ]
  },
  {
   "cell_type": "markdown",
   "metadata": {
    "id": "5XEowXLMBIwN"
   },
   "source": [
    "### Grab my Lasair API token\n",
    "Get your Lasair token before you start. You can log into [Lasair](https://lasair.lsst.ac.uk) and click \"My Profile\"\n",
    "at top right. Or use the command-line below.\n",
    "```bash\n",
    "curl --data \"username=myusername&password=***********\" https://lasair-ztf.lsst.ac.uk/api/auth-token/\n",
    "```\n",
    "Make a file called settings.py with a line like: `API_TOKEN = '0123456789abcdefxxxxxxxxxxxxxxxxxxxxxxxx'`"
   ]
  },
  {
   "cell_type": "code",
   "execution_count": 2,
   "metadata": {
    "id": "9qA9W7VVBIwN"
   },
   "outputs": [
    {
     "name": "stderr",
     "output_type": "stream",
     "text": [
      "/Users/rwillia5/Library/Python/3.9/lib/python/site-packages/urllib3/__init__.py:35: NotOpenSSLWarning: urllib3 v2 only supports OpenSSL 1.1.1+, currently the 'ssl' module is compiled with 'LibreSSL 2.8.3'. See: https://github.com/urllib3/urllib3/issues/3020\n",
      "  warnings.warn(\n"
     ]
    }
   ],
   "source": [
    "import settings\n",
    "from lasair import LasairError, lasair_client as lasair\n",
    "import json"
   ]
  },
  {
   "cell_type": "markdown",
   "metadata": {
    "id": "ZxC5Cw_KBIwO"
   },
   "source": [
    "### Here are some objects"
   ]
  },
  {
   "cell_type": "code",
   "execution_count": 3,
   "metadata": {
    "id": "bwlFACSXBIwO"
   },
   "outputs": [],
   "source": [
    "objs = {\n",
    "'ZTF23aboahkf':{'ra':\t171.41988, 'dec':\t 4.335347},\n",
    "'ZTF23ablcrxf':{'ra':\t135.85068, 'dec':\t 2.445977},\n",
    "'ZTF23ablcnik':{'ra':\t139.62140, 'dec':\t 3.454749},\n",
    "'ZTF23abiusasASptv':{'ra':\t163.70436, 'dec':\t22.694256},\n",
    "'ZTF23abiuafq':{'ra':\t154.91008, 'dec':\t26.308471},\n",
    "'ZTF23abgolun':{'ra':\t256.72185, 'dec':\t 9.427679},\n",
    "}"
   ]
  },
  {
   "cell_type": "markdown",
   "metadata": {},
   "source": [
    "Start the Lasair API client"
   ]
  },
  {
   "cell_type": "code",
   "execution_count": 4,
   "metadata": {},
   "outputs": [],
   "source": [
    "L = lasair(settings.API_TOKEN, endpoint = \"https://lasair-ztf.lsst.ac.uk/api\")"
   ]
  },
  {
   "cell_type": "markdown",
   "metadata": {
    "id": "6YKsQJB9BIwP"
   },
   "source": [
    "### Get Sherlock info by objectId"
   ]
  },
  {
   "cell_type": "code",
   "execution_count": 5,
   "metadata": {
    "colab": {
     "base_uri": "https://localhost:8080/"
    },
    "id": "GJlH2Wc_BIwP",
    "outputId": "a29bd967-3c0f-43be-91ae-d754d502c2f5"
   },
   "outputs": [
    {
     "name": "stdout",
     "output_type": "stream",
     "text": [
      "ZTF23abgolun [\n",
      "  \"SN\",\n",
      "  \"The transient is possibly associated with <em>119312567216573824</em>; an r=20.66 mag galaxy found in the PS1 catalogue. It's located 0.53\\\" S, 0.54\\\" E from the galaxy centre.\"\n",
      "]\n",
      "{\n",
      "  \"transient_object_id\": \"ZTF23abgolun\",\n",
      "  \"association_type\": \"SN\",\n",
      "  \"catalogue_table_name\": \"PS1\",\n",
      "  \"catalogue_object_id\": \"119312567216573824\",\n",
      "  \"catalogue_object_type\": \"galaxy\",\n",
      "  \"raDeg\": 256.721695208,\n",
      "  \"decDeg\": 9.42782506,\n",
      "  \"separationArcsec\": 0.758,\n",
      "  \"northSeparationArcsec\": \"0.52726\",\n",
      "  \"eastSeparationArcsec\": \"-0.54440\",\n",
      "  \"physical_separation_kpc\": null,\n",
      "  \"direct_distance\": null,\n",
      "  \"distance\": null,\n",
      "  \"z\": null,\n",
      "  \"photoZ\": null,\n",
      "  \"photoZErr\": null,\n",
      "  \"Mag\": 20.664,\n",
      "  \"MagFilter\": \"r\",\n",
      "  \"MagErr\": 0.004,\n",
      "  \"classificationReliability\": 2,\n",
      "  \"major_axis_arcsec\": 5.209\n",
      "}\n",
      "1\n"
     ]
    }
   ],
   "source": [
    "result = L.sherlock_objects(objs.keys(), lite = True)\n",
    "\n",
    "for k, v in result['classifications'].items():\n",
    "    print(k, json.dumps(v, indent=2))\n",
    "\n",
    "for row in result['crossmatches']:\n",
    "    print(json.dumps(row, indent=2))\n",
    "\n",
    "print(len(result['crossmatches']))\n"
   ]
  },
  {
   "cell_type": "markdown",
   "metadata": {
    "id": "Zkor8vs2BIwQ"
   },
   "source": [
    "### Get Sherlock by Position"
   ]
  },
  {
   "cell_type": "code",
   "execution_count": 6,
   "metadata": {
    "colab": {
     "base_uri": "https://localhost:8080/"
    },
    "id": "5ID-FRCzBIwR",
    "outputId": "6853b3cf-8a7a-4599-f191-478c0a0b4064"
   },
   "outputs": [
    {
     "name": "stdout",
     "output_type": "stream",
     "text": [
      "{\n",
      "  \"classifications\": {\n",
      "    \"transient_00000\": [\n",
      "      \"NT\",\n",
      "      \"The transient is synonymous with <em><a href=\\\"http://skyserver.sdss.org/dr12/en/tools/explore/Summary.aspx?id=1237654604793839677\\\">SDSS J112540.80+042007.6</a></em>; an r=16.41 mag galaxy found in the SDSS catalogue. It's located 0.7\\\" (1.3 Kpc) from the galaxy core. A host z=0.098 implies a <em>m - M =</em> 38.27.\"\n",
      "    ]\n",
      "  },\n",
      "  \"crossmatches\": [\n",
      "    {\n",
      "      \"transient_object_id\": \"transient_00000\",\n",
      "      \"association_type\": \"NT\",\n",
      "      \"catalogue_table_name\": \"SDSS\",\n",
      "      \"catalogue_object_id\": \"1237654604793839677\",\n",
      "      \"catalogue_object_type\": \"galaxy\",\n",
      "      \"raDeg\": 171.42004074730409,\n",
      "      \"decDeg\": 4.3354624221364,\n",
      "      \"separationArcsec\": 0.711,\n",
      "      \"northSeparationArcsec\": \"0.416\",\n",
      "      \"eastSeparationArcsec\": \"0.577\",\n",
      "      \"physical_separation_kpc\": 1.289,\n",
      "      \"direct_distance\": null,\n",
      "      \"distance\": 450.891,\n",
      "      \"z\": 0.098,\n",
      "      \"photoZ\": null,\n",
      "      \"photoZErr\": null,\n",
      "      \"Mag\": 16.41,\n",
      "      \"MagFilter\": \"r\",\n",
      "      \"MagErr\": 0.018,\n",
      "      \"classificationReliability\": 1,\n",
      "      \"major_axis_arcsec\": null\n",
      "    }\n",
      "  ]\n",
      "}\n",
      "{\n",
      "  \"classifications\": {\n",
      "    \"transient_00000\": [\n",
      "      \"NT\",\n",
      "      \"The transient is synonymous with <em><a href=\\\"https://ned.ipac.caltech.edu/cgi-bin/objsearch?objname=2MASXJ09032416%2B0226451&extend=no&hconst=73&omegam=0.27&omegav=0.73&corr_z=1&out_csys=Equatorial&out_equinox=J2000.0&obj_sort=RA+or+Longitude&of=pre_text&zv_breaker=30000.0&list_limit=5&img_stamp=YES\\\">2MASXJ09032416%2B0226451</a></em>; a G=18.45 mag galaxy found in the NED/SDSS/GAIA catalogues. It's located 0.4\\\" (1.3 Kpc) from the galaxy core. A host z=0.188 implies a <em>m - M =</em> 39.81.\"\n",
      "    ]\n",
      "  },\n",
      "  \"crossmatches\": [\n",
      "    {\n",
      "      \"transient_object_id\": \"transient_00000\",\n",
      "      \"association_type\": \"NT\",\n",
      "      \"catalogue_table_name\": \"NED/SDSS/GAIA\",\n",
      "      \"catalogue_object_id\": \"2MASXJ09032416+0226451\",\n",
      "      \"catalogue_object_type\": \"galaxy\",\n",
      "      \"raDeg\": 135.850791667,\n",
      "      \"decDeg\": 2.44594444444,\n",
      "      \"separationArcsec\": 0.418,\n",
      "      \"northSeparationArcsec\": \"-0.1629\",\n",
      "      \"eastSeparationArcsec\": \"0.4007\",\n",
      "      \"physical_separation_kpc\": 1.315,\n",
      "      \"direct_distance\": null,\n",
      "      \"distance\": 914.877,\n",
      "      \"z\": 0.188,\n",
      "      \"photoZ\": null,\n",
      "      \"photoZErr\": null,\n",
      "      \"Mag\": 17.415,\n",
      "      \"MagFilter\": \"r\",\n",
      "      \"MagErr\": 0.01,\n",
      "      \"classificationReliability\": 1,\n",
      "      \"major_axis_arcsec\": null\n",
      "    }\n",
      "  ]\n",
      "}\n",
      "{\n",
      "  \"classifications\": {\n",
      "    \"transient_00000\": [\n",
      "      \"NT\",\n",
      "      \"The transient is synonymous with <em><a href=\\\"https://ned.ipac.caltech.edu/cgi-bin/objsearch?objname=SDSSJ091829.11%2B032717.1&extend=no&hconst=73&omegam=0.27&omegav=0.73&corr_z=1&out_csys=Equatorial&out_equinox=J2000.0&obj_sort=RA+or+Longitude&of=pre_text&zv_breaker=30000.0&list_limit=5&img_stamp=YES\\\">SDSSJ091829.11%2B032717.1</a></em>; a G=19.15 mag galaxy found in the NED/SDSS/GAIA catalogues. It's located 0.4\\\" (0.6 Kpc) from the galaxy core. A host z=0.086 implies a <em>m - M =</em> 37.98.\"\n",
      "    ]\n",
      "  },\n",
      "  \"crossmatches\": [\n",
      "    {\n",
      "      \"transient_object_id\": \"transient_00000\",\n",
      "      \"association_type\": \"NT\",\n",
      "      \"catalogue_table_name\": \"NED/SDSS/GAIA\",\n",
      "      \"catalogue_object_id\": \"SDSSJ091829.11+032717.1\",\n",
      "      \"catalogue_object_type\": \"galaxy\",\n",
      "      \"raDeg\": 139.62129324086183,\n",
      "      \"decDeg\": 3.4547507021812986,\n",
      "      \"separationArcsec\": 0.384,\n",
      "      \"northSeparationArcsec\": \"0.03\",\n",
      "      \"eastSeparationArcsec\": \"-0.39\",\n",
      "      \"physical_separation_kpc\": 0.62,\n",
      "      \"direct_distance\": null,\n",
      "      \"distance\": 393.617,\n",
      "      \"z\": 0.086,\n",
      "      \"photoZ\": null,\n",
      "      \"photoZErr\": null,\n",
      "      \"Mag\": 17.29,\n",
      "      \"MagFilter\": \"r\",\n",
      "      \"MagErr\": 0.008,\n",
      "      \"classificationReliability\": 1,\n",
      "      \"major_axis_arcsec\": null\n",
      "    }\n",
      "  ]\n",
      "}\n",
      "{\n",
      "  \"classifications\": {\n",
      "    \"transient_00000\": [\n",
      "      \"NT\",\n",
      "      \"The transient is synonymous with <em><a href=\\\"http://skyserver.sdss.org/dr12/en/tools/explore/Summary.aspx?id=1237667536939188371\\\">SDSS J105449.04+224139.3</a></em>; a V=16.68 mag galaxy found in the SDSS/GSC/GAIA catalogues. It's located 0.0\\\" (0.0 Kpc) from the galaxy core. A host z=0.078 implies a <em>m - M =</em> 37.76.\"\n",
      "    ]\n",
      "  },\n",
      "  \"crossmatches\": [\n",
      "    {\n",
      "      \"transient_object_id\": \"transient_00000\",\n",
      "      \"association_type\": \"NT\",\n",
      "      \"catalogue_table_name\": \"SDSS/GSC/GAIA\",\n",
      "      \"catalogue_object_id\": \"1237667536939188371\",\n",
      "      \"catalogue_object_type\": \"galaxy\",\n",
      "      \"raDeg\": 163.70435984853833,\n",
      "      \"decDeg\": 22.694257325998745,\n",
      "      \"separationArcsec\": 0.006,\n",
      "      \"northSeparationArcsec\": \"0.204\",\n",
      "      \"eastSeparationArcsec\": \"0.142\",\n",
      "      \"physical_separation_kpc\": 0.009,\n",
      "      \"direct_distance\": null,\n",
      "      \"distance\": 355.986,\n",
      "      \"z\": 0.078,\n",
      "      \"photoZ\": null,\n",
      "      \"photoZErr\": null,\n",
      "      \"Mag\": 16.723,\n",
      "      \"MagFilter\": \"r\",\n",
      "      \"MagErr\": 0.005,\n",
      "      \"classificationReliability\": 1,\n",
      "      \"major_axis_arcsec\": null\n",
      "    }\n",
      "  ]\n",
      "}\n",
      "{\n",
      "  \"classifications\": {\n",
      "    \"transient_00000\": [\n",
      "      \"NT\",\n",
      "      \"The transient is synonymous with <em><a href=\\\"https://ned.ipac.caltech.edu/cgi-bin/objsearch?objname=SDSSJ101938.41%2B261830.6&extend=no&hconst=73&omegam=0.27&omegav=0.73&corr_z=1&out_csys=Equatorial&out_equinox=J2000.0&obj_sort=RA+or+Longitude&of=pre_text&zv_breaker=30000.0&list_limit=5&img_stamp=YES\\\">SDSSJ101938.41%2B261830.6</a></em>; a G=19.16 mag galaxy found in the NED/SDSS/GAIA catalogues. It's located 0.2\\\" (0.5 Kpc) from the galaxy core. A host z=0.175 implies a <em>m - M =</em> 39.63.\"\n",
      "    ]\n",
      "  },\n",
      "  \"crossmatches\": [\n",
      "    {\n",
      "      \"transient_object_id\": \"transient_00000\",\n",
      "      \"association_type\": \"NT\",\n",
      "      \"catalogue_table_name\": \"NED/SDSS/GAIA\",\n",
      "      \"catalogue_object_id\": \"SDSSJ101938.41+261830.6\",\n",
      "      \"catalogue_object_type\": \"galaxy\",\n",
      "      \"raDeg\": 154.91008110849373,\n",
      "      \"decDeg\": 26.308520420379406,\n",
      "      \"separationArcsec\": 0.178,\n",
      "      \"northSeparationArcsec\": \"0.179\",\n",
      "      \"eastSeparationArcsec\": \"0.062\",\n",
      "      \"physical_separation_kpc\": 0.528,\n",
      "      \"direct_distance\": null,\n",
      "      \"distance\": 843.763,\n",
      "      \"z\": 0.175,\n",
      "      \"photoZ\": null,\n",
      "      \"photoZErr\": null,\n",
      "      \"Mag\": 17.451,\n",
      "      \"MagFilter\": \"r\",\n",
      "      \"MagErr\": 0.015,\n",
      "      \"classificationReliability\": 1,\n",
      "      \"major_axis_arcsec\": null\n",
      "    }\n",
      "  ]\n",
      "}\n",
      "{\n",
      "  \"classifications\": {\n",
      "    \"transient_00000\": [\n",
      "      \"SN\",\n",
      "      \"The transient is possibly associated with <em>119312567216573824</em>; an r=20.66 mag galaxy found in the PS1 catalogue. It's located 0.53\\\" S, 0.55\\\" E from the galaxy centre.\"\n",
      "    ]\n",
      "  },\n",
      "  \"crossmatches\": [\n",
      "    {\n",
      "      \"transient_object_id\": \"transient_00000\",\n",
      "      \"association_type\": \"SN\",\n",
      "      \"catalogue_table_name\": \"PS1\",\n",
      "      \"catalogue_object_id\": \"119312567216573824\",\n",
      "      \"catalogue_object_type\": \"galaxy\",\n",
      "      \"raDeg\": 256.721695208,\n",
      "      \"decDeg\": 9.42782506,\n",
      "      \"separationArcsec\": 0.761,\n",
      "      \"northSeparationArcsec\": \"0.53\",\n",
      "      \"eastSeparationArcsec\": \"-0.55\",\n",
      "      \"physical_separation_kpc\": null,\n",
      "      \"direct_distance\": null,\n",
      "      \"distance\": null,\n",
      "      \"z\": null,\n",
      "      \"photoZ\": null,\n",
      "      \"photoZErr\": null,\n",
      "      \"Mag\": 20.664,\n",
      "      \"MagFilter\": \"r\",\n",
      "      \"MagErr\": 0.004,\n",
      "      \"classificationReliability\": 2,\n",
      "      \"major_axis_arcsec\": 5.209\n",
      "    }\n",
      "  ]\n",
      "}\n"
     ]
    }
   ],
   "source": [
    "for objectId, position in objs.items():\n",
    "    result = L.sherlock_position(position['ra'], position['dec'], lite = True)\n",
    "    print(json.dumps(result, indent=2))"
   ]
  },
  {
   "cell_type": "code",
   "execution_count": null,
   "metadata": {},
   "outputs": [],
   "source": []
  }
 ],
 "metadata": {
  "colab": {
   "provenance": []
  },
  "kernelspec": {
   "display_name": "Python 3 (ipykernel)",
   "language": "python",
   "name": "python3"
  },
  "language_info": {
   "codemirror_mode": {
    "name": "ipython",
    "version": 3
   },
   "file_extension": ".py",
   "mimetype": "text/x-python",
   "name": "python",
   "nbconvert_exporter": "python",
   "pygments_lexer": "ipython3",
   "version": "3.9.6"
  }
 },
 "nbformat": 4,
 "nbformat_minor": 4
}
