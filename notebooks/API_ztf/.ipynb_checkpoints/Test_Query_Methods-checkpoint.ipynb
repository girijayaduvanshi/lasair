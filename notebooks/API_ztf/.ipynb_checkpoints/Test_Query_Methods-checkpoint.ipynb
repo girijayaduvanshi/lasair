{
 "cells": [
  {
   "cell_type": "markdown",
   "id": "1e8c3712-21ff-42b6-835f-d23614b77718",
   "metadata": {},
   "source": [
    "# Test notebook to exercise the Lasair API"
   ]
  },
  {
   "cell_type": "markdown",
   "id": "89bb9412-98ad-4158-b650-9ac9ba0b6d30",
   "metadata": {},
   "source": [
    "Important: change this to the correct import!"
   ]
  },
  {
   "cell_type": "code",
   "execution_count": 1,
   "id": "d5dacfd7-db01-41b5-83df-4e9479dab89b",
   "metadata": {},
   "outputs": [],
   "source": [
    "import sys\n",
    "sys.path.append('../../../lasair/lasair_api')"
   ]
  },
  {
   "cell_type": "markdown",
   "id": "e2648766-f891-42b9-8e5f-00bf42d9964d",
   "metadata": {},
   "source": [
    "Change this to the endpoint you want to test"
   ]
  },
  {
   "cell_type": "code",
   "execution_count": null,
   "id": "da26750c-9e25-44a0-8f3f-891877c0b19c",
   "metadata": {},
   "outputs": [],
   "source": [
    "endpoint = \"https://lasair-lsst.lsst.ac.uk/api\""
   ]
  },
  {
   "cell_type": "markdown",
   "id": "e4e2bb17-12f8-40eb-a34e-a6250a172628",
   "metadata": {},
   "source": [
    "Fetch your API TOKEN from your Lasair account, top right under \"profile\""
   ]
  },
  {
   "cell_type": "code",
   "execution_count": 2,
   "id": "92bccfc8-56f0-4c43-badf-e9321ddeb265",
   "metadata": {},
   "outputs": [
    {
     "name": "stderr",
     "output_type": "stream",
     "text": [
      "/Users/rwillia5/Library/Python/3.9/lib/python/site-packages/urllib3/__init__.py:35: NotOpenSSLWarning: urllib3 v2 only supports OpenSSL 1.1.1+, currently the 'ssl' module is compiled with 'LibreSSL 2.8.3'. See: https://github.com/urllib3/urllib3/issues/3020\n",
      "  warnings.warn(\n"
     ]
    }
   ],
   "source": [
    "import json\n",
    "from lasair import LasairError, lasair_client as lasair\n",
    "import settings\n",
    "L = lasair(settings.API_TOKEN, endpoint=endpoint)"
   ]
  },
  {
   "cell_type": "markdown",
   "id": "229a8cfb-ec3c-4868-b753-c140561ffb06",
   "metadata": {},
   "source": [
    "## Cone search"
   ]
  },
  {
   "cell_type": "code",
   "execution_count": 3,
   "id": "a89f2872-5f53-414d-a5c9-f357491e7fad",
   "metadata": {},
   "outputs": [
    {
     "name": "stdout",
     "output_type": "stream",
     "text": [
      "{\n",
      "  \"object\": 3068394045081387934,\n",
      "  \"separation\": 5.808506678969507\n",
      "}\n"
     ]
    }
   ],
   "source": [
    "ra = 279.22\n",
    "dec = -47.91\n",
    "radius = 60 # arcsec\n",
    "result = L.cone(ra, dec, radius, requestType='nearest')\n",
    "print(json.dumps(result, indent=2))"
   ]
  },
  {
   "cell_type": "markdown",
   "id": "630cd4ba-065b-4ccc-97b0-1e3f9a6b6475",
   "metadata": {},
   "source": [
    "## Database query"
   ]
  },
  {
   "cell_type": "code",
   "execution_count": 17,
   "id": "0fab510d-d177-4102-bcce-4f3b3e912df9",
   "metadata": {},
   "outputs": [
    {
     "name": "stdout",
     "output_type": "stream",
     "text": [
      "3068394045081387901 279.2203920800971 -47.90193859400127\n",
      "3068394045081387908 279.2467187831882 -47.88871227858427\n",
      "3068394045081387934 279.2217203608399 -47.90887150196729\n",
      "3068394045081387939 279.2253919242229 -47.90777528199906\n",
      "3068394045081387958 279.2554005179302 -47.895938027989274\n",
      "3068394045081387964 279.21458271003064 -47.91833044308954\n",
      "3068394045081387971 279.25136588731846 -47.899997212844845\n",
      "3068394045081387990 279.2313001468848 -47.91533626987422\n",
      "3068394045081388191 279.20700309716574 -47.97149793234609\n",
      "3068394045081388195 279.19937619194667 -47.97710790540636\n"
     ]
    }
   ],
   "source": [
    "selected = 'objects.diaObjectId, objects.ra, objects.decl'\n",
    "tables = 'objects,sherlock_classifications'\n",
    "conditions = 'classification=\"SN\"'\n",
    "results = L.query(selected, tables, conditions, limit = 10)\n",
    "\n",
    "for row in results:\n",
    "    objectId = row['diaObjectId']\n",
    "    ra = row['ra']\n",
    "    dec = row['decl']\n",
    "    print(objectId, ra, dec)\n",
    "\n",
    "# Just use this objectId in subsequent calls\n",
    "objectId = str(objectId)"
   ]
  },
  {
   "cell_type": "markdown",
   "id": "269967d9-50a6-45c2-858a-37adf5fd5a69",
   "metadata": {},
   "source": [
    "## Lightcurves"
   ]
  },
  {
   "cell_type": "code",
   "execution_count": 18,
   "id": "fc26ee55-3bf0-48b1-8a5e-c00f6e9957a1",
   "metadata": {
    "scrolled": true
   },
   "outputs": [
    {
     "name": "stdout",
     "output_type": "stream",
     "text": [
      "[\n",
      "  {\n",
      "    \"diaObjectId\": \"3068394045081388195\",\n",
      "    \"candidates\": [\n",
      "      [\n",
      "        {\n",
      "          \"diasourceid\": 3068394045081388195,\n",
      "          \"midpointmjdtai\": 60487.05553157995,\n",
      "          \"ra\": 279.19914544585345,\n",
      "          \"decl\": -47.97708201893534,\n",
      "          \"band\": \"r\",\n",
      "          \"psfflux\": 7950.373046875,\n",
      "          \"psffluxerr\": 689.3508911132812\n",
      "        },\n",
      "        {\n",
      "          \"diasourceid\": 3068394067655132297,\n",
      "          \"midpointmjdtai\": 60487.06671560755,\n",
      "          \"ra\": 279.1995008178643,\n",
      "          \"decl\": -47.97711422116931,\n",
      "          \"band\": \"g\",\n",
      "          \"psfflux\": -5862.08251953125,\n",
      "          \"psffluxerr\": 373.80389404296875\n",
      "        },\n",
      "        {\n",
      "          \"diasourceid\": 3068394074097583472,\n",
      "          \"midpointmjdtai\": 60487.06952734964,\n",
      "          \"ra\": 279.1994823122935,\n",
      "          \"decl\": -47.977127475767084,\n",
      "          \"band\": \"g\",\n",
      "          \"psfflux\": -5150.45751953125,\n",
      "          \"psffluxerr\": 427.73492431640625\n",
      "        }\n",
      "      ],\n",
      "      [\n",
      "        {\n",
      "          \"midpointmjdtai\": 60487.06952734964,\n",
      "          \"band\": \"g\",\n",
      "          \"psfflux\": -4313.9716796875,\n",
      "          \"psffluxerr\": 541.89013671875\n",
      "        }\n",
      "      ]\n",
      "    ]\n",
      "  }\n",
      "]\n"
     ]
    }
   ],
   "source": [
    "result = L.lightcurves([objectId])\n",
    "print(json.dumps(result, indent=2))"
   ]
  },
  {
   "cell_type": "markdown",
   "id": "df1f158e-17b3-4c8f-92b4-536334cae1dc",
   "metadata": {},
   "source": [
    "## Sherlock Object"
   ]
  },
  {
   "cell_type": "code",
   "execution_count": 20,
   "id": "0a99e90d-c11e-49d5-b42c-2d26fd10efdc",
   "metadata": {
    "scrolled": true
   },
   "outputs": [
    {
     "name": "stdout",
     "output_type": "stream",
     "text": [
      "{\n",
      "  \"classifications\": {\n",
      "    \"3068394045081388195\": [\n",
      "      \"SN\",\n",
      "      \"The transient is possibly associated with <em>18364659-4758283</em>; a J=14.19 mag galaxy found in the 2MASS catalogue. It's located 9.28\\\" S, 12.59\\\" E from the galaxy centre.\"\n",
      "    ]\n",
      "  },\n",
      "  \"crossmatches\": [\n",
      "    {\n",
      "      \"Mag\": 14.187,\n",
      "      \"MagErr\": 0.126,\n",
      "      \"MagFilter\": \"J\",\n",
      "      \"association_type\": \"SN\",\n",
      "      \"catalogue_object_id\": \"18364659-4758283\",\n",
      "      \"catalogue_object_type\": \"galaxy\",\n",
      "      \"catalogue_table_name\": \"2MASS\",\n",
      "      \"classificationReliability\": 2,\n",
      "      \"decDeg\": -47.974529,\n",
      "      \"direct_distance\": null,\n",
      "      \"distance\": null,\n",
      "      \"eastSeparationArcsec\": \"-12.5879\",\n",
      "      \"major_axis_arcsec\": null,\n",
      "      \"northSeparationArcsec\": \"9.2841\",\n",
      "      \"photoZ\": null,\n",
      "      \"photoZErr\": null,\n",
      "      \"physical_separation_kpc\": null,\n",
      "      \"raDeg\": 279.194153,\n",
      "      \"separationArcsec\": 15.641,\n",
      "      \"transient_object_id\": \"3068394045081388195\",\n",
      "      \"z\": null\n",
      "    }\n",
      "  ]\n",
      "}\n"
     ]
    }
   ],
   "source": [
    "result = L.sherlock_object(objectId)\n",
    "print(json.dumps(result, indent=2))"
   ]
  },
  {
   "cell_type": "markdown",
   "id": "7f55d1b2-766a-49b4-a2b4-f1535a5acf7f",
   "metadata": {},
   "source": [
    "## Sherlock Position"
   ]
  },
  {
   "cell_type": "code",
   "execution_count": 21,
   "id": "5ec9986d-0fda-4ecc-bdf7-bd2ea0fb7b40",
   "metadata": {
    "scrolled": true
   },
   "outputs": [
    {
     "name": "stdout",
     "output_type": "stream",
     "text": [
      "{\n",
      "  \"classifications\": {\n",
      "    \"query0\": [\n",
      "      \"SN\",\n",
      "      \"The transient is possibly associated with <em>18364659-4758283</em>; a J=14.19 mag galaxy found in the 2MASS catalogue. It's located 9.28\\\" S, 12.59\\\" E from the galaxy centre.\"\n",
      "    ]\n",
      "  },\n",
      "  \"crossmatches\": [\n",
      "    {\n",
      "      \"Mag\": 14.187,\n",
      "      \"MagErr\": 0.126,\n",
      "      \"MagFilter\": \"J\",\n",
      "      \"association_type\": \"SN\",\n",
      "      \"catalogue_object_id\": \"18364659-4758283\",\n",
      "      \"catalogue_object_type\": \"galaxy\",\n",
      "      \"catalogue_table_name\": \"2MASS\",\n",
      "      \"classificationReliability\": 2,\n",
      "      \"decDeg\": -47.974529,\n",
      "      \"direct_distance\": null,\n",
      "      \"distance\": null,\n",
      "      \"eastSeparationArcsec\": \"-12.5879\",\n",
      "      \"major_axis_arcsec\": null,\n",
      "      \"northSeparationArcsec\": \"9.2840\",\n",
      "      \"photoZ\": null,\n",
      "      \"photoZErr\": null,\n",
      "      \"physical_separation_kpc\": null,\n",
      "      \"raDeg\": 279.194153,\n",
      "      \"separationArcsec\": 15.641,\n",
      "      \"transient_object_id\": \"query0\",\n",
      "      \"z\": null\n",
      "    }\n",
      "  ]\n",
      "}\n"
     ]
    }
   ],
   "source": [
    "result = L.sherlock_position(ra, dec, lite=True)\n",
    "print(json.dumps(result, indent=2))"
   ]
  },
  {
   "cell_type": "markdown",
   "id": "e95d33b8-9662-4fc3-b583-93bdd2a9fa67",
   "metadata": {},
   "source": [
    "## All object data"
   ]
  },
  {
   "cell_type": "code",
   "execution_count": 15,
   "id": "05262196-dbd1-4f28-aa8f-26f9d2545af3",
   "metadata": {
    "scrolled": true
   },
   "outputs": [
    {
     "name": "stdout",
     "output_type": "stream",
     "text": [
      "3068394045081387622\n",
      "[\n",
      "  {\n",
      "    \"diaObjectId\": 3068394045081387622,\n",
      "    \"objectData\": {\n",
      "      \"nSources\": 2,\n",
      "      \"ra\": 279.2593618705359,\n",
      "      \"decl\": -47.829148302770776,\n",
      "      \"mjdmin\": 60487.05553157995,\n",
      "      \"mjdmax\": 60487.06067337382,\n",
      "      \"rasex\": \"18:37:2.247\",\n",
      "      \"decsex\": \"-47:49:44.934\",\n",
      "      \"ec_lon\": 276.8236290321008,\n",
      "      \"ec_lat\": -24.608947801242756,\n",
      "      \"now_mjd\": \"60542.35\",\n",
      "      \"mjdmin_ago\": 55.296937887585955,\n",
      "      \"mjdmax_ago\": 55.29179609371931,\n",
      "      \"discMjd\": 60487.05553157995,\n",
      "      \"discUtc\": \"2024-06-26 01:19:57\",\n",
      "      \"discMag\": \"-4028.78\\u00b1293.21\",\n",
      "      \"discFilter\": \"r\",\n",
      "      \"latestMjd\": 60487.06067337382,\n",
      "      \"latestUtc\": \"2024-06-26 01:27:22\",\n",
      "      \"latestMag\": \"-4338.21\\u00b1285.27\",\n",
      "      \"latestFilter\": \"r\",\n",
      "      \"peakMjd\": 60487.06067337382,\n",
      "      \"peakUtc\": \"2024-06-26 01:27:22\",\n",
      "      \"peakMag\": \"-4338.21\\u00b1285.27\",\n",
      "      \"peakFilter\": \"r\"\n",
      "    },\n",
      "    \"diaSources\": [\n",
      "      {\n",
      "        \"diasourceid\": 3068394056892547426,\n",
      "        \"midpointmjdtai\": 60487.06067337382,\n",
      "        \"ra\": 279.25935600463237,\n",
      "        \"decl\": -47.82913674168318,\n",
      "        \"band\": \"r\",\n",
      "        \"psfflux\": -4338.21240234375,\n",
      "        \"psffluxerr\": 285.2733459472656,\n",
      "        \"json\": \"\\n  \\\"diasourceid\\\": 3068394056892547426,\\n  \\\"midpointmjdtai\\\": 60487.06067337382,\\n  \\\"ra\\\": 279.25935600463237,\\n  \\\"decl\\\": -47.82913674168318,\\n  \\\"band\\\": \\\"r\\\",\\n  \\\"psfflux\\\": -4338.21240234375,\\n  \\\"psffluxerr\\\": 285.2733459472656\\n\",\n",
      "        \"mjd\": 60487.06067337382,\n",
      "        \"imjd\": 60487,\n",
      "        \"since_now\": -55.29179609371931,\n",
      "        \"utc\": \"2024-06-26 01:27:22\",\n",
      "        \"image_urls\": {\n",
      "          \"Science\": \"https://lasair-lsst.lsst.ac.uk/fits/60487/3068394056892547426_cutoutScience\",\n",
      "          \"Template\": \"https://lasair-lsst.lsst.ac.uk/fits/60487/3068394056892547426_cutoutTemplate\",\n",
      "          \"Difference\": \"https://lasair-lsst.lsst.ac.uk/fits/60487/3068394056892547426_cutoutDifference\"\n",
      "        }\n",
      "      },\n",
      "      {\n",
      "        \"diasourceid\": 3068394045081387622,\n",
      "        \"midpointmjdtai\": 60487.05553157995,\n",
      "        \"ra\": 279.2593677364421,\n",
      "        \"decl\": -47.82915986385809,\n",
      "        \"band\": \"r\",\n",
      "        \"psfflux\": -4028.7783203125,\n",
      "        \"psffluxerr\": 293.21478271484375,\n",
      "        \"json\": \"\\n  \\\"diasourceid\\\": 3068394045081387622,\\n  \\\"midpointmjdtai\\\": 60487.05553157995,\\n  \\\"ra\\\": 279.2593677364421,\\n  \\\"decl\\\": -47.82915986385809,\\n  \\\"band\\\": \\\"r\\\",\\n  \\\"psfflux\\\": -4028.7783203125,\\n  \\\"psffluxerr\\\": 293.21478271484375\\n\",\n",
      "        \"mjd\": 60487.05553157995,\n",
      "        \"imjd\": 60487,\n",
      "        \"since_now\": -55.296937887585955,\n",
      "        \"utc\": \"2024-06-26 01:19:57\",\n",
      "        \"image_urls\": {\n",
      "          \"Science\": \"https://lasair-lsst.lsst.ac.uk/fits/60487/3068394045081387622_cutoutScience\",\n",
      "          \"Template\": \"https://lasair-lsst.lsst.ac.uk/fits/60487/3068394045081387622_cutoutTemplate\",\n",
      "          \"Difference\": \"https://lasair-lsst.lsst.ac.uk/fits/60487/3068394045081387622_cutoutDifference\"\n",
      "        }\n",
      "      }\n",
      "    ],\n",
      "    \"diaForcedSources\": [\n",
      "      {\n",
      "        \"midpointmjdtai\": 60487.06067337382,\n",
      "        \"band\": \"r\",\n",
      "        \"psfflux\": -4312.9091796875,\n",
      "        \"psffluxerr\": 287.9658203125\n",
      "      }\n",
      "    ],\n",
      "    \"sherlock\": {\n",
      "      \"diaObjectId\": 3068394045081387622,\n",
      "      \"classification\": \"ORPHAN\",\n",
      "      \"association_type\": null,\n",
      "      \"catalogue_table_name\": null,\n",
      "      \"catalogue_object_id\": null,\n",
      "      \"catalogue_object_type\": null,\n",
      "      \"raDeg\": null,\n",
      "      \"decDeg\": null,\n",
      "      \"separationArcsec\": null,\n",
      "      \"northSeparationArcsec\": null,\n",
      "      \"eastSeparationArcsec\": null,\n",
      "      \"physical_separation_kpc\": null,\n",
      "      \"direct_distance\": null,\n",
      "      \"distance\": null,\n",
      "      \"z\": null,\n",
      "      \"photoZ\": null,\n",
      "      \"photoZErr\": null,\n",
      "      \"Mag\": null,\n",
      "      \"MagFilter\": null,\n",
      "      \"MagErr\": null,\n",
      "      \"classificationReliability\": null,\n",
      "      \"major_axis_arcsec\": null,\n",
      "      \"annotator\": \"https://github.com/thespacedoctor/sherlock/releases/tag/v2.3.1\",\n",
      "      \"additional_output\": \"http://lasair-lsst.lsst.ac.uk/api/sherlock/object/3068394045081387622\",\n",
      "      \"description\": \"No contexual information is available for this transient\",\n",
      "      \"summary\": null\n",
      "    },\n",
      "    \"annotations\": [],\n",
      "    \"image_urls\": {},\n",
      "    \"TNS\": {},\n",
      "    \"message\": \"Got 4 diaSources\"\n",
      "  }\n",
      "]\n"
     ]
    }
   ],
   "source": [
    "result = L.objects(objectId)\n",
    "print(json.dumps(result, indent=2))"
   ]
  }
 ],
 "metadata": {
  "kernelspec": {
   "display_name": "Python 3 (ipykernel)",
   "language": "python",
   "name": "python3"
  },
  "language_info": {
   "codemirror_mode": {
    "name": "ipython",
    "version": 3
   },
   "file_extension": ".py",
   "mimetype": "text/x-python",
   "name": "python",
   "nbconvert_exporter": "python",
   "pygments_lexer": "ipython3",
   "version": "3.9.6"
  }
 },
 "nbformat": 4,
 "nbformat_minor": 5
}
