{
 "cells": [
  {
   "cell_type": "markdown",
   "id": "58fd8388-49f7-4a9c-bc8c-ae6862571ffe",
   "metadata": {},
   "source": [
    "# Test notebook to exercise the alert consumers"
   ]
  },
  {
   "cell_type": "markdown",
   "id": "89bb9412-98ad-4158-b650-9ac9ba0b6d30",
   "metadata": {},
   "source": [
    "Important: change this to the correct import!"
   ]
  },
  {
   "cell_type": "code",
   "execution_count": 30,
   "id": "d5dacfd7-db01-41b5-83df-4e9479dab89b",
   "metadata": {},
   "outputs": [],
   "source": [
    "import sys\n",
    "sys.path.append('../../../lasair/lasair_api')"
   ]
  },
  {
   "cell_type": "markdown",
   "id": "6adbf6e9-cdb4-4ad0-8e3d-1d00a5c221c1",
   "metadata": {},
   "source": [
    "Change this to the endpoint, kafka server, and topic you want to test"
   ]
  },
  {
   "cell_type": "code",
   "execution_count": 31,
   "id": "da26750c-9e25-44a0-8f3f-891877c0b19c",
   "metadata": {},
   "outputs": [],
   "source": [
    "kafka_server = 'kafka.lsst.ac.uk:9092'\n",
    "topic        = \"lasair_2Zooniverse\""
   ]
  },
  {
   "cell_type": "markdown",
   "id": "e4e2bb17-12f8-40eb-a34e-a6250a172628",
   "metadata": {},
   "source": [
    "Fetch your API TOKEN from your Lasair account, top right under \"profile\""
   ]
  },
  {
   "cell_type": "code",
   "execution_count": 32,
   "id": "92bccfc8-56f0-4c43-badf-e9321ddeb265",
   "metadata": {},
   "outputs": [],
   "source": [
    "import json\n",
    "from lasair import LasairError, lasair_consumer\n",
    "import settings\n",
    "L = lasair(settings.API_TOKEN)"
   ]
  },
  {
   "cell_type": "markdown",
   "id": "2e4d5397-9f86-4c1c-b5d8-b47b82a67433",
   "metadata": {},
   "source": [
    "## Normal Consumer"
   ]
  },
  {
   "cell_type": "code",
   "execution_count": 33,
   "id": "0f0df6d0-b3af-4a35-ad8a-10da9622d679",
   "metadata": {},
   "outputs": [
    {
     "name": "stdout",
     "output_type": "stream",
     "text": [
      "No more messages available\n"
     ]
    }
   ],
   "source": [
    "group_id     = 'test120'\n",
    "consumer = lasair_consumer(kafka_server, group_id, topic)\n",
    "import json\n",
    "n = 0\n",
    "while n < 10:\n",
    "    msg = consumer.poll(timeout=20)\n",
    "    if msg is None:\n",
    "        break\n",
    "    if msg.error():\n",
    "        print(str(msg.error()))\n",
    "        break\n",
    "    jmsg = json.loads(msg.value())\n",
    "    print(json.dumps(jmsg, indent=2))\n",
    "    n += 1\n",
    "print('No more messages available')"
   ]
  },
  {
   "cell_type": "markdown",
   "id": "4838e28d-cd0a-401f-a1df-d436877b4125",
   "metadata": {},
   "source": [
    "## Rate Limited Consumer"
   ]
  },
  {
   "cell_type": "code",
   "execution_count": 34,
   "id": "e77dba21-4e39-4a2b-ac09-6bd31cad7f07",
   "metadata": {},
   "outputs": [
    {
     "name": "stdout",
     "output_type": "stream",
     "text": [
      "Created table\n"
     ]
    }
   ],
   "source": [
    "from lasair import RL_consumer\n",
    "group_id     = 'test120'\n",
    "sqllite_filename = './%s.sql' % topic\n",
    "rc = RL_consumer.lasair_RL_consumer(\n",
    "    kafka_server,\n",
    "    group_id,\n",
    "    topic,\n",
    "    sqllite_filename,\n",
    "    interval=1,  # day\n",
    "    verbose=True\n",
    ")"
   ]
  },
  {
   "cell_type": "code",
   "execution_count": 35,
   "id": "8c381e65-3d14-42d7-b897-412756590f50",
   "metadata": {},
   "outputs": [
    {
     "name": "stdout",
     "output_type": "stream",
     "text": [
      "lasair_2Zooniverse\n",
      "At 2024-08-20 10:52:33.438086\n"
     ]
    }
   ],
   "source": [
    "while 1:\n",
    "    msg = rc.poll()\n",
    "    if msg is None:\n",
    "        break;\n",
    "    objectId = json.loads(msg.value())['objectId']\n",
    "    print('---> object %s found at %s' % (objectId, RL_consumer.now_human()))\n",
    "rc.printall()"
   ]
  },
  {
   "cell_type": "code",
   "execution_count": null,
   "id": "9264189b-eed8-4e55-8f9d-fdd79656f321",
   "metadata": {},
   "outputs": [],
   "source": []
  }
 ],
 "metadata": {
  "kernelspec": {
   "display_name": "Python 3 (ipykernel)",
   "language": "python",
   "name": "python3"
  },
  "language_info": {
   "codemirror_mode": {
    "name": "ipython",
    "version": 3
   },
   "file_extension": ".py",
   "mimetype": "text/x-python",
   "name": "python",
   "nbconvert_exporter": "python",
   "pygments_lexer": "ipython3",
   "version": "3.9.6"
  }
 },
 "nbformat": 4,
 "nbformat_minor": 5
}
