{
 "cells": [
  {
   "cell_type": "markdown",
   "metadata": {
    "id": "s_NNxxs--tUJ"
   },
   "source": [
    "# Query objects coincident with a watchlist\n",
    "\n",
    "Demonstrates usage of:\n",
    "* /query/"
   ]
  },
  {
   "cell_type": "code",
   "execution_count": 1,
   "metadata": {
    "colab": {
     "base_uri": "https://localhost:8080/"
    },
    "id": "aHndouWzAIgl",
    "outputId": "9e7acd7b-1e5c-47da-b8af-1bdc59af2ab6"
   },
   "outputs": [],
   "source": [
    "#!pip install lasair"
   ]
  },
  {
   "cell_type": "code",
   "execution_count": 2,
   "metadata": {
    "id": "F6CBTs5x-tUP"
   },
   "outputs": [
    {
     "name": "stderr",
     "output_type": "stream",
     "text": [
      "/Users/rwillia5/Library/Python/3.9/lib/python/site-packages/urllib3/__init__.py:35: NotOpenSSLWarning: urllib3 v2 only supports OpenSSL 1.1.1+, currently the 'ssl' module is compiled with 'LibreSSL 2.8.3'. See: https://github.com/urllib3/urllib3/issues/3020\n",
      "  warnings.warn(\n"
     ]
    }
   ],
   "source": [
    "import settings\n",
    "from lasair import LasairError, lasair_client as lasair"
   ]
  },
  {
   "cell_type": "markdown",
   "metadata": {
    "id": "IzIWTox2-tUO"
   },
   "source": [
    "### Grab my Lasair API token\n",
    "Get your Lasair token before you start. You can log into [Lasair](https://lasair.lsst.ac.uk) and click \"My Profile\"\n",
    "at top right. Or use the command-line below.\n",
    "```bash\n",
    "curl --data \"username=myusername&password=***********\" https://lasair-ztf.lsst.ac.uk/api/auth-token/\n",
    "```\n",
    "Make a file called settings.py with a line like: `API_TOKEN = '0123456789abcdefxxxxxxxxxxxxxxxxxxxxxxxx'`"
   ]
  },
  {
   "cell_type": "markdown",
   "metadata": {
    "id": "5E4pWOod-tUQ"
   },
   "source": [
    "### Make an SQL query\n",
    "We are going to make an SQL query that includes a watchlist. \n",
    "Click the link to find out about the watchlist."
   ]
  },
  {
   "cell_type": "code",
   "execution_count": 3,
   "metadata": {},
   "outputs": [
    {
     "name": "stdout",
     "output_type": "stream",
     "text": [
      "See here for info: https://lasair-ztf.lsst.ac.uk/watchlists/1021/\n"
     ]
    }
   ],
   "source": [
    "wl_id = 1021\n",
    "# Catalogue of white dwarfs in Gaia EDR3 (Gentile+, 2021)\n",
    "print('See here for info: https://lasair-ztf.lsst.ac.uk/watchlists/%d/' % wl_id)"
   ]
  },
  {
   "cell_type": "code",
   "execution_count": 4,
   "metadata": {
    "id": "hPb5V104-tUQ"
   },
   "outputs": [],
   "source": [
    "selected = \"\"\"\n",
    "objects.objectId, watchlist_hits.name, watchlist_hits.arcsec\n",
    "\"\"\"\n",
    "\n",
    "# Join objects and watchlist \n",
    "tables = 'objects, watchlist:%d' % wl_id\n",
    "\n",
    "conditions = ''\n",
    "\n",
    "L = lasair(settings.API_TOKEN, endpoint = \"https://lasair-ztf.lsst.ac.uk/api\")\n",
    "try:\n",
    "    results = L.query(selected, tables, conditions, limit = 10)\n",
    "except LasairError as e:\n",
    "    print(e)\n"
   ]
  },
  {
   "cell_type": "code",
   "execution_count": 5,
   "metadata": {
    "colab": {
     "base_uri": "https://localhost:8080/"
    },
    "id": "5IMbU9A5-tUQ",
    "outputId": "75e05126-c35a-48eb-9903-b4a5c407ff22"
   },
   "outputs": [
    {
     "name": "stdout",
     "output_type": "stream",
     "text": [
      "ZTF17aaabavb WDJ052430.46+424450.46 0.26600\n",
      "ZTF17aaabehs WDJ051523.59+374754.42 0.25600\n",
      "ZTF17aaabfay WDJ074640.62+173412.82 0.14500\n",
      "ZTF17aaabpmv WDJ045452.12+491709.14 0.19300\n",
      "ZTF17aaabswj WDJ052503.71+393359.42 0.59400\n",
      "ZTF17aaacdos WDJ045316.87+381628.61 0.17600\n",
      "ZTF17aaadasj WDJ050613.11-040807.25 0.25900\n",
      "ZTF17aaaenha WDJ002156.38+375637.41 0.50300\n",
      "ZTF17aaaenof WDJ000627.21+491029.52 0.21700\n",
      "ZTF17aaaeslm WDJ010903.02+275010.04 0.15400\n"
     ]
    }
   ],
   "source": [
    "for row in results:\n",
    "    print(row['objectId'], \"%s\" % row['name'], \"%.5f\" % row['arcsec'])"
   ]
  }
 ],
 "metadata": {
  "colab": {
   "provenance": []
  },
  "kernelspec": {
   "display_name": "Python 3 (ipykernel)",
   "language": "python",
   "name": "python3"
  },
  "language_info": {
   "codemirror_mode": {
    "name": "ipython",
    "version": 3
   },
   "file_extension": ".py",
   "mimetype": "text/x-python",
   "name": "python",
   "nbconvert_exporter": "python",
   "pygments_lexer": "ipython3",
   "version": "3.9.6"
  }
 },
 "nbformat": 4,
 "nbformat_minor": 4
}
