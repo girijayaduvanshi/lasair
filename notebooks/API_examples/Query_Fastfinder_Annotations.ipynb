{
 "cells": [
  {
   "cell_type": "markdown",
   "metadata": {
    "id": "s_NNxxs--tUJ"
   },
   "source": [
    "# Query the Fastfinder annotations\n",
    "\n",
    "Demonstrates usage of:\n",
    "* /query/\n",
    "\n",
    "### Python (3 only) requirements - pip install\n",
    "lasair"
   ]
  },
  {
   "cell_type": "code",
   "execution_count": 14,
   "metadata": {
    "colab": {
     "base_uri": "https://localhost:8080/"
    },
    "id": "aHndouWzAIgl",
    "outputId": "9e7acd7b-1e5c-47da-b8af-1bdc59af2ab6"
   },
   "outputs": [
    {
     "name": "stdout",
     "output_type": "stream",
     "text": [
      "\u001b[33mDEPRECATION: Loading egg at /Users/roywilliams/Library/Python/3.11/lib/python/site-packages/pyglet-2.0.10-py3.11.egg is deprecated. pip 24.3 will enforce this behaviour change. A possible replacement is to use pip for package installation.. Discussion can be found at https://github.com/pypa/pip/issues/12330\u001b[0m\u001b[33m\n",
      "\u001b[0mRequirement already satisfied: lasair in /usr/local/lib/python3.11/site-packages (0.0.6)\n",
      "Requirement already satisfied: requests in /usr/local/lib/python3.11/site-packages (from lasair) (2.31.0)\n",
      "Requirement already satisfied: charset-normalizer<4,>=2 in /usr/local/lib/python3.11/site-packages (from requests->lasair) (3.0.1)\n",
      "Requirement already satisfied: idna<4,>=2.5 in /usr/local/lib/python3.11/site-packages (from requests->lasair) (3.4)\n",
      "Requirement already satisfied: urllib3<3,>=1.21.1 in /usr/local/lib/python3.11/site-packages (from requests->lasair) (1.26.14)\n",
      "Requirement already satisfied: certifi>=2017.4.17 in /usr/local/lib/python3.11/site-packages (from requests->lasair) (2022.12.7)\n"
     ]
    }
   ],
   "source": [
    "!pip install lasair"
   ]
  },
  {
   "cell_type": "markdown",
   "metadata": {
    "id": "IzIWTox2-tUO"
   },
   "source": [
    "### Grab my Lasair API token\n",
    "Get your Lasair token before you start. You can log into [Lasair](https://lasair.lsst.ac.uk) and click \"My Profile\"\n",
    "at top right. Or use the command-line below.\n",
    "```bash\n",
    "curl --data \"username=myusername&password=***********\" https://lasair-ztf.lsst.ac.uk/api/auth-token/\n",
    "```\n",
    "Make a file called settings.py with a line like: `API_TOKEN = '0123456789abcdefxxxxxxxxxxxxxxxxxxxxxxxx'`"
   ]
  },
  {
   "cell_type": "code",
   "execution_count": 15,
   "metadata": {
    "id": "F6CBTs5x-tUP"
   },
   "outputs": [],
   "source": [
    "import settings\n",
    "from astropy.time import Time\n",
    "import matplotlib.pyplot as plt\n",
    "from lasair import LasairError, lasair_client as lasair\n",
    "import requests"
   ]
  },
  {
   "cell_type": "code",
   "execution_count": 16,
   "metadata": {
    "id": "5E4pWOod-tUQ"
   },
   "outputs": [],
   "source": [
    "### Make a query using the JSON_EXTRACT function of SQL"
   ]
  },
  {
   "cell_type": "code",
   "execution_count": 17,
   "metadata": {
    "id": "hPb5V104-tUQ"
   },
   "outputs": [],
   "source": [
    "selected = \"\"\"\n",
    "objects.objectId, fastfinder.classification,\n",
    "JSON_EXTRACT(fastfinder.classdict, '$.lsst-r.absolute_peak_mag_val') as absrmag\n",
    "\"\"\"\n",
    "\n",
    "# Join objects and sherlock_classifications\n",
    "tables = 'objects,annotator:fastfinder'\n",
    "\n",
    "conditions = \"\"\"\n",
    "JSON_EXTRACT(fastfinder.classdict, '$.lsst-r.absolute_peak_mag_val') < -19\n",
    "\"\"\"\n",
    "\n",
    "L = lasair(settings.API_TOKEN)\n",
    "results = L.query(selected, tables, conditions, limit = 10)"
   ]
  },
  {
   "cell_type": "code",
   "execution_count": 18,
   "metadata": {
    "colab": {
     "base_uri": "https://localhost:8080/"
    },
    "id": "5IMbU9A5-tUQ",
    "outputId": "75e05126-c35a-48eb-9903-b4a5c407ff22"
   },
   "outputs": [
    {
     "name": "stdout",
     "output_type": "stream",
     "text": [
      "ZTF23aadjuwa SN -19.147\n",
      "ZTF23aacxofz SN -19.395\n",
      "ZTF23aacopzi SN -20.041\n",
      "ZTF23aadvnlm SN -19.249\n",
      "ZTF23aadvpwt SN -19.079\n",
      "ZTF23aadvzrh SN -22.959\n",
      "ZTF23aadqalu SN -19.441\n",
      "ZTF23aadvulr SN -20.625\n",
      "ZTF23aadnpbq SN -19.056\n",
      "ZTF23aadbzqx SN -19.23\n"
     ]
    }
   ],
   "source": [
    "for row in results:\n",
    "    print(row['objectId'],\n",
    "          \"%s\" % row['classification'],\n",
    "          \"%s\" % str(row['absrmag']))"
   ]
  },
  {
   "cell_type": "code",
   "execution_count": null,
   "metadata": {
    "id": "eEypR1ynzigp"
   },
   "outputs": [],
   "source": []
  }
 ],
 "metadata": {
  "colab": {
   "provenance": []
  },
  "kernelspec": {
   "display_name": "Python 3 (ipykernel)",
   "language": "python",
   "name": "python3"
  },
  "language_info": {
   "codemirror_mode": {
    "name": "ipython",
    "version": 3
   },
   "file_extension": ".py",
   "mimetype": "text/x-python",
   "name": "python",
   "nbconvert_exporter": "python",
   "pygments_lexer": "ipython3",
   "version": "3.11.6"
  }
 },
 "nbformat": 4,
 "nbformat_minor": 4
}
