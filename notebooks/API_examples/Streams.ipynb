{
  "nbformat": 4,
  "nbformat_minor": 0,
  "metadata": {
    "kernelspec": {
      "name": "python3",
      "display_name": "Python 3"
    },
    "colab": {
      "provenance": []
    },
    "language_info": {
      "name": "python"
    }
  },
  "cells": [
    {
      "cell_type": "markdown",
      "metadata": {
        "id": "Ylrt_EQ1Agr9"
      },
      "source": [
        "# Streams\n",
        "### Ken Smith\n",
        "Grab the list of streams that match a regular expression.  Interrogate a stream.\n",
        "\n",
        "Demonstrates usage of:\n",
        "* /streams/\n",
        "* /streams/```topic```\n",
        "\n",
        "\n",
        "### Python (3 only) requirements - pip install\n",
        "lasair"
      ]
    },
    {
      "cell_type": "code",
      "metadata": {
        "id": "aHndouWzAIgl",
        "colab": {
          "base_uri": "https://localhost:8080/"
        },
        "outputId": "3010f94b-8523-4726-faee-320d2b760f61"
      },
      "source": [
        "!pip install lasair"
      ],
      "execution_count": null,
      "outputs": [
        {
          "output_type": "stream",
          "name": "stdout",
          "text": [
            "Looking in indexes: https://pypi.org/simple, https://us-python.pkg.dev/colab-wheels/public/simple/\n",
            "Collecting lasair\n",
            "  Downloading lasair-0.0.4.tar.gz (11 kB)\n",
            "Requirement already satisfied: requests in /usr/local/lib/python3.7/dist-packages (from lasair) (2.23.0)\n",
            "Requirement already satisfied: certifi>=2017.4.17 in /usr/local/lib/python3.7/dist-packages (from requests->lasair) (2022.6.15)\n",
            "Requirement already satisfied: idna<3,>=2.5 in /usr/local/lib/python3.7/dist-packages (from requests->lasair) (2.10)\n",
            "Requirement already satisfied: urllib3!=1.25.0,!=1.25.1,<1.26,>=1.21.1 in /usr/local/lib/python3.7/dist-packages (from requests->lasair) (1.24.3)\n",
            "Requirement already satisfied: chardet<4,>=3.0.2 in /usr/local/lib/python3.7/dist-packages (from requests->lasair) (3.0.4)\n",
            "Building wheels for collected packages: lasair\n",
            "  Building wheel for lasair (setup.py) ... \u001b[?25l\u001b[?25hdone\n",
            "  Created wheel for lasair: filename=lasair-0.0.4-py3-none-any.whl size=12224 sha256=178a16acf5a727502daba9beeccbc8712c1ceb6f406fcb63a2bdfc086c1375a2\n",
            "  Stored in directory: /root/.cache/pip/wheels/00/52/95/939af67492224772eafb4e919063a53adb994c7d46333230c4\n",
            "Successfully built lasair\n",
            "Installing collected packages: lasair\n",
            "Successfully installed lasair-0.0.4\n"
          ]
        }
      ]
    },
    {
      "cell_type": "markdown",
      "metadata": {
        "id": "dqc-shVtAgsD"
      },
      "source": [
        "### Grab my Lasair API token\n",
        "Get your token before you start.  If you haven't got a Lasair account you can register here: https://lasair-ztf.lsst.ac.uk/signup.  Use the curl command below to get your token & set the last line of the next cell to be your token ID.\n",
        "\n",
        "```bash\n",
        "curl --data \"username=myusername&password=***********\" https://lasair-ztf.lsst.ac.uk/api/auth-token/\n",
        "```\n",
        "You should get the following response:\n",
        "```json\n",
        "{\"token\":\"4b762569bb349bd8d60f1bc7da3f39dbfaefff9a\"}\n",
        "```\n",
        "We can use this token temporarily, but note that this test token will only allow a very small number of requests per hour!  Hence it may be disabled when you come to test this code."
      ]
    },
    {
      "cell_type": "code",
      "metadata": {
        "id": "BnZS3LDYAgsE"
      },
      "source": [
        "from lasair import LasairError, lasair_client as lasair\n",
        "import json\n",
        "\n",
        "token = \"4b762569bb349bd8d60f1bc7da3f39dbfaefff9a\""
      ],
      "execution_count": null,
      "outputs": []
    },
    {
      "cell_type": "markdown",
      "metadata": {
        "id": "y5xbqJbOAgsF"
      },
      "source": [
        "### Get all the streams\n",
        "Get all the available streams."
      ]
    },
    {
      "cell_type": "code",
      "metadata": {
        "id": "PDNj46iOAgsF",
        "colab": {
          "base_uri": "https://localhost:8080/"
        },
        "outputId": "9fd60f10-e67f-46e7-872b-4ab4ae326f93"
      },
      "source": [
        "regex= '.*'\n",
        "\n",
        "L = lasair(token)\n",
        "\n",
        "try:\n",
        "    result = L.streams_topics(regex)\n",
        "except LasairError as e:\n",
        "    print(e)\n",
        "\n",
        "for row in result:\n",
        "    print(row['topic'], row['more_info'])\n"
      ],
      "execution_count": null,
      "outputs": [
        {
          "output_type": "stream",
          "name": "stdout",
          "text": [
            "lasair_2OrphanSearch https://lasair-ztf.lsst.ac.uk/query/1/\n",
            "lasair_2SN-likecandidates https://lasair-ztf.lsst.ac.uk/query/2/\n",
            "lasair_2AllnucleartransientsandTDEcandidates https://lasair-ztf.lsst.ac.uk/query/3/\n",
            "lasair_2SherlockCVs https://lasair-ztf.lsst.ac.uk/query/4/\n",
            "lasair_2RemoteCFroObject https://lasair-ztf.lsst.ac.uk/query/10/\n",
            "lasair_2C-SNAILS https://lasair-ztf.lsst.ac.uk/query/15/\n",
            "lasair_2Lightweight https://lasair-ztf.lsst.ac.uk/query/41/\n",
            "lasair_51recentSNcandidateslargedm https://lasair-ztf.lsst.ac.uk/query/50/\n",
            "lasair_51recentSNcandidateslargedmdtfainthost https://lasair-ztf.lsst.ac.uk/query/51/\n",
            "lasair_51recentSNcandidateshostspec-z0separation1arcsecorderedphysicalseparation https://lasair-ztf.lsst.ac.uk/query/57/\n",
            "lasair_2TNSsources https://lasair-ztf.lsst.ac.uk/query/60/\n",
            "lasair_2WhiteDwarfdips https://lasair-ztf.lsst.ac.uk/query/90/\n",
            "lasair_23MattsTDEs https://lasair-ztf.lsst.ac.uk/query/94/\n",
            "lasair_23MattsTDEsEA https://lasair-ztf.lsst.ac.uk/query/95/\n",
            "lasair_144TransientsWithin200Mpc https://lasair-ztf.lsst.ac.uk/query/97/\n",
            "lasair_51recentSNcandidateshostspec-z https://lasair-ztf.lsst.ac.uk/query/99/\n",
            "lasair_2RecentTNS https://lasair-ztf.lsst.ac.uk/query/100/\n",
            "lasair_155TDECandidates https://lasair-ztf.lsst.ac.uk/query/102/\n",
            "lasair_160YoungBlueSNCandidates https://lasair-ztf.lsst.ac.uk/query/115/\n",
            "lasair_160BasicYoungSNCandidates https://lasair-ztf.lsst.ac.uk/query/116/\n",
            "lasair_23CLQ-candidates https://lasair-ztf.lsst.ac.uk/query/117/\n",
            "lasair_143YoungSNeFilterV2 https://lasair-ztf.lsst.ac.uk/query/120/\n",
            "lasair_143NuclearTransientsV2 https://lasair-ztf.lsst.ac.uk/query/121/\n",
            "lasair_2fink_early_sn https://lasair-ztf.lsst.ac.uk/query/122/\n",
            "lasair_143BrightSNe https://lasair-ztf.lsst.ac.uk/query/125/\n",
            "lasair_165NewTDEs https://lasair-ztf.lsst.ac.uk/query/126/\n",
            "lasair_165NewTDEsEA https://lasair-ztf.lsst.ac.uk/query/127/\n",
            "lasair_2AlerceLC https://lasair-ztf.lsst.ac.uk/query/145/\n",
            "lasair_2TestAnnotations https://lasair-ztf.lsst.ac.uk/query/147/\n",
            "lasair_168ContinualTDEmorethan300daysdetection https://lasair-ztf.lsst.ac.uk/query/148/\n",
            "lasair_19tidesSelect https://lasair-ztf.lsst.ac.uk/query/158/\n",
            "lasair_143HighCadenceSNeFeederStream https://lasair-ztf.lsst.ac.uk/query/160/\n",
            "lasair_242SN-likecandidatesinlast14days https://lasair-ztf.lsst.ac.uk/query/202/\n",
            "lasair_242AllnucleartransientsandTDEcandidates https://lasair-ztf.lsst.ac.uk/query/203/\n",
            "lasair_223C-SNAILS https://lasair-ztf.lsst.ac.uk/query/215/\n",
            "lasair_350SNCandidatesforMCARG https://lasair-ztf.lsst.ac.uk/query/229/\n",
            "lasair_405SNcandidateswithhighcadence https://lasair-ztf.lsst.ac.uk/query/230/\n",
            "lasair_202brightstars https://lasair-ztf.lsst.ac.uk/query/234/\n",
            "lasair_418SN-likethings https://lasair-ztf.lsst.ac.uk/query/244/\n",
            "lasair_418SN-likethings2 https://lasair-ztf.lsst.ac.uk/query/246/\n",
            "lasair_202Giantbinaries https://lasair-ztf.lsst.ac.uk/query/252/\n",
            "lasair_434GiantBinariesChange https://lasair-ztf.lsst.ac.uk/query/253/\n",
            "lasair_251SNcandidatesandPS1hostsmagsclassification https://lasair-ztf.lsst.ac.uk/query/284/\n",
            "lasair_251noPS1counterpartORPHAN https://lasair-ztf.lsst.ac.uk/query/301/\n",
            "lasair_546Nucleartransients https://lasair-ztf.lsst.ac.uk/query/351/\n",
            "lasair_358CODEXextPlancklast90 https://lasair-ztf.lsst.ac.uk/query/353/\n",
            "lasair_555ContinualTDEmorethan300daysdetection https://lasair-ztf.lsst.ac.uk/query/355/\n",
            "lasair_358redmapper https://lasair-ztf.lsst.ac.uk/query/358/\n",
            "lasair_23CLQ-candidates-1.5mag https://lasair-ztf.lsst.ac.uk/query/361/\n",
            "lasair_2crossmatchCVcatalogue https://lasair-ztf.lsst.ac.uk/query/365/\n",
            "lasair_577FlaresinIntermediateSeyfertgalaxies https://lasair-ztf.lsst.ac.uk/query/366/\n",
            "lasair_160RapidlyRisingYoungTransients https://lasair-ztf.lsst.ac.uk/query/367/\n",
            "lasair_577BASSDR1sources https://lasair-ztf.lsst.ac.uk/query/368/\n",
            "lasair_358redMaPPerquery https://lasair-ztf.lsst.ac.uk/query/369/\n",
            "lasair_2BrightSNe https://lasair-ztf.lsst.ac.uk/query/370/\n",
            "lasair_420CVandXfromVSX_simple https://lasair-ztf.lsst.ac.uk/query/400/\n",
            "lasair_603FBot_02 https://lasair-ztf.lsst.ac.uk/query/414/\n",
            "lasair_603Copy_Of_SN-likecandidates_with_mod_brightening https://lasair-ztf.lsst.ac.uk/query/415/\n"
          ]
        }
      ]
    },
    {
      "cell_type": "markdown",
      "metadata": {
        "id": "3nb2eSxEAgsG"
      },
      "source": [
        "### Get info on a particular topic"
      ]
    },
    {
      "cell_type": "code",
      "metadata": {
        "scrolled": true,
        "id": "ubTAG-SIAgsG",
        "colab": {
          "base_uri": "https://localhost:8080/"
        },
        "outputId": "642a7198-b940-45db-b42a-9a760648b33b"
      },
      "source": [
        "topic = 'lasair_2C-SNAILS'\n",
        "\n",
        "\n",
        "#try:\n",
        "#    result = L.streams(topic, limit=1)\n",
        "#except LasairError as e:\n",
        "#    print(e)\n",
        "\n",
        "result = L.streams(topic, limit=1)\n",
        "\n",
        "\n",
        "\n",
        "for row in result:\n",
        "    print(json.dumps(row, indent=2))\n"
      ],
      "execution_count": null,
      "outputs": [
        {
          "output_type": "stream",
          "text": [
            "{\n",
            "  \"objectId\": \"ZTF21aaskyqx\",\n",
            "  \"g\": 19.1555,\n",
            "  \"g_max\": 18.9489,\n",
            "  \"g_host\": 19.6528,\n",
            "  \"r\": 19.0868,\n",
            "  \"r_max\": 19.0868,\n",
            "  \"r_host\": 18.884,\n",
            "  \"ra\": 306.26913464999996,\n",
            "  \"decl\": 6.193986475,\n",
            "  \"disc_days\": -642.1,\n",
            "  \"latest_days\": -651.1,\n",
            "  \"classification\": \"NT\",\n",
            "  \"UTC\": \"2021-04-13 14:44:02\"\n",
            "}\n"
          ],
          "name": "stdout"
        }
      ]
    }
  ]
}