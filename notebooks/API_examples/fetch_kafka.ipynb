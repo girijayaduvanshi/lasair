{
  "nbformat": 4,
  "nbformat_minor": 0,
  "metadata": {
    "colab": {
      "provenance": []
    },
    "kernelspec": {
      "name": "python3",
      "display_name": "Python 3"
    },
    "language_info": {
      "name": "python"
    }
  },
  "cells": [
    {
      "cell_type": "markdown",
      "metadata": {
        "id": "7GwRxitiGF_I"
      },
      "source": [
        "**Fetching Kafka streams from Lasair**\n",
        "\n",
        "A simple program to fetch the results of a streaming query from Lasair. First we make sure the kafka consumer is installed."
      ]
    },
    {
      "cell_type": "code",
      "metadata": {
        "colab": {
          "base_uri": "https://localhost:8080/"
        },
        "id": "HNpZVXXhoDVF",
        "outputId": "5bbaf01d-9e9c-4235-f4b0-ebc0137f4c0d"
      },
      "source": [
        "!pip install confluent_kafka\n",
        "!pip install lasair\n",
        "from lasair import lasair_consumer"
      ],
      "execution_count": null,
      "outputs": [
        {
          "output_type": "stream",
          "name": "stdout",
          "text": [
            "Requirement already satisfied: confluent_kafka in /usr/local/lib/python3.7/dist-packages (1.7.0)\n",
            "Requirement already satisfied: lasair in /usr/local/lib/python3.7/dist-packages (0.0.2)\n",
            "Requirement already satisfied: requests in /usr/local/lib/python3.7/dist-packages (from lasair) (2.23.0)\n",
            "Requirement already satisfied: urllib3!=1.25.0,!=1.25.1,<1.26,>=1.21.1 in /usr/local/lib/python3.7/dist-packages (from requests->lasair) (1.24.3)\n",
            "Requirement already satisfied: idna<3,>=2.5 in /usr/local/lib/python3.7/dist-packages (from requests->lasair) (2.10)\n",
            "Requirement already satisfied: chardet<4,>=3.0.2 in /usr/local/lib/python3.7/dist-packages (from requests->lasair) (3.0.4)\n",
            "Requirement already satisfied: certifi>=2017.4.17 in /usr/local/lib/python3.7/dist-packages (from requests->lasair) (2021.5.30)\n"
          ]
        }
      ]
    },
    {
      "cell_type": "markdown",
      "metadata": {
        "id": "ExgJrC0mIMuc"
      },
      "source": [
        "Here we choose the \"Supernova candidate\" query (https://lasair-iris.roe.ac.uk/query/2/), which identifies possible supernovae."
      ]
    },
    {
      "cell_type": "code",
      "metadata": {
        "id": "x-lNJRxzDbs3"
      },
      "source": [
        "my_topic = 'lasair_2SN-likecandidates'"
      ],
      "execution_count": null,
      "outputs": []
    },
    {
      "cell_type": "markdown",
      "metadata": {
        "id": "gLni3ZijGf38"
      },
      "source": [
        "The group_id is how the server remembers what it has already sent. Here we use a random string, and thus start from the beginning each time. For continuous (daemon) consumption, the group_id should be a fixed string."
      ]
    },
    {
      "cell_type": "code",
      "metadata": {
        "colab": {
          "base_uri": "https://localhost:8080/"
        },
        "id": "OMzg-9aJoXxR",
        "outputId": "ae4ce554-cef5-465e-de46-c520063122db"
      },
      "source": [
        "from random import randrange\n",
        "group_id = 'test{}'.format(randrange(1000))\n",
        "print('Using group_id', group_id)"
      ],
      "execution_count": null,
      "outputs": [
        {
          "output_type": "stream",
          "name": "stdout",
          "text": [
            "Using group_id test728\n"
          ]
        }
      ]
    },
    {
      "cell_type": "code",
      "metadata": {
        "id": "dKCF_DSRhGWv"
      },
      "source": [
        "consumer = lasair_consumer('kafka.lsst.ac.uk:9092', group_id, my_topic)"
      ],
      "execution_count": null,
      "outputs": []
    },
    {
      "cell_type": "markdown",
      "metadata": {
        "id": "uekzswpiIUxx"
      },
      "source": [
        "Now pick the first ten from the stream, convert the JSON to a python object, then convert it back to print."
      ]
    },
    {
      "cell_type": "code",
      "metadata": {
        "id": "rrRdY0HOA40r",
        "colab": {
          "base_uri": "https://localhost:8080/"
        },
        "outputId": "48271162-1606-486c-93ea-96349b1aa4fb"
      },
      "source": [
        "import json\n",
        "n = 0\n",
        "while n < 10:\n",
        "  msg = consumer.poll(timeout=20)\n",
        "  if msg is None:\n",
        "    break\n",
        "  if msg.error():\n",
        "    print(str(msg.error()))\n",
        "    break\n",
        "  jmsg = json.loads(msg.value())\n",
        "  print(json.dumps(jmsg, indent=2))\n",
        "  n += 1"
      ],
      "execution_count": null,
      "outputs": [
        {
          "output_type": "stream",
          "name": "stdout",
          "text": [
            "{\n",
            "  \"objectId\": \"ZTF19aarpymc\",\n",
            "  \"ramean\": 284.8236727909091,\n",
            "  \"decmean\": 29.023684227272724,\n",
            "  \"mjdmin\": 59450.24530090019,\n",
            "  \"mjdmax\": 59480.13614579989,\n",
            "  \"magrmin\": 17.9646,\n",
            "  \"rmag\": 17.9914,\n",
            "  \"classification\": \"SN\",\n",
            "  \"score\": \"Not Near PS1 star\",\n",
            "  \"UTC\": \"2021-09-23 05:18:43\"\n",
            "}\n",
            "{\n",
            "  \"objectId\": \"ZTF18aatybbp\",\n",
            "  \"ramean\": 253.33768108888884,\n",
            "  \"decmean\": 13.22921188888889,\n",
            "  \"mjdmin\": 59452.19438660005,\n",
            "  \"mjdmax\": 59480.13854169985,\n",
            "  \"magrmin\": 18.363,\n",
            "  \"rmag\": 18.9943,\n",
            "  \"classification\": \"SN\",\n",
            "  \"score\": \"Not Near PS1 star\",\n",
            "  \"UTC\": \"2021-09-23 05:28:06\"\n",
            "}\n",
            "{\n",
            "  \"objectId\": \"ZTF21abwolgh\",\n",
            "  \"ramean\": 262.9043249222222,\n",
            "  \"decmean\": 21.165737755555554,\n",
            "  \"mjdmin\": 59452.18787040003,\n",
            "  \"mjdmax\": 59480.13901619986,\n",
            "  \"magrmin\": 19.8749,\n",
            "  \"rmag\": 19.8749,\n",
            "  \"classification\": \"SN\",\n",
            "  \"score\": \"Not Near PS1 star\",\n",
            "  \"UTC\": \"2021-09-23 05:28:06\"\n",
            "}\n",
            "{\n",
            "  \"objectId\": \"ZTF18abrwpvo\",\n",
            "  \"ramean\": 261.09056263636364,\n",
            "  \"decmean\": 6.643767381818182,\n",
            "  \"mjdmin\": 59450.17246530019,\n",
            "  \"mjdmax\": 59480.13807869982,\n",
            "  \"magrmin\": 17.9213,\n",
            "  \"rmag\": 18.2018,\n",
            "  \"classification\": \"NT\",\n",
            "  \"score\": \"Within 2arcsec of PS1 star\",\n",
            "  \"UTC\": \"2021-09-23 05:28:06\"\n",
            "}\n",
            "{\n",
            "  \"objectId\": \"ZTF19aaticbv\",\n",
            "  \"ramean\": 287.645349725,\n",
            "  \"decmean\": 25.9722906125,\n",
            "  \"mjdmin\": 59462.27540510008,\n",
            "  \"mjdmax\": 59480.13614579989,\n",
            "  \"magrmin\": 17.6897,\n",
            "  \"rmag\": 17.7796,\n",
            "  \"classification\": \"SN\",\n",
            "  \"score\": \"Within 2arcsec of PS1 star\",\n",
            "  \"UTC\": \"2021-09-23 05:28:06\"\n",
            "}\n",
            "{\n",
            "  \"objectId\": \"ZTF18aawkndr\",\n",
            "  \"ramean\": 288.38556981999994,\n",
            "  \"decmean\": 14.698100226666668,\n",
            "  \"mjdmin\": 59452.29136569984,\n",
            "  \"mjdmax\": 59480.13469910016,\n",
            "  \"magrmin\": 17.2183,\n",
            "  \"rmag\": 17.5634,\n",
            "  \"classification\": \"SN\",\n",
            "  \"score\": \"Within 2arcsec of PS1 star\",\n",
            "  \"UTC\": \"2021-09-23 05:28:06\"\n",
            "}\n",
            "{\n",
            "  \"objectId\": \"ZTF18ablrlbm\",\n",
            "  \"ramean\": 253.21428276111112,\n",
            "  \"decmean\": 17.447512294444447,\n",
            "  \"mjdmin\": 59450.15969910007,\n",
            "  \"mjdmax\": 59480.1404281999,\n",
            "  \"magrmin\": 18.1343,\n",
            "  \"rmag\": 18.1343,\n",
            "  \"classification\": \"NT\",\n",
            "  \"score\": \"Not Near PS1 star\",\n",
            "  \"UTC\": \"2021-09-23 05:28:06\"\n",
            "}\n",
            "{\n",
            "  \"objectId\": \"ZTF18abbmmuf\",\n",
            "  \"ramean\": 287.55836505,\n",
            "  \"decmean\": 29.103809972222223,\n",
            "  \"mjdmin\": 59452.19053239981,\n",
            "  \"mjdmax\": 59480.13614579989,\n",
            "  \"magrmin\": 14.9817,\n",
            "  \"rmag\": 19.1197,\n",
            "  \"classification\": \"SN\",\n",
            "  \"score\": \"Within 2arcsec of PS1 star\",\n",
            "  \"UTC\": \"2021-09-23 05:28:06\"\n",
            "}\n",
            "{\n",
            "  \"objectId\": \"ZTF18abaizsn\",\n",
            "  \"ramean\": 292.35204999999996,\n",
            "  \"decmean\": 24.806782375,\n",
            "  \"mjdmin\": 59473.279097199906,\n",
            "  \"mjdmax\": 59480.1356366002,\n",
            "  \"magrmin\": null,\n",
            "  \"rmag\": null,\n",
            "  \"classification\": \"SN\",\n",
            "  \"score\": \"Within 2arcsec of PS1 star\",\n",
            "  \"UTC\": \"2021-09-23 05:36:39\"\n",
            "}\n",
            "{\n",
            "  \"objectId\": \"ZTF18aaueamh\",\n",
            "  \"ramean\": 289.57686751304357,\n",
            "  \"decmean\": 24.378136599999998,\n",
            "  \"mjdmin\": 59450.24530090019,\n",
            "  \"mjdmax\": 59480.1356366002,\n",
            "  \"magrmin\": 17.1222,\n",
            "  \"rmag\": 18.351,\n",
            "  \"classification\": \"SN\",\n",
            "  \"score\": \"Not Near PS1 star\",\n",
            "  \"UTC\": \"2021-09-23 05:36:39\"\n",
            "}\n"
          ]
        }
      ]
    }
  ]
}